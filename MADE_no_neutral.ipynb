{
  "cells": [
    {
      "cell_type": "markdown",
      "metadata": {
        "id": "view-in-github",
        "colab_type": "text"
      },
      "source": [
        "<a href=\"https://colab.research.google.com/github/mykolesiko/eeg_article/blob/main/MADE_no_neutral.ipynb\" target=\"_parent\"><img src=\"https://colab.research.google.com/assets/colab-badge.svg\" alt=\"Open In Colab\"/></a>"
      ]
    },
    {
      "cell_type": "code",
      "execution_count": 2,
      "metadata": {
        "colab": {
          "base_uri": "https://localhost:8080/"
        },
        "id": "OPV7OMEyMUsE",
        "outputId": "16e5b70c-8880-4818-e7bd-8a3d5146ae6f"
      },
      "outputs": [
        {
          "output_type": "stream",
          "name": "stdout",
          "text": [
            "Drive already mounted at /content/drive; to attempt to forcibly remount, call drive.mount(\"/content/drive\", force_remount=True).\n"
          ]
        }
      ],
      "source": [
        "from google.colab import drive\n",
        "drive.mount('/content/drive')"
      ]
    },
    {
      "cell_type": "code",
      "execution_count": 3,
      "metadata": {
        "id": "zsc16lfqWOxG"
      },
      "outputs": [],
      "source": [
        "import os\n",
        "os.chdir(\"/content/drive/MyDrive/MADE/Project/deap\")"
      ]
    },
    {
      "cell_type": "code",
      "execution_count": 4,
      "metadata": {
        "colab": {
          "base_uri": "https://localhost:8080/"
        },
        "id": "NlKbxV13KPnk",
        "outputId": "a40e91e3-92be-47f8-d5ef-48ae1d326bc7"
      },
      "outputs": [
        {
          "output_type": "stream",
          "name": "stdout",
          "text": [
            "Looking in indexes: https://pypi.org/simple, https://us-python.pkg.dev/colab-wheels/public/simple/\n",
            "Collecting mrmr_selection\n",
            "  Downloading mrmr_selection-0.2.5-py3-none-any.whl (24 kB)\n",
            "Requirement already satisfied: joblib in /usr/local/lib/python3.7/dist-packages (from mrmr_selection) (1.1.0)\n",
            "Requirement already satisfied: tqdm in /usr/local/lib/python3.7/dist-packages (from mrmr_selection) (4.64.0)\n",
            "Requirement already satisfied: sklearn in /usr/local/lib/python3.7/dist-packages (from mrmr_selection) (0.0)\n",
            "Requirement already satisfied: pandas>=1.0.3 in /usr/local/lib/python3.7/dist-packages (from mrmr_selection) (1.3.5)\n",
            "Requirement already satisfied: scipy in /usr/local/lib/python3.7/dist-packages (from mrmr_selection) (1.4.1)\n",
            "Collecting category-encoders\n",
            "  Downloading category_encoders-2.4.1-py2.py3-none-any.whl (80 kB)\n",
            "\u001b[K     |████████████████████████████████| 80 kB 4.1 MB/s \n",
            "\u001b[?25hRequirement already satisfied: numpy>=1.18.1 in /usr/local/lib/python3.7/dist-packages (from mrmr_selection) (1.21.6)\n",
            "Requirement already satisfied: jinja2 in /usr/local/lib/python3.7/dist-packages (from mrmr_selection) (2.11.3)\n",
            "Requirement already satisfied: pytz>=2017.3 in /usr/local/lib/python3.7/dist-packages (from pandas>=1.0.3->mrmr_selection) (2022.1)\n",
            "Requirement already satisfied: python-dateutil>=2.7.3 in /usr/local/lib/python3.7/dist-packages (from pandas>=1.0.3->mrmr_selection) (2.8.2)\n",
            "Requirement already satisfied: six>=1.5 in /usr/local/lib/python3.7/dist-packages (from python-dateutil>=2.7.3->pandas>=1.0.3->mrmr_selection) (1.15.0)\n",
            "Requirement already satisfied: scikit-learn>=0.20.0 in /usr/local/lib/python3.7/dist-packages (from category-encoders->mrmr_selection) (1.0.2)\n",
            "Requirement already satisfied: patsy>=0.5.1 in /usr/local/lib/python3.7/dist-packages (from category-encoders->mrmr_selection) (0.5.2)\n",
            "Requirement already satisfied: statsmodels>=0.9.0 in /usr/local/lib/python3.7/dist-packages (from category-encoders->mrmr_selection) (0.10.2)\n",
            "Requirement already satisfied: threadpoolctl>=2.0.0 in /usr/local/lib/python3.7/dist-packages (from scikit-learn>=0.20.0->category-encoders->mrmr_selection) (3.1.0)\n",
            "Requirement already satisfied: MarkupSafe>=0.23 in /usr/local/lib/python3.7/dist-packages (from jinja2->mrmr_selection) (2.0.1)\n",
            "Installing collected packages: category-encoders, mrmr-selection\n",
            "Successfully installed category-encoders-2.4.1 mrmr-selection-0.2.5\n"
          ]
        }
      ],
      "source": [
        "pip install mrmr_selection"
      ]
    },
    {
      "cell_type": "code",
      "execution_count": 5,
      "metadata": {
        "colab": {
          "base_uri": "https://localhost:8080/"
        },
        "id": "enD1UFD0r-TF",
        "outputId": "d2557972-8a6f-42c5-b2ee-58a224d3d83c"
      },
      "outputs": [
        {
          "output_type": "stream",
          "name": "stdout",
          "text": [
            "Looking in indexes: https://pypi.org/simple, https://us-python.pkg.dev/colab-wheels/public/simple/\n",
            "Collecting pymrmr\n",
            "  Downloading pymrmr-0.1.11.tar.gz (69 kB)\n",
            "\u001b[K     |████████████████████████████████| 69 kB 3.3 MB/s \n",
            "\u001b[?25hRequirement already satisfied: numpy>=1.19.5 in /usr/local/lib/python3.7/dist-packages (from pymrmr) (1.21.6)\n",
            "Building wheels for collected packages: pymrmr\n",
            "  Building wheel for pymrmr (setup.py) ... \u001b[?25l\u001b[?25hdone\n",
            "  Created wheel for pymrmr: filename=pymrmr-0.1.11-cp37-cp37m-linux_x86_64.whl size=276661 sha256=f197f3d4616b8f0d715427899073fcd1a95f2852e7ba34bfe38654b7112528d7\n",
            "  Stored in directory: /root/.cache/pip/wheels/81/95/66/05731ac334bc74a1251a727af18eb28dc027217ee817a0cab6\n",
            "Successfully built pymrmr\n",
            "Installing collected packages: pymrmr\n",
            "Successfully installed pymrmr-0.1.11\n"
          ]
        }
      ],
      "source": [
        "!pip install -U pymrmr"
      ]
    },
    {
      "cell_type": "code",
      "execution_count": 6,
      "metadata": {
        "id": "TFe1KHKPtSJM"
      },
      "outputs": [],
      "source": [
        "import pymrmr"
      ]
    },
    {
      "cell_type": "code",
      "execution_count": 7,
      "metadata": {
        "id": "UJeF0XZWNYFe"
      },
      "outputs": [],
      "source": [
        "import pickle\n",
        "x = pickle.load(open('./data_preprocessed_python/s01.dat', 'rb'), encoding='latin1')"
      ]
    },
    {
      "cell_type": "code",
      "execution_count": 8,
      "metadata": {
        "id": "4hfdlSK5RKwl"
      },
      "outputs": [],
      "source": [
        "data = x['data']\n",
        "labels = x['labels']"
      ]
    },
    {
      "cell_type": "markdown",
      "metadata": {
        "id": "WJbPGmAkj_BK"
      },
      "source": [
        "The logarithms of the spectral power from\n",
        "theta (4-8 Hz), slow alpha (8-10 Hz), alpha (8-12 Hz), beta\n",
        "(12-30Hz) and gamma (30+ Hz) bands were extracted\n",
        "from all 32 electrodes as features. In addition to power\n",
        "spectral features the difference between the spectral\n",
        "power of all the symmetrical pairs of electrodes on\n",
        "the right and left hemisphere was extracted to measure\n",
        "the possible asymmetry in the brain activities due to\n",
        "emotional stimuli. "
      ]
    },
    {
      "cell_type": "markdown",
      "metadata": {
        "id": "dLFmS4HlhgM6"
      },
      "source": [
        "Пары симметричных каналов слева-справа и спереди-сзади"
      ]
    },
    {
      "cell_type": "code",
      "execution_count": 9,
      "metadata": {
        "id": "kXdnb4Nyju7c"
      },
      "outputs": [],
      "source": [
        "import scipy\n",
        "from  scipy import signal\n",
        "freq, power = signal.welch(data[0][0], fs=128.0, window='hanning', nperseg=256, noverlap=None, nfft=None, detrend='constant', return_onesided=True, scaling='density', axis=-1)\n",
        "freq_ranges = [range(4,9), range(8,13), range(12, 31), range(30,48), range(12, 15), range(15, 20)]\n",
        "pairs_canals = [[1, 17], [2, 18], [3, 20], [4, 21], [5, 22], [6, 23], [7, 25], [8, 26], [9, 27], [10, 28], [11, 29], [12, 30], [13, 31], [14, 32]]\n",
        "#FC5-CP5, FC1-CP1, FC2-CP2, FC6-CP6, F7-P7, F3-P3, Fz-Pz,F4-P4, F8-P8, Fp1-O1, Fp2-O2\n",
        "pairs_canals_1 = [[6, 21], [5, 9], [26, 30], [21, 25], [3, 11], [4, 12], [31, 32], [27, 19], [28, 20], [1, 15], [30, 17] ]\n",
        "import numpy as np\n",
        "import scipy\n",
        "from scipy import stats\n",
        "freq_resolution = max(freq)/(len(freq) - 1)\n",
        "max_freq = 128\n",
        "NVIDEOS = 40\n",
        "NCANALS = 32"
      ]
    },
    {
      "cell_type": "code",
      "execution_count": 10,
      "metadata": {
        "colab": {
          "base_uri": "https://localhost:8080/"
        },
        "id": "eq_UE04PM3nq",
        "outputId": "4d60c5f8-874a-47f8-d99e-a292d2872f43"
      },
      "outputs": [
        {
          "output_type": "stream",
          "name": "stdout",
          "text": [
            "[ 0.   0.5  1.   1.5  2.   2.5  3.   3.5  4.   4.5  5.   5.5  6.   6.5\n",
            "  7.   7.5  8.   8.5  9.   9.5 10.  10.5 11.  11.5 12.  12.5 13.  13.5\n",
            " 14.  14.5 15.  15.5 16.  16.5 17.  17.5 18.  18.5 19.  19.5 20.  20.5\n",
            " 21.  21.5 22.  22.5 23.  23.5 24.  24.5 25.  25.5 26.  26.5 27.  27.5\n",
            " 28.  28.5 29.  29.5 30.  30.5 31.  31.5 32.  32.5 33.  33.5 34.  34.5\n",
            " 35.  35.5 36.  36.5 37.  37.5 38.  38.5 39.  39.5 40.  40.5 41.  41.5\n",
            " 42.  42.5 43.  43.5 44.  44.5 45.  45.5 46.  46.5 47.  47.5 48.  48.5\n",
            " 49.  49.5 50.  50.5 51.  51.5 52.  52.5 53.  53.5 54.  54.5 55.  55.5\n",
            " 56.  56.5 57.  57.5 58.  58.5 59.  59.5 60.  60.5 61.  61.5 62.  62.5\n",
            " 63.  63.5 64. ]\n",
            "0.5\n"
          ]
        }
      ],
      "source": [
        "print(freq)\n",
        "print(freq_resolution)"
      ]
    },
    {
      "cell_type": "code",
      "execution_count": 11,
      "metadata": {
        "colab": {
          "base_uri": "https://localhost:8080/",
          "height": 306
        },
        "id": "qOQJvn0ce2XL",
        "outputId": "670dc7e3-dcc0-4adb-d422-ad9bf0db7a3b"
      },
      "outputs": [
        {
          "output_type": "display_data",
          "data": {
            "text/plain": [
              "<Figure size 576x288 with 1 Axes>"
            ],
            "image/png": "[encoded data removed]"
          },
          "metadata": {}
        }
      ],
      "source": [
        "import seaborn as sns\n",
        "from matplotlib import pyplot as plt\n",
        "# Plot the power spectrum\n",
        "sns.set(font_scale=1.2, style='white')\n",
        "plt.figure(figsize=(8, 4))\n",
        "plt.plot(freq, power, color='k', lw=2)\n",
        "plt.xlabel('Frequency (Hz)')\n",
        "plt.ylabel('Power spectral density (V^2 / Hz)')\n",
        "plt.ylim([0, power.max() * 1.1])\n",
        "plt.title(\"Welch's periodogram\")\n",
        "plt.xlim([0, freq.max()])\n",
        "sns.despine()"
      ]
    },
    {
      "cell_type": "markdown",
      "metadata": {
        "id": "yH3qDAvRhoOW"
      },
      "source": [
        "Считываем данные\n"
      ]
    },
    {
      "cell_type": "code",
      "execution_count": 12,
      "metadata": {
        "id": "rx8Lk2deefRz"
      },
      "outputs": [],
      "source": [
        "import glob\n",
        "data = []\n",
        "labels = []\n",
        "data_dir = './data_preprocessed_python'\n",
        "files = glob.glob(os.path.join(data_dir, \"*.dat\"))\n",
        "\n",
        "for file_data in files:\n",
        "    raw_data = pickle.load(open(file_data, 'rb'), encoding='latin1')\n",
        "    data.append(raw_data['data'])\n",
        "    labels.append(raw_data['labels'])"
      ]
    },
    {
      "cell_type": "markdown",
      "metadata": {
        "id": "UPwSkEvVhrSt"
      },
      "source": [
        "Выделяем нейтральные эмоции в отдельный класс (0, 1, 2)"
      ]
    },
    {
      "cell_type": "code",
      "execution_count": null,
      "metadata": {
        "colab": {
          "base_uri": "https://localhost:8080/"
        },
        "id": "BV8Ho61fMLii",
        "outputId": "cd8bdf41-9093-4d8f-e5e6-19bee6817256"
      },
      "outputs": [
        {
          "output_type": "stream",
          "name": "stdout",
          "text": [
            "Counter({2: 18, 1: 16, 0: 6}) Counter({2: 24, 1: 11, 0: 5})\n",
            "Counter({2: 22, 0: 10, 1: 8}) Counter({0: 17, 2: 16, 1: 7})\n",
            "Counter({2: 26, 0: 12, 1: 2}) Counter({0: 17, 2: 14, 1: 9})\n",
            "Counter({2: 25, 1: 9, 0: 6}) Counter({2: 22, 1: 10, 0: 8})\n",
            "Counter({0: 20, 2: 15, 1: 5}) Counter({2: 18, 0: 18, 1: 4})\n",
            "Counter({0: 19, 2: 13, 1: 8}) Counter({0: 20, 2: 20})\n",
            "Counter({2: 18, 0: 13, 1: 9}) Counter({2: 17, 0: 14, 1: 9})\n",
            "Counter({2: 19, 0: 12, 1: 9}) Counter({1: 19, 2: 12, 0: 9})\n",
            "Counter({2: 17, 1: 15, 0: 8}) Counter({2: 26, 0: 9, 1: 5})\n",
            "Counter({0: 15, 2: 13, 1: 12}) Counter({2: 32, 0: 5, 1: 3})\n",
            "Counter({2: 20, 1: 16, 0: 4}) Counter({2: 27, 1: 11, 0: 2})\n",
            "Counter({2: 17, 0: 13, 1: 10}) Counter({0: 22, 2: 10, 1: 8})\n",
            "Counter({0: 15, 1: 13, 2: 12}) Counter({2: 17, 0: 13, 1: 10})\n",
            "Counter({2: 21, 0: 15, 1: 4}) Counter({2: 24, 0: 12, 1: 4})\n",
            "Counter({2: 21, 0: 17, 1: 2}) Counter({2: 22, 0: 15, 1: 3})\n",
            "Counter({2: 19, 0: 11, 1: 10}) Counter({2: 25, 0: 8, 1: 7})\n",
            "Counter({2: 17, 0: 16, 1: 7}) Counter({2: 21, 0: 15, 1: 4})\n",
            "Counter({2: 19, 0: 13, 1: 8}) Counter({2: 31, 0: 5, 1: 4})\n",
            "Counter({2: 15, 1: 15, 0: 10}) Counter({2: 22, 0: 10, 1: 8})\n",
            "Counter({2: 19, 0: 18, 1: 3}) Counter({1: 23, 0: 9, 2: 8})\n",
            "Counter({2: 16, 0: 13, 1: 11}) Counter({2: 27, 0: 9, 1: 4})\n",
            "Counter({2: 15, 1: 15, 0: 10}) Counter({2: 26, 1: 8, 0: 6})\n",
            "Counter({2: 24, 1: 12, 0: 4}) Counter({1: 17, 2: 12, 0: 11})\n",
            "Counter({2: 22, 0: 13, 1: 5}) Counter({2: 16, 0: 12, 1: 12})\n",
            "Counter({2: 22, 1: 13, 0: 5}) Counter({1: 19, 2: 18, 0: 3})\n",
            "Counter({2: 20, 1: 12, 0: 8}) Counter({2: 22, 1: 11, 0: 7})\n",
            "Counter({0: 22, 2: 15, 1: 3}) Counter({0: 20, 2: 14, 1: 6})\n",
            "Counter({2: 18, 0: 15, 1: 7}) Counter({2: 16, 1: 13, 0: 11})\n",
            "Counter({2: 18, 0: 17, 1: 5}) Counter({2: 25, 0: 11, 1: 4})\n",
            "Counter({0: 20, 2: 17, 1: 3}) Counter({1: 20, 0: 14, 2: 6})\n",
            "Counter({1: 20, 2: 14, 0: 6}) Counter({1: 18, 0: 11, 2: 11})\n",
            "Counter({2: 20, 0: 11, 1: 9}) Counter({2: 21, 1: 13, 0: 6})\n",
            "0.3352208380520951 0.6647791619479049 397 0.3282937365010799 0.67170626349892 354\n"
          ]
        }
      ],
      "source": [
        "from collections import Counter\n",
        "labels_3 = []\n",
        "num_11 = 0\n",
        "num_12 = 0\n",
        "num_21 = 0\n",
        "num_22 = 0\n",
        "num_10 = 0\n",
        "num_20 = 0\n",
        "for i in range(32):\n",
        "  neg = labels[i] < 3.5\n",
        "  pos = labels[i] >= 5.5\n",
        "  temp = np.zeros_like(labels[i], np.int8)\n",
        "  temp[neg] = 1\n",
        "  temp[pos] = 2\n",
        "  #print(labels[i])\n",
        "  #print(temp)\n",
        "  labels_3.append(temp)\n",
        "  cnt1 = Counter()\n",
        "  cnt1.update(temp[:, 0])\n",
        "  cnt2 = Counter()\n",
        "  cnt2.update(temp[:, 1])\n",
        "  print(cnt1, cnt2)\n",
        "  num_11 += cnt1[1]\n",
        "  num_12 += cnt1[2]\n",
        "  num_10 += cnt1[0]\n",
        "  num_21 += cnt2[1]\n",
        "  num_22 += cnt2[2]\n",
        "  num_20 += cnt2[0]\n",
        " \n",
        "  #break\n",
        "  #print(temp)\n",
        "num1 = num_11 + num_12\n",
        "num2 = num_21 + num_22   \n",
        "print(num_11/num1, num_12/num1, num_10,num_21/num2, num_22/num2, num_20)   \n",
        "labels_all_3 = np.vstack(labels_3)  "
      ]
    },
    {
      "cell_type": "markdown",
      "metadata": {
        "id": "NwY05Jvf6kLb"
      },
      "source": [
        "а тут только два класса ( положительные и отрицательные)\n"
      ]
    },
    {
      "cell_type": "code",
      "execution_count": null,
      "metadata": {
        "colab": {
          "base_uri": "https://localhost:8080/"
        },
        "id": "O_QxvRLW1riM",
        "outputId": "c33d17d3-984e-4ffa-ff58-a16ad21ce588"
      },
      "outputs": [
        {
          "output_type": "stream",
          "name": "stdout",
          "text": [
            "Counter({2: 20, 1: 20}) Counter({2: 25, 1: 15})\n",
            "Counter({2: 28, 1: 12}) Counter({2: 25, 1: 15})\n",
            "Counter({2: 33, 1: 7}) Counter({2: 21, 1: 19})\n",
            "Counter({2: 30, 1: 10}) Counter({2: 25, 1: 15})\n",
            "Counter({2: 26, 1: 14}) Counter({2: 31, 1: 9})\n",
            "Counter({2: 23, 1: 17}) Counter({2: 29, 1: 11})\n",
            "Counter({2: 24, 1: 16}) Counter({2: 23, 1: 17})\n",
            "Counter({2: 27, 1: 13}) Counter({1: 22, 2: 18})\n",
            "Counter({2: 23, 1: 17}) Counter({2: 35, 1: 5})\n",
            "Counter({2: 20, 1: 20}) Counter({2: 35, 1: 5})\n",
            "Counter({2: 20, 1: 20}) Counter({2: 27, 1: 13})\n",
            "Counter({2: 22, 1: 18}) Counter({2: 22, 1: 18})\n",
            "Counter({1: 23, 2: 17}) Counter({2: 20, 1: 20})\n",
            "Counter({2: 26, 1: 14}) Counter({2: 26, 1: 14})\n",
            "Counter({2: 30, 1: 10}) Counter({2: 27, 1: 13})\n",
            "Counter({2: 26, 1: 14}) Counter({2: 28, 1: 12})\n",
            "Counter({2: 28, 1: 12}) Counter({2: 34, 1: 6})\n",
            "Counter({2: 25, 1: 15}) Counter({2: 32, 1: 8})\n",
            "Counter({2: 22, 1: 18}) Counter({2: 29, 1: 11})\n",
            "Counter({2: 32, 1: 8}) Counter({1: 24, 2: 16})\n",
            "Counter({1: 21, 2: 19}) Counter({2: 35, 1: 5})\n",
            "Counter({2: 24, 1: 16}) Counter({2: 31, 1: 9})\n",
            "Counter({2: 27, 1: 13}) Counter({2: 20, 1: 20})\n",
            "Counter({2: 33, 1: 7}) Counter({2: 28, 1: 12})\n",
            "Counter({2: 25, 1: 15}) Counter({2: 20, 1: 20})\n",
            "Counter({2: 23, 1: 17}) Counter({2: 27, 1: 13})\n",
            "Counter({2: 28, 1: 12}) Counter({2: 25, 1: 15})\n",
            "Counter({2: 29, 1: 11}) Counter({2: 21, 1: 19})\n",
            "Counter({2: 22, 1: 18}) Counter({2: 29, 1: 11})\n",
            "Counter({2: 30, 1: 10}) Counter({1: 31, 2: 9})\n",
            "Counter({1: 23, 2: 17}) Counter({1: 22, 2: 18})\n",
            "Counter({2: 29, 1: 11}) Counter({2: 27, 1: 13})\n",
            "0.36875 0.63125 0.3609375 0.6390625\n"
          ]
        }
      ],
      "source": [
        "from collections import Counter\n",
        "labels_3 = []\n",
        "num_11 = 0\n",
        "num_12 = 0\n",
        "num_21 = 0\n",
        "num_22 = 0\n",
        "\n",
        "\n",
        "for i in range(32):\n",
        "  neg = labels[i] < 4.5\n",
        "  pos = labels[i] >= 4.5\n",
        "  temp = np.zeros_like(labels[i], np.int8)\n",
        "  temp[neg] = 1\n",
        "  temp[pos] = 2\n",
        "  #print(labels[i])\n",
        "  #print(temp)\n",
        "  labels_3.append(temp)\n",
        "  cnt1 = Counter()\n",
        "  cnt1.update(temp[:, 0])\n",
        "  cnt2 = Counter()\n",
        "  cnt2.update(temp[:, 1])\n",
        "  print(cnt1, cnt2)\n",
        "  num_11 += cnt1[1]\n",
        "  num_12 += cnt1[2]\n",
        "  num_21 += cnt2[1]\n",
        "  num_22 += cnt2[2]\n",
        "  #break\n",
        "  #print(temp)\n",
        "num1 = num_11 + num_12\n",
        "num2 = num_21 + num_22   \n",
        "print(num_11/num1, num_12/num1,num_21/num2, num_22/num2)   \n",
        "labels_all_3 = np.vstack(labels_3)  "
      ]
    },
    {
      "cell_type": "code",
      "execution_count": 13,
      "metadata": {
        "id": "MgM5Po5sutDd"
      },
      "outputs": [],
      "source": [
        "import pandas as pd\n",
        "# columns = [f'DE_b{i + 1}_c{j + 1}' for i   in range(5) for j in range(32)] + \\\n",
        "#           [f'DASM_b{i + 1}_p{pair}' for i  in range(5) for pair in pairs_canals] + \\\n",
        "#           [f'RASM_b{i + 1}_p{pair}' for i  in range(5) for pair in pairs_canals] + \\\n",
        "#           [f'DCAU_b{i + 1}_p{pair}' for i  in range(5) for pair in pairs_canals_1] \n",
        "# columns = [('DE', i, j)  for i  in range(5) for j in range(32)] + \\\n",
        "#           [('DASM', i, pair) for i  in range(5) for pair in pairs_canals] + \\\n",
        "#           [('RASM', i, pair) for i  in range(5) for pair in pairs_canals] + \\\n",
        "#           [('DCAU', i, pair) for i  in range(5) for pair in pairs_canals_1] \n",
        "columns = [('DE', i, j)  for i  in range(4) for j in range(32)] + \\\n",
        "          [('DASM', i, j) for i  in range(4) for j in range(14)] + \\\n",
        "          [('RASM', i, j) for i  in range(4) for j in range(14)] + \\\n",
        "          [('DCAU', i, j) for i  in range(4) for j in range(11)] \n",
        "features_df = pd.DataFrame(columns = pd.MultiIndex.from_tuples(columns))"
      ]
    },
    {
      "cell_type": "code",
      "execution_count": null,
      "metadata": {
        "colab": {
          "base_uri": "https://localhost:8080/"
        },
        "id": "K6m3_YnYJSQ1",
        "outputId": "ab526e00-3249-480a-8fe8-dbb5d7794599"
      },
      "outputs": [
        {
          "output_type": "stream",
          "name": "stdout",
          "text": [
            "Empty DataFrame\n",
            "Columns: [(DE, 0, 0), (DE, 0, 1), (DE, 0, 2), (DE, 0, 3), (DE, 0, 4), (DE, 0, 5), (DE, 0, 6), (DE, 0, 7), (DE, 0, 8), (DE, 0, 9), (DE, 0, 10), (DE, 0, 11), (DE, 0, 12), (DE, 0, 13), (DE, 0, 14), (DE, 0, 15), (DE, 0, 16), (DE, 0, 17), (DE, 0, 18), (DE, 0, 19), (DE, 0, 20), (DE, 0, 21), (DE, 0, 22), (DE, 0, 23), (DE, 0, 24), (DE, 0, 25), (DE, 0, 26), (DE, 0, 27), (DE, 0, 28), (DE, 0, 29), (DE, 0, 30), (DE, 0, 31), (DE, 1, 0), (DE, 1, 1), (DE, 1, 2), (DE, 1, 3), (DE, 1, 4), (DE, 1, 5), (DE, 1, 6), (DE, 1, 7), (DE, 1, 8), (DE, 1, 9), (DE, 1, 10), (DE, 1, 11), (DE, 1, 12), (DE, 1, 13), (DE, 1, 14), (DE, 1, 15), (DE, 1, 16), (DE, 1, 17), (DE, 1, 18), (DE, 1, 19), (DE, 1, 20), (DE, 1, 21), (DE, 1, 22), (DE, 1, 23), (DE, 1, 24), (DE, 1, 25), (DE, 1, 26), (DE, 1, 27), (DE, 1, 28), (DE, 1, 29), (DE, 1, 30), (DE, 1, 31), (DE, 2, 0), (DE, 2, 1), (DE, 2, 2), (DE, 2, 3), (DE, 2, 4), (DE, 2, 5), (DE, 2, 6), (DE, 2, 7), (DE, 2, 8), (DE, 2, 9), (DE, 2, 10), (DE, 2, 11), (DE, 2, 12), (DE, 2, 13), (DE, 2, 14), (DE, 2, 15), (DE, 2, 16), (DE, 2, 17), (DE, 2, 18), (DE, 2, 19), (DE, 2, 20), (DE, 2, 21), (DE, 2, 22), (DE, 2, 23), (DE, 2, 24), (DE, 2, 25), (DE, 2, 26), (DE, 2, 27), (DE, 2, 28), (DE, 2, 29), (DE, 2, 30), (DE, 2, 31), (DE, 3, 0), (DE, 3, 1), (DE, 3, 2), (DE, 3, 3), ...]\n",
            "Index: []\n",
            "\n",
            "[0 rows x 284 columns]\n"
          ]
        }
      ],
      "source": [
        "print(features_df)"
      ]
    },
    {
      "cell_type": "code",
      "execution_count": 14,
      "metadata": {
        "id": "I0YlHbU_WVfZ"
      },
      "outputs": [],
      "source": [
        "import numpy as np\n",
        "import scipy\n",
        "from scipy import stats\n",
        "freq_resolution = max(freq)/(len(freq) - 1)\n",
        "from scipy.integrate import simps\n",
        "max_freq = 128\n",
        "NVIDEOS = 40\n",
        "NCANALS = 32\n",
        "features = ['DE', 'DASM', 'RASM', 'DCAU']\n",
        "def get_features_whole2(data, labels, freq_resolution, max_freq, feature_list):\n",
        "  \n",
        "  data_for_videos = []\n",
        "  columns = []\n",
        "  for k  in range(4):\n",
        "     if 'DE' in feature_list or f'DE{k+1}' in feature_list:\n",
        "          columns += [('DE', k, j) for j in range(32)] \n",
        "     if ('DASM' in feature_list) or (f'DASM{k+1}' in feature_list):\n",
        "         columns +=     [('DASM', k, j) for j in range(14)] \n",
        "     #if 'RASM' in feature_list or f'RASM{k+1}' in feature_list:\n",
        "     #    columns +=      [('RASM', k, j)  for j in range(14)] \n",
        "     if 'DCAU' in feature_list or f'DCAU{k+1}' in feature_list: \n",
        "         columns +=     [('DCAU', k, j) for j in range(11)]\n",
        "     if 'RASM' in feature_list or f'RASM{k+1}' in feature_list:\n",
        "         columns +=      [('RASM', k, j)  for j in range(14)]     \n",
        "  columns +=     [('theta/alpha', j) for j in range(32) if 'theta/alpha' in feature_list or f'theta/alpha{j}' in feature_list]\n",
        "  columns +=     [('beta/theta', j) for j in range(32) if 'beta/theta' in feature_list or f'beta/theta{j}'in feature_list]\n",
        "  columns +=     [('SMR/theta', j) for j in range(32)if 'SMR/theta' in feature_list or f'SMR/theta{j}'in feature_list]  \n",
        "  if 'theta/alpha1267' in feature_list:   \n",
        "        columns +=     [('theta/alpha1267', 0)]     \n",
        "  #print(columns)            \n",
        "\n",
        "  features_df = pd.DataFrame(columns = pd.MultiIndex.from_tuples(columns))   \n",
        "\n",
        "  for id in range(NVIDEOS):\n",
        "    #data_for_one_video = []\n",
        "    powers = np.zeros((NCANALS, 6))\n",
        "    powers_rest = np.zeros((NCANALS,6 ))\n",
        "\n",
        "    l = 0\n",
        "    for i in range(NCANALS):\n",
        "        \n",
        "        freq, power = scipy.signal.welch(data[id][i], fs=max_freq, window='hanning', nperseg=256, noverlap=None, nfft=None, detrend='constant', return_onesided=True, scaling='density', axis=-1)\n",
        "        freq_rest, power_rest = scipy.signal.welch(data[id][i][ : 128 * 3], fs=max_freq, window='hanning', nperseg=256, noverlap=None, nfft=None, detrend='constant', return_onesided=True, scaling='density', axis=-1)\n",
        "        #one_canal = []\n",
        "        powers_temp  = []\n",
        "        powers_temp_rest  = []\n",
        "        for k, interval in enumerate(freq_ranges):\n",
        "            ar = np.asarray(interval)\n",
        "            ar = range(int(interval[0]/freq_resolution), int((interval[-1] + 1)/freq_resolution +1))#(ar / freq_resolution).astype(int)\n",
        "            #print(ar)\n",
        "            power_range = power[ar]\n",
        "            mean_power = simps(power[ar], dx = 0.5)#(power_range).sum()/len(power_range)\n",
        "            mean_power_rest = simps(power_rest[ar], dx = 0.5)#(power_range).sum()/len(power_range)\n",
        "            if k < 4:\n",
        "              if 'DE' in feature_list or f'DE{k+1}' in feature_list:\n",
        "                   features_df.loc[id, ('DE', k, i)] = np.log(mean_power)\n",
        "            powers_temp.append(mean_power)\n",
        "            powers[i, k] = mean_power\n",
        "            powers_temp_rest.append(mean_power_rest)\n",
        "            powers_rest[i, k] = mean_power_rest\n",
        "           \n",
        "    #print(len(features_df.columns))       \n",
        "    for s, pair in enumerate(pairs_canals):\n",
        "        #print(pair)\n",
        "        canal_1 = pair[0] - 1\n",
        "        canal_2 = pair[1] - 1\n",
        "        temp = np.log(powers[canal_1]) -  np.log(powers[canal_2]) \n",
        "        #print(temp.shape)\n",
        "        for k in range(4):\n",
        "          if ('DASM' in feature_list) or (f'DASM{k+1}' in feature_list):\n",
        "             #data_for_one_video.extend([temp[k]])  \n",
        "             features_df.loc[id, ('DASM', k, s)] = temp[k]\n",
        "             #print('**1')\n",
        "        #print(len(data_for_one_video))\n",
        "        temp = np.log(powers[canal_1])/np.log(powers[canal_2])\n",
        "        #print(temp)\n",
        "        for k in range(4):\n",
        "          if 'RASM' in feature_list or f'RASM{k+1}' in feature_list:\n",
        "             #data_for_one_video.extend([temp[k]]) \n",
        "             features_df.loc[id, ('RASM', k, s)] = temp[k]   \n",
        "             #print('**3')\n",
        "        #data_for_one_video.append(one_canal)    \n",
        "    #print(len(features_df.columns))\n",
        "    for s, pair in enumerate(pairs_canals_1):\n",
        "        canal_1 = pair[0] - 1\n",
        "        canal_2 = pair[1] - 1\n",
        "        temp =  np.log(powers[canal_1]) -   np.log(powers[canal_2])\n",
        "        #print(temp)\n",
        "        for k in range(4):\n",
        "          if 'DCAU' in feature_list or f'DCAU{k+1}' in feature_list:\n",
        "             #data_for_one_video.extend([temp[k]]) \n",
        "             features_df.loc[id, ('DCAU', k, s)] = temp[k]\n",
        "             #print('**2')\n",
        "    for j  in range(32):\n",
        "        #print(\"\")\n",
        "        if f'SMR/theta{j}' in feature_list or 'SMR/theta' in feature_list:\n",
        "             index = (powers[j, 4] + powers[j, 5])/powers[j, 0]\n",
        "             index_rest = (powers_rest[j, 4] + powers_rest[j, 5])/powers_rest[j, 0] \n",
        "             value = (index - index_rest)/index_rest\n",
        "             features_df.loc[id, ('SMR/theta', j)] = value\n",
        "    for j  in range(32):\n",
        "        if f'beta/theta{j}' in feature_list or 'beta/theta' in feature_list:\n",
        "              index = powers[j, 2]/powers[j, 0]\n",
        "              index_rest = powers_rest[j, 2]/powers_rest[j, 0] \n",
        "              value = (index - index_rest)/index_rest\n",
        "              features_df.loc[id, ('beta/theta', j)] = value\n",
        "              #data_for_one_video.extend([value])\n",
        "              \n",
        "    for j  in range(32):\n",
        "        if f'theta/alpha{j}' in feature_list or 'theta/alpha' in feature_list:\n",
        "            index = powers[j, 0]/powers[j, 1]\n",
        "            index_rest = powers_rest[j, 0]/powers_rest[j, 1] \n",
        "            value = (index - index_rest)/index_rest\n",
        "            features_df.loc[id, ('theta/alpha', j)] = value\n",
        "            #data_for_one_video.extend([value])\n",
        "    #print(len(features_df.columns))        \n",
        "    if 'theta/alpha1267' in feature_list:\n",
        "           index1 = powers[6, 0]/powers[6, 1]\n",
        "           index_rest1 = powers_rest[7, 0]/powers_rest[7, 1] \n",
        "           value1 = (index1 - index_rest1)/index_rest1\n",
        "           index2 = powers[0, 0]/powers[0, 1]\n",
        "           index_rest2 = powers_rest[0, 0]/powers_rest[0, 1] \n",
        "           value2 = (index2 - index_rest2)/index_rest2\n",
        "\n",
        "           features_df.loc[id, ('theta/alpha1267', 0)] = value1/value2                           \n",
        "\n",
        "    #print(len(features_df.columns))\n",
        "  return features_df   \n",
        "\n"
      ]
    },
    {
      "cell_type": "code",
      "execution_count": null,
      "metadata": {
        "id": "UPWANzLz59HS"
      },
      "outputs": [],
      "source": [
        "import pandas as pd\n",
        "emotion = ['valence', 'arousal']#, 'dominance', 'like']\n",
        "f1_data_sum = pd.DataFrame(columns = features, index = emotion)\n",
        "acc_data_sum = pd.DataFrame(columns = features, index = emotion)\n"
      ]
    },
    {
      "cell_type": "code",
      "execution_count": null,
      "metadata": {
        "id": "h7ssdBuzM1at"
      },
      "outputs": [],
      "source": [
        " from mrmr import mrmr_classif"
      ]
    },
    {
      "cell_type": "code",
      "execution_count": null,
      "metadata": {
        "id": "TLdB85FMK-Pr"
      },
      "outputs": [],
      "source": [
        "def discretize(df, k):\n",
        "  labels = range(k)\n",
        "  for col in df.columns.to_list()[1 : ]:\n",
        "     df[col] = pd.qcut(df[col], q = 5, labels=labels)\n",
        "  return df   "
      ]
    },
    {
      "cell_type": "code",
      "execution_count": 15,
      "metadata": {
        "id": "SMuOTe9H8kI_"
      },
      "outputs": [],
      "source": [
        "from sklearn.model_selection import StratifiedKFold , KFold\n",
        "from sklearn.metrics import f1_score, accuracy_score, confusion_matrix\n",
        "from sklearn.naive_bayes import  GaussianNB\n",
        "from sklearn.model_selection import StratifiedKFold \n",
        "from sklearn.ensemble import RandomForestClassifier, ExtraTreesClassifier\n",
        "from imblearn.over_sampling import RandomOverSampler \n",
        "from sklearn.feature_selection import SelectFromModel\n",
        "from sklearn.preprocessing import StandardScaler\n",
        "\n",
        "from sklearn.discriminant_analysis import LinearDiscriminantAnalysis as LDA\n",
        "import pandas as pd\n",
        "from sklearn import svm\n",
        "import lightgbm as lgbm\n",
        "from sklearn.model_selection import GridSearchCV\n",
        "from sklearn.decomposition import PCA\n",
        "#threshold = 0.5\n",
        "k = 5\n",
        "labels_common = []\n",
        "emotions = ['valence', 'arousal']\n",
        "\n",
        "def get_metrics(features, pca_include = False):\n",
        "    result_f1 = []\n",
        "    result_acc = []\n",
        "    #data_for_videos = []\n",
        "    features_all = []\n",
        "\n",
        "    for i in  range(len(data)):\n",
        "            features_df = get_features_whole2(data[i], labels[i], freq_resolution, max_freq, features )\n",
        "            #data_for_videos.append(result)\n",
        "            features_all.append(features_df)\n",
        "    for i_em in range(2):\n",
        "        print(emotions[i_em])\n",
        "        first = True\n",
        "        f1_all = []\n",
        "        acc_all = []\n",
        "        train_indexes = []\n",
        "        test_indexes = []\n",
        "        for j in range(32):\n",
        "                # labels_common.append([np.mean(labels_all_bin[:, i_em][i::NVIDEOS]) > 0.5 for i in range(NVIDEOS)])\n",
        "            train_indexes.append([])    \n",
        "            test_indexes.append([])    \n",
        "            #X = np.arange(40)\n",
        "            y = np.array(labels_3[j][:, i_em])\n",
        "            y = y[y!=0]\n",
        "            #print(y)\n",
        "            X = np.arange(len(y))\n",
        "            \n",
        "            if len(y) != 0 :\n",
        "                skf = StratifiedKFold(n_splits=k, random_state=2021, shuffle=True)\n",
        "                #kf = KFold(n_splits=k, random_state=None, shuffle=True)\n",
        "                for fold, (train_index, test_index) in enumerate(skf.split(X, y)):\n",
        "                #for fold, (train_index, test_index) in enumerate(kf.split(X)):\n",
        "                    train_indexes[-1].append(train_index)\n",
        "                    test_indexes[-1].append(test_index)\n",
        "            else:\n",
        "               for fold in range(k):\n",
        "                  train_indexes[-1].append([])\n",
        "                  test_indexes[-1].append([])      \n",
        "        \n",
        "        f1_data = pd.DataFrame(columns = range(k), index = range(32))\n",
        "        acc_data = pd.DataFrame(columns = range(k), index = range(32))\n",
        "\n",
        "        for fold in range(k):\n",
        "            #print(fold)\n",
        "            first = False\n",
        "            features_no_neutral = []\n",
        "            \n",
        "            f1_sub = []\n",
        "            acc_sub = []\n",
        "\n",
        "            data_train = []\n",
        "            data_test = []\n",
        "            labels_train = []\n",
        "            labels_test = []\n",
        "            labels_check = []\n",
        "            for i in range(32):\n",
        "             \n",
        "                  #print( labels_subject_train[i])\n",
        "               ltemp = labels_3[i][:, i_em]\n",
        "\n",
        "                  #print(ltemp)\n",
        "               ltemp1 = ltemp[ltemp != 0]\n",
        "               if len(ltemp1) != 0:   \n",
        "                  data_temp = features_all[i][ltemp != 0 ].values\n",
        "                  #print(data_temp.shape)\n",
        "                  data_subject_train = data_temp[train_indexes[i][fold]]\n",
        "                  #print(data_subject_train.shape)\n",
        "                  labels_subject_train = ltemp1[train_indexes[i][fold]]\n",
        "                  features_temp= features_all[i][ltemp != 0 ]\n",
        "                  features_temp = features_temp.iloc[train_indexes[i][fold], :]\n",
        "                  features_no_neutral.append(features_temp)\n",
        "                  #print( labels_subject_train)\n",
        "\n",
        "\n",
        "                  #if len(labels_subject_train[labels_subject_train == 1]) != 0 and  len(labels_subject_train[labels_subject_train == 2]) != 0:\n",
        "                  #    ros = RandomOverSampler(random_state=42)\n",
        "                  #    data_subject_train, labels_subject_train = ros.fit_resample(data_subject_train, labels_subject_train)\n",
        "\n",
        "                  data_train.append(data_subject_train)\n",
        "                  labels_train.extend(labels_subject_train)\n",
        "\n",
        "                  data_subject_test = data_temp[test_indexes[i][fold]]\n",
        "                  labels_subject_test = ltemp1[test_indexes[i][fold]]\n",
        "                  #if len(labels_subject_test[labels_subject_test == 1]) != 0 and  len(labels_subject_test[labels_subject_test == 2]) != 0:\n",
        "                  #    ros = RandomOverSampler(random_state=42)\n",
        "                  #    data_subject_test, labels_subject_test = ros.fit_resample(data_subject_test, labels_subject_test)\n",
        "\n",
        "                  data_test.append(data_subject_test)\n",
        "                  labels_test.extend(labels_subject_test)\n",
        "                  labels_check.append(labels_subject_test)\n",
        "\n",
        "            data_train_all = np.vstack(data_train)\n",
        "            data_test_all = np.vstack(data_test)   \n",
        "            data_all = np.vstack((data_train_all, data_test_all))\n",
        "            labels_all = np.hstack((labels_train, labels_test))\n",
        "            #print(data_all.shape)\n",
        "            features_result = pd.concat(features_no_neutral)\n",
        "            if first == True:\n",
        "\n",
        "                # features_result = pd.concat(features_no_neutral, ignore_index=True)\n",
        "                # print(features_result.shape)\n",
        "\n",
        "                # columns_new = ['_'.join(list(map(str, tup))) for tup in features_result.columns]\n",
        "                # features_result.columns = columns_new\n",
        "                # #from mrmr import mrmr_classif\n",
        "                # #y = pd.Series(labels_train)\n",
        "                # #result = mrmr_classif(X=features_result, y=y, K=100)\n",
        "                # #print(result)\n",
        "                # #print(features_result.head())\n",
        "                # result = (pymrmr.mRMR(features_result, 'MIQ', 10))\n",
        "                # #result = (pymrmr.mRMR(features_result, 'MID', 140))\n",
        "                # choice = []\n",
        "                # #print(len(features_result.columns))\n",
        "                # print(result)\n",
        "                # choice = [features_result.columns.to_list().index(feat) for feat in result ]\n",
        "                # #print(len(choice))\n",
        "\n",
        "                # first = False\n",
        "                features_result = pd.concat(features_no_neutral)\n",
        "               # features_result = pd.DataFrame()\n",
        "                features_result['target'] = labels_train\n",
        "                print('****')\n",
        "                columns_new = ['_'.join(list(map(str, tup))) for tup in features_result.columns]\n",
        "                features_result.columns = columns_new\n",
        "                #cols = features_result1.columns\n",
        "                #print(cols)\n",
        "                #print(features_result.head())\n",
        "                #print(features_result1.head())\n",
        "\n",
        "                cols = features_result.columns.tolist()[-1:] + features_result.columns.tolist()[:-1]\n",
        "                features_result = features_result[cols]\n",
        "                #features_result = discretize(features_result, 5)\n",
        "                #features_result[cols] = features_result1[cols]              print('****')\n",
        "                #columns_new = ['_'.join(list(map(str, tup))) for tup in features_result.columns]\n",
        "                #print('****')\n",
        "                #features_result.columns = columns_new\n",
        "                #print(features_result.head())\n",
        "                result = (pymrmr.mRMR(features_result, 'MIQ', 140))\n",
        "                #result = (pymrmr.mRMR(features_result, 'MID', 140))\n",
        "                choice = []\n",
        "                ##print(len(features_result.columns))\n",
        "                #print(result)\n",
        "                choice = [features_result.columns.to_list().index(feat) - 1 for feat in result ]\n",
        "                #print(len(choice))\n",
        "\n",
        "                first = False\n",
        "            #data_train_all = data_train_all[:, choice]\n",
        "            #data_test_all = data_test_all[:, choice]\n",
        "            model = lgbm.sklearn.LGBMClassifier(n_estimators = 100, class_weight = 'balanced', min_data_in_leaf = 30 )#!!!!!!!\n",
        "            #model = RandomForestClassifier(n_estimators = 100,  class_weight = 'balanced')\n",
        "            #model = ExtraTreesClassifier()\n",
        "            if pca_include == True:\n",
        "                ss = StandardScaler()\n",
        "                data_train_all = ss.fit_transform(data_train_all)\n",
        "                pca = PCA(n_components=int(data_train_all.shape[1]), svd_solver='full')\n",
        "                data_train_all = pca.fit_transform(data_train_all)\n",
        "            #print(pca.singular_values_)\n",
        "            #print(data_train_all.shape)\n",
        "       \n",
        "            #clf = LDA(n_components = 1)\n",
        "            #data_train_all = clf.fit_transform(data_train_all, labels_train)\n",
        "            #model =  GaussianNB()\n",
        "            #print(data_train_all)\n",
        "            model = model.fit(data_train_all, labels_train)\n",
        "            #clf = SelectFromModel(model, max_features = 50, prefit=True)\n",
        "            #data_train_all = clf.transform(data_train_all)\n",
        "            #print(data_train_all.shape)\n",
        "            #model = RandomForestClassifier(n_estimators = 100,  class_weight = 'balanced')\n",
        "            #model.fit(data_train_all, labels_train)\n",
        "            #print(\"***\")\n",
        "            #print(model.feature_importances_)\n",
        "            cnt_train = Counter()\n",
        "            cnt_train.update(labels_train)\n",
        "            #print(labels_train)\n",
        "            #print(cnt_train)\n",
        "            cnt_test = Counter()\n",
        "            cnt_test.update(labels_test)\n",
        "            #print(labels_train)\n",
        "            #print(cnt_test)\n",
        "            if pca_include == True:\n",
        "                data_test_all = ss.transform(data_test_all)\n",
        "                data_test_all = pca.transform(data_test_all)\n",
        "            #data_test_all = clf.transform(data_test_all)\n",
        "            #data_test_all = clf.transform(X = data_test_all)\n",
        "            labels_predicted = model.predict(data_test_all)\n",
        "           \n",
        "            f1_all.append(f1_score(labels_predicted, labels_test, average = 'macro'))\n",
        "            acc_all.append(accuracy_score(labels_predicted, labels_test)) \n",
        "            f1_sub = []\n",
        "            acc_sub = []\n",
        "            for i in range(32):\n",
        "                 if len(labels_check[i]) != 0:\n",
        "                     #labels_predicted_sub = [2] * len(data_test[i]) # model.predict(data_test[i])\n",
        "                     #print(labels_predicted_sub)\n",
        "                     if pca_include == True:\n",
        "                        data_test[i] = ss.transform(data_test[i])\n",
        "                        data_test[i] = pca.transform(data_test[i])\n",
        "                     #data_test[i] = clf.transform(data_test[i])\n",
        "                     #data_test[i] =  clf.transform(X = data_test[i])\n",
        "                     #data_test[i] = data_test[i][:, choice]\n",
        "                     labels_predicted_sub = model.predict(data_test[i])\n",
        "                     f1_data.loc[i, fold] = (f1_score(labels_predicted_sub, labels_check[i], average = 'macro'))\n",
        "                     acc_data.loc[i, fold] =  (accuracy_score(labels_predicted_sub, labels_check[i]))  \n",
        "                 else:\n",
        "                     print(\"!!!!!!\")\n",
        "                     f1_data.loc[i, fold] = 0.5#(f1_score(labels_predicted_sub, labels_check[i], average = 'macro'))\n",
        "                     acc_data.loc[i, fold] = 0.5# (accuracy_score(labels_predicted_sub, labels_check[i]))  \n",
        "\n",
        "\n",
        "                 #print(confusion_matrix(labels_predicted_sub, labels_check[i]))\n",
        "            #break     \n",
        "        \n",
        "        print(f\"f1 = {np.mean(f1_data.values.mean(axis = 1))}\")\n",
        "        print(f\"acc = {np.mean(acc_data.values.mean(axis = 1))}\")\n",
        "\n",
        "        print(\"*************************\")\n",
        "        # print(f1_all)\n",
        "        # print(acc_all)\n",
        "        # print(np.mean(f1_all))    \n",
        "        # print(np.mean(acc_all)) \n",
        "        result_f1.append(np.mean(f1_data.values.mean(axis = 1))) \n",
        "        result_acc.append(np.mean(acc_data.values.mean(axis = 1)))\n",
        "        print  \n",
        "    return result_f1, result_acc, f1_data, acc_data, data_all, labels_all, features_result\n",
        "                     \n",
        "       "
      ]
    },
    {
      "cell_type": "markdown",
      "source": [
        "#C нейтральными"
      ],
      "metadata": {
        "id": "8WpCQstU4k0j"
      }
    },
    {
      "cell_type": "code",
      "execution_count": null,
      "metadata": {
        "colab": {
          "base_uri": "https://localhost:8080/"
        },
        "id": "mf83jYrt0BDd",
        "outputId": "e1269e43-c9a1-44e4-e215-d2f462f351f2"
      },
      "outputs": [
        {
          "output_type": "stream",
          "name": "stdout",
          "text": [
            "valence\n",
            "f1 = 0.5024274683649683\n",
            "acc = 0.5945312500000001\n",
            "*************************\n",
            "arousal\n",
            "f1 = 0.5088007131757132\n",
            "acc = 0.61953125\n",
            "*************************\n"
          ]
        }
      ],
      "source": [
        "result_f1, result_acc, f1_sum, acc_sum, data_all,labels_all, features_df_all = get_metrics(['theta/alpha', 'beta/theta', 'SMR/theta', 'theta/alpha1267'])\n",
        "# f1_data_sum['ALL4'] = result_f1\n",
        "# acc_data_sum['ALL4'] = result_acc\n",
        "# print(acc_data_sum)\n",
        "# print(f1_data_sum)"
      ]
    },
    {
      "cell_type": "code",
      "execution_count": null,
      "metadata": {
        "colab": {
          "base_uri": "https://localhost:8080/"
        },
        "id": "jg7-PREe9aFw",
        "outputId": "c4ebdf8e-778c-44db-dd29-ae2ab985c6af"
      },
      "outputs": [
        {
          "output_type": "stream",
          "name": "stdout",
          "text": [
            "valence\n",
            "f1 = 0.46376869658119657\n",
            "acc = 0.50703125\n",
            "*************************\n",
            "arousal\n",
            "f1 = 0.4662075424575424\n",
            "acc = 0.51328125\n",
            "*************************\n"
          ]
        }
      ],
      "source": [
        "result_f1, result_acc, f1_sum, acc_sum, data_all,labels_all, features_df_all = get_metrics(['theta/alpha1267'])\n",
        "# f1_data_sum['ALL4'] = result_f1\n",
        "# acc_data_sum['ALL4'] = result_acc\n",
        "# print(acc_data_sum)\n",
        "# print(f1_data_sum)"
      ]
    },
    {
      "cell_type": "code",
      "execution_count": null,
      "metadata": {
        "colab": {
          "base_uri": "https://localhost:8080/"
        },
        "id": "MY0EN_lK7Gky",
        "outputId": "5997339c-4b9c-412c-915a-8bd757a38073"
      },
      "outputs": [
        {
          "output_type": "stream",
          "name": "stdout",
          "text": [
            "valence\n",
            "f1 = 0.49129089660339653\n",
            "acc = 0.5820312499999999\n",
            "*************************\n",
            "arousal\n",
            "f1 = 0.4842516164391164\n",
            "acc = 0.5820312500000001\n",
            "*************************\n"
          ]
        }
      ],
      "source": [
        "result_f1, result_acc, f1_sum, acc_sum, data_all,labels_all, features_df_all = get_metrics(['theta/alpha'])\n",
        "# f1_data_sum['ALL4'] = result_f1\n",
        "# acc_data_sum['ALL4'] = result_acc\n",
        "# print(acc_data_sum)\n",
        "# print(f1_data_sum)"
      ]
    },
    {
      "cell_type": "code",
      "execution_count": null,
      "metadata": {
        "colab": {
          "base_uri": "https://localhost:8080/"
        },
        "id": "mfnvJSaH7HHA",
        "outputId": "36e55a00-7382-40c7-d703-6096aa902238"
      },
      "outputs": [
        {
          "output_type": "stream",
          "name": "stdout",
          "text": [
            "valence\n",
            "f1 = 0.47517635142635134\n",
            "acc = 0.5632812500000001\n",
            "*************************\n",
            "arousal\n",
            "f1 = 0.48729908979908976\n",
            "acc = 0.59140625\n",
            "*************************\n"
          ]
        }
      ],
      "source": [
        "result_f1, result_acc, f1_sum, acc_sum, data_all,labels_all, features_df_all = get_metrics(['beta/theta'])\n",
        "# f1_data_sum['ALL4'] = result_f1\n",
        "# acc_data_sum['ALL4'] = result_acc\n",
        "# print(acc_data_sum)\n",
        "# print(f1_data_sum)"
      ]
    },
    {
      "cell_type": "code",
      "execution_count": null,
      "metadata": {
        "colab": {
          "base_uri": "https://localhost:8080/"
        },
        "id": "6Qheeq6v7HZh",
        "outputId": "712c54a2-ec0d-458e-f7ec-c1d0dda565da"
      },
      "outputs": [
        {
          "output_type": "stream",
          "name": "stdout",
          "text": [
            "valence\n",
            "f1 = 0.49467574092574107\n",
            "acc = 0.5749999999999998\n",
            "*************************\n",
            "arousal\n",
            "f1 = 0.48822680791430795\n",
            "acc = 0.58046875\n",
            "*************************\n"
          ]
        }
      ],
      "source": [
        "result_f1, result_acc, f1_sum, acc_sum, data_all,labels_all, features_df_all = get_metrics([ 'SMR/theta'])\n",
        "# f1_data_sum['ALL4'] = result_f1\n",
        "# acc_data_sum['ALL4'] = result_acc\n",
        "# print(acc_data_sum)\n",
        "# print(f1_data_sum)"
      ]
    },
    {
      "cell_type": "code",
      "execution_count": null,
      "metadata": {
        "colab": {
          "base_uri": "https://localhost:8080/"
        },
        "id": "G0cnQW9eT7AE",
        "outputId": "f63a7907-4ebc-4204-a4d9-31ef5af1ebf8"
      },
      "outputs": [
        {
          "output_type": "stream",
          "name": "stdout",
          "text": [
            "valence\n",
            "f1 = 0.6023541389166391\n",
            "acc = 0.69140625\n",
            "*************************\n",
            "arousal\n",
            "f1 = 0.5083952852702852\n",
            "acc = 0.6492187500000001\n",
            "*************************\n",
            "          DE DASM RASM DCAU      ALL4\n",
            "valence  NaN  NaN  NaN  NaN  0.691406\n",
            "arousal  NaN  NaN  NaN  NaN  0.649219\n",
            "          DE DASM RASM DCAU      ALL4\n",
            "valence  NaN  NaN  NaN  NaN  0.602354\n",
            "arousal  NaN  NaN  NaN  NaN  0.508395\n"
          ]
        }
      ],
      "source": [
        "result_f1, result_acc, f1_sum, acc_sum, data_all,labels_all, features_df_all = get_metrics(['DE', 'DASM', 'RASM', 'DCAU'])\n",
        "f1_data_sum['ALL4'] = result_f1\n",
        "acc_data_sum['ALL4'] = result_acc\n",
        "print(acc_data_sum)\n",
        "print(f1_data_sum)"
      ]
    },
    {
      "cell_type": "code",
      "execution_count": null,
      "metadata": {
        "colab": {
          "base_uri": "https://localhost:8080/"
        },
        "id": "xQyM4eQsz4sD",
        "outputId": "cc3ec444-2a8b-4d29-9004-6921429305eb"
      },
      "outputs": [
        {
          "output_type": "stream",
          "name": "stdout",
          "text": [
            "valence\n",
            "f1 = 0.4810465576090577\n",
            "acc = 0.6117187499999998\n",
            "*************************\n",
            "arousal\n",
            "f1 = 0.49547594766344766\n",
            "acc = 0.65234375\n",
            "*************************\n"
          ]
        }
      ],
      "source": [
        "result_f1, result_acc, f1_sum, acc_sum, data_all,labels_all, features_df_all = get_metrics(['DE', 'DASM', 'RASM', 'DCAU', 'theta/alpha', 'beta/theta', 'SMR/theta', 'theta/alpha1267'], pca_include = True)\n",
        "# f1_data_sum['ALL4'] = result_f1\n",
        "# acc_data_sum['ALL4'] = result_acc\n",
        "# print(acc_data_sum)\n",
        "# print(f1_data_sum)"
      ]
    },
    {
      "cell_type": "code",
      "execution_count": null,
      "metadata": {
        "colab": {
          "base_uri": "https://localhost:8080/"
        },
        "id": "BMQyT3d6mzaQ",
        "outputId": "ddb66395-f007-4c22-fd75-4fa056a9f63b"
      },
      "outputs": [
        {
          "output_type": "stream",
          "name": "stdout",
          "text": [
            "valence\n",
            "f1 = 0.5931644397269399\n",
            "acc = 0.6851562500000001\n",
            "*************************\n",
            "arousal\n",
            "f1 = 0.5045511433011433\n",
            "acc = 0.64609375\n",
            "*************************\n"
          ]
        }
      ],
      "source": [
        "result_f1, result_acc, f1_sum, acc_sum, data_all,labels_all, features_df_all = get_metrics(['DE',  'RASM', 'DCAU'])\n",
        "# f1_data_sum['ALL4'] = result_f1\n",
        "# acc_data_sum['ALL4'] = result_acc\n",
        "# print(acc_data_sum)\n",
        "# print(f1_data_sum)"
      ]
    },
    {
      "cell_type": "code",
      "execution_count": null,
      "metadata": {
        "colab": {
          "base_uri": "https://localhost:8080/"
        },
        "id": "-6jHP25komQl",
        "outputId": "8e63bdf0-0792-41ed-ba7a-7821d05bf6ee"
      },
      "outputs": [
        {
          "output_type": "stream",
          "name": "stdout",
          "text": [
            "valence\n",
            "f1 = 0.5907802614052613\n",
            "acc = 0.6859375\n",
            "*************************\n",
            "arousal\n",
            "f1 = 0.4926720501720502\n",
            "acc = 0.6359374999999999\n",
            "*************************\n"
          ]
        }
      ],
      "source": [
        "result_f1, result_acc, f1_sum, acc_sum, data_all,labels_all, features_df_all = get_metrics([ 'DASM', 'RASM', 'DCAU'])\n",
        "# f1_data_sum['ALL4'] = result_f1\n",
        "# acc_data_sum['ALL4'] = result_acc\n",
        "# print(acc_data_sum)\n",
        "# print(f1_data_sum)"
      ]
    },
    {
      "cell_type": "code",
      "execution_count": null,
      "metadata": {
        "colab": {
          "base_uri": "https://localhost:8080/"
        },
        "id": "Kw60DIHRq216",
        "outputId": "355dfbdc-e077-475f-9d21-5a5301d0713f"
      },
      "outputs": [
        {
          "output_type": "stream",
          "name": "stdout",
          "text": [
            "valence\n",
            "f1 = 0.5802203005328006\n",
            "acc = 0.6726562500000002\n",
            "*************************\n",
            "arousal\n",
            "f1 = 0.5143552281052282\n",
            "acc = 0.64765625\n",
            "*************************\n"
          ]
        }
      ],
      "source": [
        "result_f1, result_acc, f1_sum, acc_sum, data_all,labels_all, features_df_all = get_metrics(['DE', 'RASM'])#, 'beta/theta', 'SMR/theta', 'theta/alpha1267'])\n",
        "# f1_data_sum['ALL4'] = result_f1\n",
        "# acc_data_sum['ALL4'] = result_acc\n",
        "# print(acc_data_sum)\n",
        "# print(f1_data_sum)"
      ]
    },
    {
      "cell_type": "code",
      "execution_count": null,
      "metadata": {
        "colab": {
          "base_uri": "https://localhost:8080/"
        },
        "id": "7RoNouNupsCw",
        "outputId": "13180a15-9ad1-4d77-8c93-409e575b29a1"
      },
      "outputs": [
        {
          "output_type": "stream",
          "name": "stdout",
          "text": [
            "valence\n",
            "f1 = 0.5834342393717394\n",
            "acc = 0.6742187500000001\n",
            "*************************\n",
            "arousal\n",
            "f1 = 0.5141657647907647\n",
            "acc = 0.65390625\n",
            "*************************\n"
          ]
        }
      ],
      "source": [
        "result_f1, result_acc, f1_sum, acc_sum, data_all,labels_all, features_df_all = get_metrics(['DE', 'DASM'])\n",
        "# f1_data_sum['ALL4'] = result_f1\n",
        "# acc_data_sum['ALL4'] = result_acc\n",
        "# print(acc_data_sum)\n",
        "# print(f1_data_sum)"
      ]
    },
    {
      "cell_type": "code",
      "execution_count": null,
      "metadata": {
        "colab": {
          "base_uri": "https://localhost:8080/"
        },
        "id": "8owXV7nGnaxr",
        "outputId": "cfa9e6bb-d35e-4a89-8101-97a1f78f426c"
      },
      "outputs": [
        {
          "output_type": "stream",
          "name": "stdout",
          "text": [
            "valence\n",
            "f1 = 0.5822552794427793\n",
            "acc = 0.6710937500000002\n",
            "*************************\n",
            "arousal\n",
            "f1 = 0.5152188436563437\n",
            "acc = 0.65625\n",
            "*************************\n"
          ]
        }
      ],
      "source": [
        "result_f1, result_acc, f1_sum, acc_sum, data_all,labels_all, features_df_all = get_metrics(['DE', 'DASM', 'RASM'])\n",
        "# f1_data_sum['ALL4'] = result_f1\n",
        "# acc_data_sum['ALL4'] = result_acc\n",
        "# print(acc_data_sum)\n",
        "# print(f1_data_sum)"
      ]
    },
    {
      "cell_type": "code",
      "execution_count": null,
      "metadata": {
        "id": "jrRv7dYIy1Gh"
      },
      "outputs": [],
      "source": [
        "# features = []\n",
        "# for i in range(2, 4):\n",
        "#     features = features + ([f'DE{i + 1}'])\n",
        "# for i in range(0, 4):\n",
        "#     features = features + ([f'DASM{i + 1}'])   \n",
        "# print(features)     \n",
        "# result_f1, result_acc, _, _, _, _, _ = get_metrics(features)\n",
        "# print(result_f1)\n",
        "# f1_data_bands_val.loc['DE', bands[i]] = result_f1[0]\n",
        "# acc_data_bands_val.loc['DE', bands[i]] = result_acc[0]\n",
        "# f1_data_bands_arousal.loc['DE', bands[i]] = result_f1[1]\n",
        "# acc_data_bands_arousal.loc['DE', bands[i]] = result_acc[1]"
      ]
    },
    {
      "cell_type": "code",
      "execution_count": null,
      "metadata": {
        "id": "deXA4vhuGgap"
      },
      "outputs": [],
      "source": [
        "import pandas as pd\n",
        "bands = [ 'theta',  'alpha', 'beta' ,'gamma']\n",
        "index = ['DE', 'DASM', 'RASM', 'DCAU']\n",
        "f1_data_bands_val = pd.DataFrame(columns = bands, index = index)\n",
        "acc_data_bands_val = pd.DataFrame(columns = bands, index = index)\n",
        "f1_data_bands_arousal = pd.DataFrame(columns = bands, index = index)\n",
        "acc_data_bands_arousal = pd.DataFrame(columns = bands, index = index)"
      ]
    },
    {
      "cell_type": "code",
      "execution_count": null,
      "metadata": {
        "colab": {
          "base_uri": "https://localhost:8080/"
        },
        "id": "dSEzvNuj8Kx8",
        "outputId": "e6e9f29b-584d-41cf-b446-d0e03e8adfdb"
      },
      "outputs": [
        {
          "output_type": "stream",
          "name": "stdout",
          "text": [
            "valence\n",
            "f1 = 0.5270640817515818\n",
            "acc = 0.61875\n",
            "*************************\n",
            "arousal\n",
            "f1 = 0.5027016039516038\n",
            "acc = 0.6234374999999998\n",
            "*************************\n",
            "[0.5270640817515818, 0.5027016039516038]\n",
            "valence\n",
            "f1 = 0.5482748154623153\n",
            "acc = 0.6414062500000002\n",
            "*************************\n",
            "arousal\n",
            "f1 = 0.471294746919747\n",
            "acc = 0.60625\n",
            "*************************\n",
            "[0.5482748154623153, 0.471294746919747]\n",
            "valence\n",
            "f1 = 0.5594029928404929\n",
            "acc = 0.64765625\n",
            "*************************\n",
            "arousal\n",
            "f1 = 0.5073276723276723\n",
            "acc = 0.6406249999999999\n",
            "*************************\n",
            "[0.5594029928404929, 0.5073276723276723]\n",
            "valence\n",
            "f1 = 0.5270749736374737\n",
            "acc = 0.6187499999999999\n",
            "*************************\n",
            "arousal\n",
            "f1 = 0.529507645132645\n",
            "acc = 0.6546874999999999\n",
            "*************************\n",
            "[0.5270749736374737, 0.529507645132645]\n"
          ]
        }
      ],
      "source": [
        "for i in range(4):\n",
        "    result_f1, result_acc, _, _, _, _, _ = get_metrics([f'DE{i + 1}'])\n",
        "    print(result_f1)\n",
        "    f1_data_bands_val.loc['DE', bands[i]] = result_f1[0]\n",
        "    acc_data_bands_val.loc['DE', bands[i]] = result_acc[0]\n",
        "    f1_data_bands_arousal.loc['DE', bands[i]] = result_f1[1]\n",
        "    acc_data_bands_arousal.loc['DE', bands[i]] = result_acc[1]\n"
      ]
    },
    {
      "cell_type": "code",
      "execution_count": null,
      "metadata": {
        "colab": {
          "base_uri": "https://localhost:8080/"
        },
        "id": "ya_gatjWzhIT",
        "outputId": "3162feb3-808f-4567-caa6-f8aa42517877"
      },
      "outputs": [
        {
          "output_type": "stream",
          "name": "stdout",
          "text": [
            "valence\n",
            "f1 = 0.5125003815628816\n",
            "acc = 0.61328125\n",
            "*************************\n",
            "arousal\n",
            "f1 = 0.49135801698301684\n",
            "acc = 0.6265625\n",
            "*************************\n",
            "[0.5125003815628816, 0.49135801698301684]\n",
            "valence\n",
            "f1 = 0.5472318306693306\n",
            "acc = 0.64140625\n",
            "*************************\n",
            "arousal\n",
            "f1 = 0.4801363220113221\n",
            "acc = 0.61015625\n",
            "*************************\n",
            "[0.5472318306693306, 0.4801363220113221]\n",
            "valence\n",
            "f1 = 0.5386004967254968\n",
            "acc = 0.63515625\n",
            "*************************\n",
            "arousal\n",
            "f1 = 0.5190758200133202\n",
            "acc = 0.6445312500000001\n",
            "*************************\n",
            "[0.5386004967254968, 0.5190758200133202]\n",
            "valence\n",
            "f1 = 0.5518290390165389\n",
            "acc = 0.6429687500000001\n",
            "*************************\n",
            "arousal\n",
            "f1 = 0.49199664918414915\n",
            "acc = 0.6234374999999999\n",
            "*************************\n",
            "[0.5518290390165389, 0.49199664918414915]\n"
          ]
        }
      ],
      "source": [
        "for i in range(4):\n",
        "    result_f1, result_acc,  _, _, _, _, _ = get_metrics([f'DASM{i + 1}'])\n",
        "    print(result_f1)\n",
        "    f1_data_bands_val.loc['DASM', bands[i]] = result_f1[0]\n",
        "    acc_data_bands_val.loc['DASM', bands[i]] = result_acc[0]\n",
        "    f1_data_bands_arousal.loc['DASM', bands[i]] = result_f1[1]\n",
        "    acc_data_bands_arousal.loc['DASM', bands[i]] = result_acc[1]"
      ]
    },
    {
      "cell_type": "code",
      "execution_count": null,
      "metadata": {
        "colab": {
          "base_uri": "https://localhost:8080/"
        },
        "id": "9Qqz9Dp5ziGf",
        "outputId": "2d248887-aef3-4c2f-c74e-b8a440dbe93f"
      },
      "outputs": [
        {
          "output_type": "stream",
          "name": "stdout",
          "text": [
            "valence\n",
            "f1 = 0.5381387362637362\n",
            "acc = 0.6375\n",
            "*************************\n",
            "arousal\n",
            "f1 = 0.4996760878010878\n",
            "acc = 0.6351562499999999\n",
            "*************************\n",
            "[0.5381387362637362, 0.4996760878010878]\n",
            "valence\n",
            "f1 = 0.5367626817626817\n",
            "acc = 0.6320312499999999\n",
            "*************************\n",
            "arousal\n",
            "f1 = 0.45438890970140966\n",
            "acc = 0.5945312500000001\n",
            "*************************\n",
            "[0.5367626817626817, 0.45438890970140966]\n",
            "valence\n",
            "f1 = 0.5436574189699188\n",
            "acc = 0.6445312499999999\n",
            "*************************\n",
            "arousal\n",
            "f1 = 0.5110374347874348\n",
            "acc = 0.63984375\n",
            "*************************\n",
            "[0.5436574189699188, 0.5110374347874348]\n",
            "valence\n",
            "f1 = 0.5386226967476968\n",
            "acc = 0.6296875000000001\n",
            "*************************\n",
            "arousal\n",
            "f1 = 0.504522526085026\n",
            "acc = 0.6359375000000002\n",
            "*************************\n",
            "[0.5386226967476968, 0.504522526085026]\n"
          ]
        }
      ],
      "source": [
        "for i in range(4):\n",
        "    result_f1, result_acc,  _, _, _, _, _= get_metrics([f'RASM{i + 1}'])\n",
        "    print(result_f1)\n",
        "    f1_data_bands_val.loc['RASM', bands[i]] = result_f1[0]\n",
        "    acc_data_bands_val.loc['RASM', bands[i]] = result_acc[0]\n",
        "    f1_data_bands_arousal.loc['RASM', bands[i]] = result_f1[1]\n",
        "    acc_data_bands_arousal.loc['RASM', bands[i]] = result_acc[1]"
      ]
    },
    {
      "cell_type": "code",
      "execution_count": null,
      "metadata": {
        "id": "WnWZ6M2Qzi2y",
        "colab": {
          "base_uri": "https://localhost:8080/"
        },
        "outputId": "61cf8132-8aee-4ebc-9b82-faa3137fc01a"
      },
      "outputs": [
        {
          "output_type": "stream",
          "name": "stdout",
          "text": [
            "valence\n",
            "f1 = 0.519166285103785\n",
            "acc = 0.6124999999999999\n",
            "*************************\n",
            "arousal\n",
            "f1 = 0.4728862110112111\n",
            "acc = 0.6054687499999999\n",
            "*************************\n",
            "[0.519166285103785, 0.4728862110112111]\n",
            "valence\n",
            "f1 = 0.5224953865578864\n",
            "acc = 0.6265625\n",
            "*************************\n",
            "arousal\n",
            "f1 = 0.4818385087135086\n",
            "acc = 0.6046875\n",
            "*************************\n",
            "[0.5224953865578864, 0.4818385087135086]\n",
            "valence\n",
            "f1 = 0.5301396520146521\n",
            "acc = 0.6179687500000001\n",
            "*************************\n",
            "arousal\n",
            "f1 = 0.5025650044400045\n",
            "acc = 0.6359375\n",
            "*************************\n",
            "[0.5301396520146521, 0.5025650044400045]\n",
            "valence\n",
            "f1 = 0.5502113858363857\n",
            "acc = 0.6281249999999999\n",
            "*************************\n",
            "arousal\n",
            "f1 = 0.49963068181818177\n",
            "acc = 0.6312500000000001\n",
            "*************************\n",
            "[0.5502113858363857, 0.49963068181818177]\n"
          ]
        }
      ],
      "source": [
        "for i in range(4):\n",
        "    result_f1, result_acc, _, _, _, _, _ = get_metrics([f'DCAU{i + 1}'])\n",
        "    print(result_f1)\n",
        "    f1_data_bands_val.loc['DCAU', bands[i]] = result_f1[0]\n",
        "    acc_data_bands_val.loc['DCAU', bands[i]] = result_acc[0]\n",
        "    f1_data_bands_arousal.loc['DCAU', bands[i]] = result_f1[1]\n",
        "    acc_data_bands_arousal.loc['DCAU', bands[i]] = result_acc[1]"
      ]
    },
    {
      "cell_type": "code",
      "execution_count": null,
      "metadata": {
        "colab": {
          "base_uri": "https://localhost:8080/"
        },
        "id": "ugC-r9bzejit",
        "outputId": "7d45001a-9be3-437a-e372-42071367eb76"
      },
      "outputs": [
        {
          "output_type": "stream",
          "name": "stdout",
          "text": [
            "         theta     alpha      beta     gamma\n",
            "DE     0.61875  0.641406  0.647656   0.61875\n",
            "DASM  0.613281  0.641406  0.635156  0.642969\n",
            "RASM    0.6375  0.632031  0.644531  0.629688\n",
            "DCAU    0.6125  0.626563  0.617969  0.628125\n",
            "         theta     alpha      beta     gamma\n",
            "DE    0.527064  0.548275  0.559403  0.527075\n",
            "DASM    0.5125  0.547232    0.5386  0.551829\n",
            "RASM  0.538139  0.536763  0.543657  0.538623\n",
            "DCAU  0.519166  0.522495   0.53014  0.550211\n",
            "         theta     alpha      beta     gamma\n",
            "DE    0.623437   0.60625  0.640625  0.654687\n",
            "DASM  0.626563  0.610156  0.644531  0.623437\n",
            "RASM  0.635156  0.594531  0.639844  0.635938\n",
            "DCAU  0.605469  0.604688  0.635938   0.63125\n",
            "         theta     alpha      beta     gamma\n",
            "DE    0.502702  0.471295  0.507328  0.529508\n",
            "DASM  0.491358  0.480136  0.519076  0.491997\n",
            "RASM  0.499676  0.454389  0.511037  0.504523\n",
            "DCAU  0.472886  0.481839  0.502565  0.499631\n"
          ]
        }
      ],
      "source": [
        "print(acc_data_bands_val)\n",
        "print(f1_data_bands_val)\n",
        "print(acc_data_bands_arousal)\n",
        "print(f1_data_bands_arousal)"
      ]
    },
    {
      "cell_type": "markdown",
      "source": [
        "#Без нейтральных"
      ],
      "metadata": {
        "id": "geESeu-v41ur"
      }
    },
    {
      "cell_type": "code",
      "source": [
        ""
      ],
      "metadata": {
        "id": "P7MfPX2I47Xp"
      },
      "execution_count": null,
      "outputs": []
    },
    {
      "cell_type": "code",
      "execution_count": 16,
      "metadata": {
        "colab": {
          "base_uri": "https://localhost:8080/"
        },
        "outputId": "76e1c5ff-355c-4a5f-e9d7-cdc452116506",
        "id": "D2UjSicZ47l7"
      },
      "outputs": [
        {
          "output_type": "stream",
          "name": "stdout",
          "text": [
            "Counter({2: 18, 1: 16, 0: 6}) Counter({2: 24, 1: 11, 0: 5})\n",
            "Counter({2: 22, 0: 10, 1: 8}) Counter({0: 17, 2: 16, 1: 7})\n",
            "Counter({2: 26, 0: 12, 1: 2}) Counter({0: 17, 2: 14, 1: 9})\n",
            "Counter({2: 25, 1: 9, 0: 6}) Counter({2: 22, 1: 10, 0: 8})\n",
            "Counter({0: 20, 2: 15, 1: 5}) Counter({2: 18, 0: 18, 1: 4})\n",
            "Counter({0: 19, 2: 13, 1: 8}) Counter({0: 20, 2: 20})\n",
            "Counter({2: 18, 0: 13, 1: 9}) Counter({2: 17, 0: 14, 1: 9})\n",
            "Counter({2: 19, 0: 12, 1: 9}) Counter({1: 19, 2: 12, 0: 9})\n",
            "Counter({2: 17, 1: 15, 0: 8}) Counter({2: 26, 0: 9, 1: 5})\n",
            "Counter({0: 15, 2: 13, 1: 12}) Counter({2: 32, 0: 5, 1: 3})\n",
            "Counter({2: 20, 1: 16, 0: 4}) Counter({2: 27, 1: 11, 0: 2})\n",
            "Counter({2: 17, 0: 13, 1: 10}) Counter({0: 22, 2: 10, 1: 8})\n",
            "Counter({0: 15, 1: 13, 2: 12}) Counter({2: 17, 0: 13, 1: 10})\n",
            "Counter({2: 21, 0: 15, 1: 4}) Counter({2: 24, 0: 12, 1: 4})\n",
            "Counter({2: 21, 0: 17, 1: 2}) Counter({2: 22, 0: 15, 1: 3})\n",
            "Counter({2: 19, 0: 11, 1: 10}) Counter({2: 25, 0: 8, 1: 7})\n",
            "Counter({2: 17, 0: 16, 1: 7}) Counter({2: 21, 0: 15, 1: 4})\n",
            "Counter({2: 19, 0: 13, 1: 8}) Counter({2: 31, 0: 5, 1: 4})\n",
            "Counter({2: 15, 1: 15, 0: 10}) Counter({2: 22, 0: 10, 1: 8})\n",
            "Counter({2: 19, 0: 18, 1: 3}) Counter({1: 23, 0: 9, 2: 8})\n",
            "Counter({2: 16, 0: 13, 1: 11}) Counter({2: 27, 0: 9, 1: 4})\n",
            "Counter({2: 15, 1: 15, 0: 10}) Counter({2: 26, 1: 8, 0: 6})\n",
            "Counter({2: 24, 1: 12, 0: 4}) Counter({1: 17, 2: 12, 0: 11})\n",
            "Counter({2: 22, 0: 13, 1: 5}) Counter({2: 16, 0: 12, 1: 12})\n",
            "Counter({2: 22, 1: 13, 0: 5}) Counter({1: 19, 2: 18, 0: 3})\n",
            "Counter({2: 20, 1: 12, 0: 8}) Counter({2: 22, 1: 11, 0: 7})\n",
            "Counter({0: 22, 2: 15, 1: 3}) Counter({0: 20, 2: 14, 1: 6})\n",
            "Counter({2: 18, 0: 15, 1: 7}) Counter({2: 16, 1: 13, 0: 11})\n",
            "Counter({2: 18, 0: 17, 1: 5}) Counter({2: 25, 0: 11, 1: 4})\n",
            "Counter({0: 20, 2: 17, 1: 3}) Counter({1: 20, 0: 14, 2: 6})\n",
            "Counter({1: 20, 2: 14, 0: 6}) Counter({1: 18, 0: 11, 2: 11})\n",
            "Counter({2: 20, 0: 11, 1: 9}) Counter({2: 21, 1: 13, 0: 6})\n",
            "0.3352208380520951 0.6647791619479049 397 0.3282937365010799 0.67170626349892 354\n"
          ]
        }
      ],
      "source": [
        "from collections import Counter\n",
        "labels_3 = []\n",
        "num_11 = 0\n",
        "num_12 = 0\n",
        "num_21 = 0\n",
        "num_22 = 0\n",
        "num_10 = 0\n",
        "num_20 = 0\n",
        "for i in range(32):\n",
        "  neg = labels[i] < 3.5\n",
        "  pos = labels[i] >= 5.5\n",
        "  temp = np.zeros_like(labels[i], np.int8)\n",
        "  temp[neg] = 1\n",
        "  temp[pos] = 2\n",
        "  #print(labels[i])\n",
        "  #print(temp)\n",
        "  labels_3.append(temp)\n",
        "  cnt1 = Counter()\n",
        "  cnt1.update(temp[:, 0])\n",
        "  cnt2 = Counter()\n",
        "  cnt2.update(temp[:, 1])\n",
        "  print(cnt1, cnt2)\n",
        "  num_11 += cnt1[1]\n",
        "  num_12 += cnt1[2]\n",
        "  num_10 += cnt1[0]\n",
        "  num_21 += cnt2[1]\n",
        "  num_22 += cnt2[2]\n",
        "  num_20 += cnt2[0]\n",
        " \n",
        "  #break\n",
        "  #print(temp)\n",
        "num1 = num_11 + num_12\n",
        "num2 = num_21 + num_22   \n",
        "print(num_11/num1, num_12/num1, num_10,num_21/num2, num_22/num2, num_20)   \n",
        "labels_all_3 = np.vstack(labels_3)  "
      ]
    },
    {
      "cell_type": "code",
      "source": [
        ""
      ],
      "metadata": {
        "id": "U8QIAlpt5JMH"
      },
      "execution_count": null,
      "outputs": []
    },
    {
      "cell_type": "code",
      "execution_count": 17,
      "metadata": {
        "colab": {
          "base_uri": "https://localhost:8080/"
        },
        "outputId": "47a0645e-a202-4eff-b060-7aa5497c118d",
        "id": "3PdFf8bw5W4M"
      },
      "outputs": [
        {
          "output_type": "stream",
          "name": "stdout",
          "text": [
            "valence\n"
          ]
        },
        {
          "output_type": "stream",
          "name": "stderr",
          "text": [
            "/usr/local/lib/python3.7/dist-packages/sklearn/model_selection/_split.py:680: UserWarning: The least populated class in y has only 2 members, which is less than n_splits=5.\n",
            "  UserWarning,\n",
            "/usr/local/lib/python3.7/dist-packages/sklearn/model_selection/_split.py:680: UserWarning: The least populated class in y has only 4 members, which is less than n_splits=5.\n",
            "  UserWarning,\n",
            "/usr/local/lib/python3.7/dist-packages/sklearn/model_selection/_split.py:680: UserWarning: The least populated class in y has only 2 members, which is less than n_splits=5.\n",
            "  UserWarning,\n",
            "/usr/local/lib/python3.7/dist-packages/sklearn/model_selection/_split.py:680: UserWarning: The least populated class in y has only 3 members, which is less than n_splits=5.\n",
            "  UserWarning,\n",
            "/usr/local/lib/python3.7/dist-packages/sklearn/model_selection/_split.py:680: UserWarning: The least populated class in y has only 3 members, which is less than n_splits=5.\n",
            "  UserWarning,\n",
            "/usr/local/lib/python3.7/dist-packages/sklearn/model_selection/_split.py:680: UserWarning: The least populated class in y has only 3 members, which is less than n_splits=5.\n",
            "  UserWarning,\n"
          ]
        },
        {
          "output_type": "stream",
          "name": "stdout",
          "text": [
            "f1 = 0.4966272095959598\n",
            "acc = 0.631748511904762\n",
            "*************************\n",
            "arousal\n"
          ]
        },
        {
          "output_type": "stream",
          "name": "stderr",
          "text": [
            "/usr/local/lib/python3.7/dist-packages/sklearn/model_selection/_split.py:680: UserWarning: The least populated class in y has only 4 members, which is less than n_splits=5.\n",
            "  UserWarning,\n",
            "/usr/local/lib/python3.7/dist-packages/sklearn/model_selection/_split.py:680: UserWarning: The least populated class in y has only 3 members, which is less than n_splits=5.\n",
            "  UserWarning,\n",
            "/usr/local/lib/python3.7/dist-packages/sklearn/model_selection/_split.py:680: UserWarning: The least populated class in y has only 4 members, which is less than n_splits=5.\n",
            "  UserWarning,\n",
            "/usr/local/lib/python3.7/dist-packages/sklearn/model_selection/_split.py:680: UserWarning: The least populated class in y has only 3 members, which is less than n_splits=5.\n",
            "  UserWarning,\n",
            "/usr/local/lib/python3.7/dist-packages/sklearn/model_selection/_split.py:680: UserWarning: The least populated class in y has only 4 members, which is less than n_splits=5.\n",
            "  UserWarning,\n",
            "/usr/local/lib/python3.7/dist-packages/sklearn/model_selection/_split.py:680: UserWarning: The least populated class in y has only 4 members, which is less than n_splits=5.\n",
            "  UserWarning,\n",
            "/usr/local/lib/python3.7/dist-packages/sklearn/model_selection/_split.py:680: UserWarning: The least populated class in y has only 4 members, which is less than n_splits=5.\n",
            "  UserWarning,\n",
            "/usr/local/lib/python3.7/dist-packages/sklearn/model_selection/_split.py:680: UserWarning: The least populated class in y has only 4 members, which is less than n_splits=5.\n",
            "  UserWarning,\n"
          ]
        },
        {
          "output_type": "stream",
          "name": "stdout",
          "text": [
            "f1 = 0.4976094565157065\n",
            "acc = 0.6487574404761904\n",
            "*************************\n"
          ]
        }
      ],
      "source": [
        "result_f1, result_acc, f1_sum, acc_sum, data_all,labels_all, features_df_all = get_metrics(['theta/alpha', 'beta/theta', 'SMR/theta', 'theta/alpha1267'])\n",
        "# f1_data_sum['ALL4'] = result_f1\n",
        "# acc_data_sum['ALL4'] = result_acc\n",
        "# print(acc_data_sum)\n",
        "# print(f1_data_sum)"
      ]
    },
    {
      "cell_type": "code",
      "execution_count": 18,
      "metadata": {
        "colab": {
          "base_uri": "https://localhost:8080/"
        },
        "outputId": "b4faa02a-b543-4b79-f14f-7acbed3c2c85",
        "id": "p8L3Zzeq5W4N"
      },
      "outputs": [
        {
          "output_type": "stream",
          "name": "stdout",
          "text": [
            "valence\n"
          ]
        },
        {
          "output_type": "stream",
          "name": "stderr",
          "text": [
            "/usr/local/lib/python3.7/dist-packages/sklearn/model_selection/_split.py:680: UserWarning: The least populated class in y has only 2 members, which is less than n_splits=5.\n",
            "  UserWarning,\n",
            "/usr/local/lib/python3.7/dist-packages/sklearn/model_selection/_split.py:680: UserWarning: The least populated class in y has only 4 members, which is less than n_splits=5.\n",
            "  UserWarning,\n",
            "/usr/local/lib/python3.7/dist-packages/sklearn/model_selection/_split.py:680: UserWarning: The least populated class in y has only 2 members, which is less than n_splits=5.\n",
            "  UserWarning,\n",
            "/usr/local/lib/python3.7/dist-packages/sklearn/model_selection/_split.py:680: UserWarning: The least populated class in y has only 3 members, which is less than n_splits=5.\n",
            "  UserWarning,\n",
            "/usr/local/lib/python3.7/dist-packages/sklearn/model_selection/_split.py:680: UserWarning: The least populated class in y has only 3 members, which is less than n_splits=5.\n",
            "  UserWarning,\n",
            "/usr/local/lib/python3.7/dist-packages/sklearn/model_selection/_split.py:680: UserWarning: The least populated class in y has only 3 members, which is less than n_splits=5.\n",
            "  UserWarning,\n"
          ]
        },
        {
          "output_type": "stream",
          "name": "stdout",
          "text": [
            "f1 = 0.4695952831890331\n",
            "acc = 0.5290624999999999\n",
            "*************************\n",
            "arousal\n"
          ]
        },
        {
          "output_type": "stream",
          "name": "stderr",
          "text": [
            "/usr/local/lib/python3.7/dist-packages/sklearn/model_selection/_split.py:680: UserWarning: The least populated class in y has only 4 members, which is less than n_splits=5.\n",
            "  UserWarning,\n",
            "/usr/local/lib/python3.7/dist-packages/sklearn/model_selection/_split.py:680: UserWarning: The least populated class in y has only 3 members, which is less than n_splits=5.\n",
            "  UserWarning,\n",
            "/usr/local/lib/python3.7/dist-packages/sklearn/model_selection/_split.py:680: UserWarning: The least populated class in y has only 4 members, which is less than n_splits=5.\n",
            "  UserWarning,\n",
            "/usr/local/lib/python3.7/dist-packages/sklearn/model_selection/_split.py:680: UserWarning: The least populated class in y has only 3 members, which is less than n_splits=5.\n",
            "  UserWarning,\n",
            "/usr/local/lib/python3.7/dist-packages/sklearn/model_selection/_split.py:680: UserWarning: The least populated class in y has only 4 members, which is less than n_splits=5.\n",
            "  UserWarning,\n",
            "/usr/local/lib/python3.7/dist-packages/sklearn/model_selection/_split.py:680: UserWarning: The least populated class in y has only 4 members, which is less than n_splits=5.\n",
            "  UserWarning,\n",
            "/usr/local/lib/python3.7/dist-packages/sklearn/model_selection/_split.py:680: UserWarning: The least populated class in y has only 4 members, which is less than n_splits=5.\n",
            "  UserWarning,\n",
            "/usr/local/lib/python3.7/dist-packages/sklearn/model_selection/_split.py:680: UserWarning: The least populated class in y has only 4 members, which is less than n_splits=5.\n",
            "  UserWarning,\n"
          ]
        },
        {
          "output_type": "stream",
          "name": "stdout",
          "text": [
            "f1 = 0.49866229256854266\n",
            "acc = 0.5699479166666666\n",
            "*************************\n"
          ]
        }
      ],
      "source": [
        "result_f1, result_acc, f1_sum, acc_sum, data_all,labels_all, features_df_all = get_metrics(['theta/alpha1267'])\n",
        "# f1_data_sum['ALL4'] = result_f1\n",
        "# acc_data_sum['ALL4'] = result_acc\n",
        "# print(acc_data_sum)\n",
        "# print(f1_data_sum)"
      ]
    },
    {
      "cell_type": "code",
      "execution_count": 19,
      "metadata": {
        "colab": {
          "base_uri": "https://localhost:8080/"
        },
        "outputId": "ee5503f3-fe8a-4605-d29d-a43614315d55",
        "id": "P1wzXA1h5W4N"
      },
      "outputs": [
        {
          "output_type": "stream",
          "name": "stdout",
          "text": [
            "valence\n"
          ]
        },
        {
          "output_type": "stream",
          "name": "stderr",
          "text": [
            "/usr/local/lib/python3.7/dist-packages/sklearn/model_selection/_split.py:680: UserWarning: The least populated class in y has only 2 members, which is less than n_splits=5.\n",
            "  UserWarning,\n",
            "/usr/local/lib/python3.7/dist-packages/sklearn/model_selection/_split.py:680: UserWarning: The least populated class in y has only 4 members, which is less than n_splits=5.\n",
            "  UserWarning,\n",
            "/usr/local/lib/python3.7/dist-packages/sklearn/model_selection/_split.py:680: UserWarning: The least populated class in y has only 2 members, which is less than n_splits=5.\n",
            "  UserWarning,\n",
            "/usr/local/lib/python3.7/dist-packages/sklearn/model_selection/_split.py:680: UserWarning: The least populated class in y has only 3 members, which is less than n_splits=5.\n",
            "  UserWarning,\n",
            "/usr/local/lib/python3.7/dist-packages/sklearn/model_selection/_split.py:680: UserWarning: The least populated class in y has only 3 members, which is less than n_splits=5.\n",
            "  UserWarning,\n",
            "/usr/local/lib/python3.7/dist-packages/sklearn/model_selection/_split.py:680: UserWarning: The least populated class in y has only 3 members, which is less than n_splits=5.\n",
            "  UserWarning,\n"
          ]
        },
        {
          "output_type": "stream",
          "name": "stdout",
          "text": [
            "f1 = 0.5008576839826839\n",
            "acc = 0.6164508928571428\n",
            "*************************\n",
            "arousal\n"
          ]
        },
        {
          "output_type": "stream",
          "name": "stderr",
          "text": [
            "/usr/local/lib/python3.7/dist-packages/sklearn/model_selection/_split.py:680: UserWarning: The least populated class in y has only 4 members, which is less than n_splits=5.\n",
            "  UserWarning,\n",
            "/usr/local/lib/python3.7/dist-packages/sklearn/model_selection/_split.py:680: UserWarning: The least populated class in y has only 3 members, which is less than n_splits=5.\n",
            "  UserWarning,\n",
            "/usr/local/lib/python3.7/dist-packages/sklearn/model_selection/_split.py:680: UserWarning: The least populated class in y has only 4 members, which is less than n_splits=5.\n",
            "  UserWarning,\n",
            "/usr/local/lib/python3.7/dist-packages/sklearn/model_selection/_split.py:680: UserWarning: The least populated class in y has only 3 members, which is less than n_splits=5.\n",
            "  UserWarning,\n",
            "/usr/local/lib/python3.7/dist-packages/sklearn/model_selection/_split.py:680: UserWarning: The least populated class in y has only 4 members, which is less than n_splits=5.\n",
            "  UserWarning,\n",
            "/usr/local/lib/python3.7/dist-packages/sklearn/model_selection/_split.py:680: UserWarning: The least populated class in y has only 4 members, which is less than n_splits=5.\n",
            "  UserWarning,\n",
            "/usr/local/lib/python3.7/dist-packages/sklearn/model_selection/_split.py:680: UserWarning: The least populated class in y has only 4 members, which is less than n_splits=5.\n",
            "  UserWarning,\n",
            "/usr/local/lib/python3.7/dist-packages/sklearn/model_selection/_split.py:680: UserWarning: The least populated class in y has only 4 members, which is less than n_splits=5.\n",
            "  UserWarning,\n"
          ]
        },
        {
          "output_type": "stream",
          "name": "stdout",
          "text": [
            "f1 = 0.4940057338494838\n",
            "acc = 0.6181547619047618\n",
            "*************************\n"
          ]
        }
      ],
      "source": [
        "result_f1, result_acc, f1_sum, acc_sum, data_all,labels_all, features_df_all = get_metrics(['theta/alpha'])\n",
        "# f1_data_sum['ALL4'] = result_f1\n",
        "# acc_data_sum['ALL4'] = result_acc\n",
        "# print(acc_data_sum)\n",
        "# print(f1_data_sum)"
      ]
    },
    {
      "cell_type": "code",
      "execution_count": 20,
      "metadata": {
        "colab": {
          "base_uri": "https://localhost:8080/"
        },
        "outputId": "69f49b69-3592-4808-9ebd-8b4e05167ebe",
        "id": "p7jP26ik5W4N"
      },
      "outputs": [
        {
          "output_type": "stream",
          "name": "stdout",
          "text": [
            "valence\n"
          ]
        },
        {
          "output_type": "stream",
          "name": "stderr",
          "text": [
            "/usr/local/lib/python3.7/dist-packages/sklearn/model_selection/_split.py:680: UserWarning: The least populated class in y has only 2 members, which is less than n_splits=5.\n",
            "  UserWarning,\n",
            "/usr/local/lib/python3.7/dist-packages/sklearn/model_selection/_split.py:680: UserWarning: The least populated class in y has only 4 members, which is less than n_splits=5.\n",
            "  UserWarning,\n",
            "/usr/local/lib/python3.7/dist-packages/sklearn/model_selection/_split.py:680: UserWarning: The least populated class in y has only 2 members, which is less than n_splits=5.\n",
            "  UserWarning,\n",
            "/usr/local/lib/python3.7/dist-packages/sklearn/model_selection/_split.py:680: UserWarning: The least populated class in y has only 3 members, which is less than n_splits=5.\n",
            "  UserWarning,\n",
            "/usr/local/lib/python3.7/dist-packages/sklearn/model_selection/_split.py:680: UserWarning: The least populated class in y has only 3 members, which is less than n_splits=5.\n",
            "  UserWarning,\n",
            "/usr/local/lib/python3.7/dist-packages/sklearn/model_selection/_split.py:680: UserWarning: The least populated class in y has only 3 members, which is less than n_splits=5.\n",
            "  UserWarning,\n"
          ]
        },
        {
          "output_type": "stream",
          "name": "stdout",
          "text": [
            "f1 = 0.4783035714285715\n",
            "acc = 0.6111458333333333\n",
            "*************************\n",
            "arousal\n"
          ]
        },
        {
          "output_type": "stream",
          "name": "stderr",
          "text": [
            "/usr/local/lib/python3.7/dist-packages/sklearn/model_selection/_split.py:680: UserWarning: The least populated class in y has only 4 members, which is less than n_splits=5.\n",
            "  UserWarning,\n",
            "/usr/local/lib/python3.7/dist-packages/sklearn/model_selection/_split.py:680: UserWarning: The least populated class in y has only 3 members, which is less than n_splits=5.\n",
            "  UserWarning,\n",
            "/usr/local/lib/python3.7/dist-packages/sklearn/model_selection/_split.py:680: UserWarning: The least populated class in y has only 4 members, which is less than n_splits=5.\n",
            "  UserWarning,\n",
            "/usr/local/lib/python3.7/dist-packages/sklearn/model_selection/_split.py:680: UserWarning: The least populated class in y has only 3 members, which is less than n_splits=5.\n",
            "  UserWarning,\n",
            "/usr/local/lib/python3.7/dist-packages/sklearn/model_selection/_split.py:680: UserWarning: The least populated class in y has only 4 members, which is less than n_splits=5.\n",
            "  UserWarning,\n",
            "/usr/local/lib/python3.7/dist-packages/sklearn/model_selection/_split.py:680: UserWarning: The least populated class in y has only 4 members, which is less than n_splits=5.\n",
            "  UserWarning,\n",
            "/usr/local/lib/python3.7/dist-packages/sklearn/model_selection/_split.py:680: UserWarning: The least populated class in y has only 4 members, which is less than n_splits=5.\n",
            "  UserWarning,\n",
            "/usr/local/lib/python3.7/dist-packages/sklearn/model_selection/_split.py:680: UserWarning: The least populated class in y has only 4 members, which is less than n_splits=5.\n",
            "  UserWarning,\n"
          ]
        },
        {
          "output_type": "stream",
          "name": "stdout",
          "text": [
            "f1 = 0.47187581515706506\n",
            "acc = 0.6146726190476189\n",
            "*************************\n"
          ]
        }
      ],
      "source": [
        "result_f1, result_acc, f1_sum, acc_sum, data_all,labels_all, features_df_all = get_metrics(['beta/theta'])\n",
        "# f1_data_sum['ALL4'] = result_f1\n",
        "# acc_data_sum['ALL4'] = result_acc\n",
        "# print(acc_data_sum)\n",
        "# print(f1_data_sum)"
      ]
    },
    {
      "cell_type": "code",
      "execution_count": 21,
      "metadata": {
        "colab": {
          "base_uri": "https://localhost:8080/"
        },
        "outputId": "22ca2434-a272-458c-96bd-eda0dc7f9a84",
        "id": "3eAMiI_u5W4N"
      },
      "outputs": [
        {
          "output_type": "stream",
          "name": "stdout",
          "text": [
            "valence\n"
          ]
        },
        {
          "output_type": "stream",
          "name": "stderr",
          "text": [
            "/usr/local/lib/python3.7/dist-packages/sklearn/model_selection/_split.py:680: UserWarning: The least populated class in y has only 2 members, which is less than n_splits=5.\n",
            "  UserWarning,\n",
            "/usr/local/lib/python3.7/dist-packages/sklearn/model_selection/_split.py:680: UserWarning: The least populated class in y has only 4 members, which is less than n_splits=5.\n",
            "  UserWarning,\n",
            "/usr/local/lib/python3.7/dist-packages/sklearn/model_selection/_split.py:680: UserWarning: The least populated class in y has only 2 members, which is less than n_splits=5.\n",
            "  UserWarning,\n",
            "/usr/local/lib/python3.7/dist-packages/sklearn/model_selection/_split.py:680: UserWarning: The least populated class in y has only 3 members, which is less than n_splits=5.\n",
            "  UserWarning,\n",
            "/usr/local/lib/python3.7/dist-packages/sklearn/model_selection/_split.py:680: UserWarning: The least populated class in y has only 3 members, which is less than n_splits=5.\n",
            "  UserWarning,\n",
            "/usr/local/lib/python3.7/dist-packages/sklearn/model_selection/_split.py:680: UserWarning: The least populated class in y has only 3 members, which is less than n_splits=5.\n",
            "  UserWarning,\n"
          ]
        },
        {
          "output_type": "stream",
          "name": "stdout",
          "text": [
            "f1 = 0.4772918921356421\n",
            "acc = 0.6028497023809524\n",
            "*************************\n",
            "arousal\n"
          ]
        },
        {
          "output_type": "stream",
          "name": "stderr",
          "text": [
            "/usr/local/lib/python3.7/dist-packages/sklearn/model_selection/_split.py:680: UserWarning: The least populated class in y has only 4 members, which is less than n_splits=5.\n",
            "  UserWarning,\n",
            "/usr/local/lib/python3.7/dist-packages/sklearn/model_selection/_split.py:680: UserWarning: The least populated class in y has only 3 members, which is less than n_splits=5.\n",
            "  UserWarning,\n",
            "/usr/local/lib/python3.7/dist-packages/sklearn/model_selection/_split.py:680: UserWarning: The least populated class in y has only 4 members, which is less than n_splits=5.\n",
            "  UserWarning,\n",
            "/usr/local/lib/python3.7/dist-packages/sklearn/model_selection/_split.py:680: UserWarning: The least populated class in y has only 3 members, which is less than n_splits=5.\n",
            "  UserWarning,\n",
            "/usr/local/lib/python3.7/dist-packages/sklearn/model_selection/_split.py:680: UserWarning: The least populated class in y has only 4 members, which is less than n_splits=5.\n",
            "  UserWarning,\n",
            "/usr/local/lib/python3.7/dist-packages/sklearn/model_selection/_split.py:680: UserWarning: The least populated class in y has only 4 members, which is less than n_splits=5.\n",
            "  UserWarning,\n",
            "/usr/local/lib/python3.7/dist-packages/sklearn/model_selection/_split.py:680: UserWarning: The least populated class in y has only 4 members, which is less than n_splits=5.\n",
            "  UserWarning,\n",
            "/usr/local/lib/python3.7/dist-packages/sklearn/model_selection/_split.py:680: UserWarning: The least populated class in y has only 4 members, which is less than n_splits=5.\n",
            "  UserWarning,\n"
          ]
        },
        {
          "output_type": "stream",
          "name": "stdout",
          "text": [
            "f1 = 0.49278729950604955\n",
            "acc = 0.6309375\n",
            "*************************\n"
          ]
        }
      ],
      "source": [
        "result_f1, result_acc, f1_sum, acc_sum, data_all,labels_all, features_df_all = get_metrics([ 'SMR/theta'])\n",
        "# f1_data_sum['ALL4'] = result_f1\n",
        "# acc_data_sum['ALL4'] = result_acc\n",
        "# print(acc_data_sum)\n",
        "# print(f1_data_sum)"
      ]
    },
    {
      "cell_type": "code",
      "execution_count": 23,
      "metadata": {
        "colab": {
          "base_uri": "https://localhost:8080/"
        },
        "outputId": "636392be-c387-4431-e158-472521ac3dda",
        "id": "e-iFSXPc5W4O"
      },
      "outputs": [
        {
          "output_type": "stream",
          "name": "stdout",
          "text": [
            "valence\n"
          ]
        },
        {
          "output_type": "stream",
          "name": "stderr",
          "text": [
            "/usr/local/lib/python3.7/dist-packages/sklearn/model_selection/_split.py:680: UserWarning: The least populated class in y has only 2 members, which is less than n_splits=5.\n",
            "  UserWarning,\n",
            "/usr/local/lib/python3.7/dist-packages/sklearn/model_selection/_split.py:680: UserWarning: The least populated class in y has only 4 members, which is less than n_splits=5.\n",
            "  UserWarning,\n",
            "/usr/local/lib/python3.7/dist-packages/sklearn/model_selection/_split.py:680: UserWarning: The least populated class in y has only 2 members, which is less than n_splits=5.\n",
            "  UserWarning,\n",
            "/usr/local/lib/python3.7/dist-packages/sklearn/model_selection/_split.py:680: UserWarning: The least populated class in y has only 3 members, which is less than n_splits=5.\n",
            "  UserWarning,\n",
            "/usr/local/lib/python3.7/dist-packages/sklearn/model_selection/_split.py:680: UserWarning: The least populated class in y has only 3 members, which is less than n_splits=5.\n",
            "  UserWarning,\n",
            "/usr/local/lib/python3.7/dist-packages/sklearn/model_selection/_split.py:680: UserWarning: The least populated class in y has only 3 members, which is less than n_splits=5.\n",
            "  UserWarning,\n"
          ]
        },
        {
          "output_type": "stream",
          "name": "stdout",
          "text": [
            "f1 = 0.6612019751082251\n",
            "acc = 0.7571279761904761\n",
            "*************************\n",
            "arousal\n"
          ]
        },
        {
          "output_type": "stream",
          "name": "stderr",
          "text": [
            "/usr/local/lib/python3.7/dist-packages/sklearn/model_selection/_split.py:680: UserWarning: The least populated class in y has only 4 members, which is less than n_splits=5.\n",
            "  UserWarning,\n",
            "/usr/local/lib/python3.7/dist-packages/sklearn/model_selection/_split.py:680: UserWarning: The least populated class in y has only 3 members, which is less than n_splits=5.\n",
            "  UserWarning,\n",
            "/usr/local/lib/python3.7/dist-packages/sklearn/model_selection/_split.py:680: UserWarning: The least populated class in y has only 4 members, which is less than n_splits=5.\n",
            "  UserWarning,\n",
            "/usr/local/lib/python3.7/dist-packages/sklearn/model_selection/_split.py:680: UserWarning: The least populated class in y has only 3 members, which is less than n_splits=5.\n",
            "  UserWarning,\n",
            "/usr/local/lib/python3.7/dist-packages/sklearn/model_selection/_split.py:680: UserWarning: The least populated class in y has only 4 members, which is less than n_splits=5.\n",
            "  UserWarning,\n",
            "/usr/local/lib/python3.7/dist-packages/sklearn/model_selection/_split.py:680: UserWarning: The least populated class in y has only 4 members, which is less than n_splits=5.\n",
            "  UserWarning,\n",
            "/usr/local/lib/python3.7/dist-packages/sklearn/model_selection/_split.py:680: UserWarning: The least populated class in y has only 4 members, which is less than n_splits=5.\n",
            "  UserWarning,\n",
            "/usr/local/lib/python3.7/dist-packages/sklearn/model_selection/_split.py:680: UserWarning: The least populated class in y has only 4 members, which is less than n_splits=5.\n",
            "  UserWarning,\n"
          ]
        },
        {
          "output_type": "stream",
          "name": "stdout",
          "text": [
            "f1 = 0.5745868888056388\n",
            "acc = 0.72953125\n",
            "*************************\n"
          ]
        }
      ],
      "source": [
        "result_f1, result_acc, f1_sum, acc_sum, data_all,labels_all, features_df_all = get_metrics(['DE', 'DASM', 'RASM', 'DCAU'])\n",
        "# f1_data_sum['ALL4'] = result_f1\n",
        "# acc_data_sum['ALL4'] = result_acc\n",
        "# print(acc_data_sum)\n",
        "# print(f1_data_sum)"
      ]
    },
    {
      "cell_type": "code",
      "execution_count": 24,
      "metadata": {
        "colab": {
          "base_uri": "https://localhost:8080/"
        },
        "outputId": "fa37d243-e3df-4e79-c551-9f04faf2847d",
        "id": "iBrrA0wz5W4O"
      },
      "outputs": [
        {
          "output_type": "stream",
          "name": "stderr",
          "text": [
            "/usr/local/lib/python3.7/dist-packages/IPython/core/interactiveshell.py:2822: PerformanceWarning: indexing past lexsort depth may impact performance.\n",
            "  if self.run_code(code, result):\n"
          ]
        },
        {
          "output_type": "stream",
          "name": "stdout",
          "text": [
            "valence\n"
          ]
        },
        {
          "output_type": "stream",
          "name": "stderr",
          "text": [
            "/usr/local/lib/python3.7/dist-packages/sklearn/model_selection/_split.py:680: UserWarning: The least populated class in y has only 2 members, which is less than n_splits=5.\n",
            "  UserWarning,\n",
            "/usr/local/lib/python3.7/dist-packages/sklearn/model_selection/_split.py:680: UserWarning: The least populated class in y has only 4 members, which is less than n_splits=5.\n",
            "  UserWarning,\n",
            "/usr/local/lib/python3.7/dist-packages/sklearn/model_selection/_split.py:680: UserWarning: The least populated class in y has only 2 members, which is less than n_splits=5.\n",
            "  UserWarning,\n",
            "/usr/local/lib/python3.7/dist-packages/sklearn/model_selection/_split.py:680: UserWarning: The least populated class in y has only 3 members, which is less than n_splits=5.\n",
            "  UserWarning,\n",
            "/usr/local/lib/python3.7/dist-packages/sklearn/model_selection/_split.py:680: UserWarning: The least populated class in y has only 3 members, which is less than n_splits=5.\n",
            "  UserWarning,\n",
            "/usr/local/lib/python3.7/dist-packages/sklearn/model_selection/_split.py:680: UserWarning: The least populated class in y has only 3 members, which is less than n_splits=5.\n",
            "  UserWarning,\n"
          ]
        },
        {
          "output_type": "stream",
          "name": "stdout",
          "text": [
            "f1 = 0.554749053030303\n",
            "acc = 0.6862276785714287\n",
            "*************************\n",
            "arousal\n"
          ]
        },
        {
          "output_type": "stream",
          "name": "stderr",
          "text": [
            "/usr/local/lib/python3.7/dist-packages/sklearn/model_selection/_split.py:680: UserWarning: The least populated class in y has only 4 members, which is less than n_splits=5.\n",
            "  UserWarning,\n",
            "/usr/local/lib/python3.7/dist-packages/sklearn/model_selection/_split.py:680: UserWarning: The least populated class in y has only 3 members, which is less than n_splits=5.\n",
            "  UserWarning,\n",
            "/usr/local/lib/python3.7/dist-packages/sklearn/model_selection/_split.py:680: UserWarning: The least populated class in y has only 4 members, which is less than n_splits=5.\n",
            "  UserWarning,\n",
            "/usr/local/lib/python3.7/dist-packages/sklearn/model_selection/_split.py:680: UserWarning: The least populated class in y has only 3 members, which is less than n_splits=5.\n",
            "  UserWarning,\n",
            "/usr/local/lib/python3.7/dist-packages/sklearn/model_selection/_split.py:680: UserWarning: The least populated class in y has only 4 members, which is less than n_splits=5.\n",
            "  UserWarning,\n",
            "/usr/local/lib/python3.7/dist-packages/sklearn/model_selection/_split.py:680: UserWarning: The least populated class in y has only 4 members, which is less than n_splits=5.\n",
            "  UserWarning,\n",
            "/usr/local/lib/python3.7/dist-packages/sklearn/model_selection/_split.py:680: UserWarning: The least populated class in y has only 4 members, which is less than n_splits=5.\n",
            "  UserWarning,\n",
            "/usr/local/lib/python3.7/dist-packages/sklearn/model_selection/_split.py:680: UserWarning: The least populated class in y has only 4 members, which is less than n_splits=5.\n",
            "  UserWarning,\n"
          ]
        },
        {
          "output_type": "stream",
          "name": "stdout",
          "text": [
            "f1 = 0.5397986908924409\n",
            "acc = 0.7037202380952382\n",
            "*************************\n"
          ]
        }
      ],
      "source": [
        "result_f1, result_acc, f1_sum, acc_sum, data_all,labels_all, features_df_all = get_metrics(['DE', 'DASM', 'RASM', 'DCAU', 'theta/alpha', 'beta/theta', 'SMR/theta', 'theta/alpha1267'], pca_include = True)\n",
        "# f1_data_sum['ALL4'] = result_f1\n",
        "# acc_data_sum['ALL4'] = result_acc\n",
        "# print(acc_data_sum)\n",
        "# print(f1_data_sum)"
      ]
    },
    {
      "cell_type": "code",
      "execution_count": 25,
      "metadata": {
        "colab": {
          "base_uri": "https://localhost:8080/"
        },
        "outputId": "3aa7ea56-67c2-4c05-d889-3c7a460b4aa9",
        "id": "9cK5xL7B5W4O"
      },
      "outputs": [
        {
          "output_type": "stream",
          "name": "stdout",
          "text": [
            "valence\n"
          ]
        },
        {
          "output_type": "stream",
          "name": "stderr",
          "text": [
            "/usr/local/lib/python3.7/dist-packages/sklearn/model_selection/_split.py:680: UserWarning: The least populated class in y has only 2 members, which is less than n_splits=5.\n",
            "  UserWarning,\n",
            "/usr/local/lib/python3.7/dist-packages/sklearn/model_selection/_split.py:680: UserWarning: The least populated class in y has only 4 members, which is less than n_splits=5.\n",
            "  UserWarning,\n",
            "/usr/local/lib/python3.7/dist-packages/sklearn/model_selection/_split.py:680: UserWarning: The least populated class in y has only 2 members, which is less than n_splits=5.\n",
            "  UserWarning,\n",
            "/usr/local/lib/python3.7/dist-packages/sklearn/model_selection/_split.py:680: UserWarning: The least populated class in y has only 3 members, which is less than n_splits=5.\n",
            "  UserWarning,\n",
            "/usr/local/lib/python3.7/dist-packages/sklearn/model_selection/_split.py:680: UserWarning: The least populated class in y has only 3 members, which is less than n_splits=5.\n",
            "  UserWarning,\n",
            "/usr/local/lib/python3.7/dist-packages/sklearn/model_selection/_split.py:680: UserWarning: The least populated class in y has only 3 members, which is less than n_splits=5.\n",
            "  UserWarning,\n"
          ]
        },
        {
          "output_type": "stream",
          "name": "stdout",
          "text": [
            "f1 = 0.6419726280663781\n",
            "acc = 0.7360193452380951\n",
            "*************************\n",
            "arousal\n"
          ]
        },
        {
          "output_type": "stream",
          "name": "stderr",
          "text": [
            "/usr/local/lib/python3.7/dist-packages/sklearn/model_selection/_split.py:680: UserWarning: The least populated class in y has only 4 members, which is less than n_splits=5.\n",
            "  UserWarning,\n",
            "/usr/local/lib/python3.7/dist-packages/sklearn/model_selection/_split.py:680: UserWarning: The least populated class in y has only 3 members, which is less than n_splits=5.\n",
            "  UserWarning,\n",
            "/usr/local/lib/python3.7/dist-packages/sklearn/model_selection/_split.py:680: UserWarning: The least populated class in y has only 4 members, which is less than n_splits=5.\n",
            "  UserWarning,\n",
            "/usr/local/lib/python3.7/dist-packages/sklearn/model_selection/_split.py:680: UserWarning: The least populated class in y has only 3 members, which is less than n_splits=5.\n",
            "  UserWarning,\n",
            "/usr/local/lib/python3.7/dist-packages/sklearn/model_selection/_split.py:680: UserWarning: The least populated class in y has only 4 members, which is less than n_splits=5.\n",
            "  UserWarning,\n",
            "/usr/local/lib/python3.7/dist-packages/sklearn/model_selection/_split.py:680: UserWarning: The least populated class in y has only 4 members, which is less than n_splits=5.\n",
            "  UserWarning,\n",
            "/usr/local/lib/python3.7/dist-packages/sklearn/model_selection/_split.py:680: UserWarning: The least populated class in y has only 4 members, which is less than n_splits=5.\n",
            "  UserWarning,\n",
            "/usr/local/lib/python3.7/dist-packages/sklearn/model_selection/_split.py:680: UserWarning: The least populated class in y has only 4 members, which is less than n_splits=5.\n",
            "  UserWarning,\n"
          ]
        },
        {
          "output_type": "stream",
          "name": "stdout",
          "text": [
            "f1 = 0.5721655427905427\n",
            "acc = 0.7238095238095238\n",
            "*************************\n"
          ]
        }
      ],
      "source": [
        "result_f1, result_acc, f1_sum, acc_sum, data_all,labels_all, features_df_all = get_metrics(['DE',  'RASM', 'DCAU'])\n",
        "# f1_data_sum['ALL4'] = result_f1\n",
        "# acc_data_sum['ALL4'] = result_acc\n",
        "# print(acc_data_sum)\n",
        "# print(f1_data_sum)"
      ]
    },
    {
      "cell_type": "code",
      "execution_count": 26,
      "metadata": {
        "colab": {
          "base_uri": "https://localhost:8080/"
        },
        "outputId": "8110d5da-ac0e-4448-ec99-3a41ed01fa40",
        "id": "4161wOLP5W4O"
      },
      "outputs": [
        {
          "output_type": "stream",
          "name": "stdout",
          "text": [
            "valence\n"
          ]
        },
        {
          "output_type": "stream",
          "name": "stderr",
          "text": [
            "/usr/local/lib/python3.7/dist-packages/sklearn/model_selection/_split.py:680: UserWarning: The least populated class in y has only 2 members, which is less than n_splits=5.\n",
            "  UserWarning,\n",
            "/usr/local/lib/python3.7/dist-packages/sklearn/model_selection/_split.py:680: UserWarning: The least populated class in y has only 4 members, which is less than n_splits=5.\n",
            "  UserWarning,\n",
            "/usr/local/lib/python3.7/dist-packages/sklearn/model_selection/_split.py:680: UserWarning: The least populated class in y has only 2 members, which is less than n_splits=5.\n",
            "  UserWarning,\n",
            "/usr/local/lib/python3.7/dist-packages/sklearn/model_selection/_split.py:680: UserWarning: The least populated class in y has only 3 members, which is less than n_splits=5.\n",
            "  UserWarning,\n",
            "/usr/local/lib/python3.7/dist-packages/sklearn/model_selection/_split.py:680: UserWarning: The least populated class in y has only 3 members, which is less than n_splits=5.\n",
            "  UserWarning,\n",
            "/usr/local/lib/python3.7/dist-packages/sklearn/model_selection/_split.py:680: UserWarning: The least populated class in y has only 3 members, which is less than n_splits=5.\n",
            "  UserWarning,\n"
          ]
        },
        {
          "output_type": "stream",
          "name": "stdout",
          "text": [
            "f1 = 0.6208581349206349\n",
            "acc = 0.7337425595238096\n",
            "*************************\n",
            "arousal\n"
          ]
        },
        {
          "output_type": "stream",
          "name": "stderr",
          "text": [
            "/usr/local/lib/python3.7/dist-packages/sklearn/model_selection/_split.py:680: UserWarning: The least populated class in y has only 4 members, which is less than n_splits=5.\n",
            "  UserWarning,\n",
            "/usr/local/lib/python3.7/dist-packages/sklearn/model_selection/_split.py:680: UserWarning: The least populated class in y has only 3 members, which is less than n_splits=5.\n",
            "  UserWarning,\n",
            "/usr/local/lib/python3.7/dist-packages/sklearn/model_selection/_split.py:680: UserWarning: The least populated class in y has only 4 members, which is less than n_splits=5.\n",
            "  UserWarning,\n",
            "/usr/local/lib/python3.7/dist-packages/sklearn/model_selection/_split.py:680: UserWarning: The least populated class in y has only 3 members, which is less than n_splits=5.\n",
            "  UserWarning,\n",
            "/usr/local/lib/python3.7/dist-packages/sklearn/model_selection/_split.py:680: UserWarning: The least populated class in y has only 4 members, which is less than n_splits=5.\n",
            "  UserWarning,\n",
            "/usr/local/lib/python3.7/dist-packages/sklearn/model_selection/_split.py:680: UserWarning: The least populated class in y has only 4 members, which is less than n_splits=5.\n",
            "  UserWarning,\n",
            "/usr/local/lib/python3.7/dist-packages/sklearn/model_selection/_split.py:680: UserWarning: The least populated class in y has only 4 members, which is less than n_splits=5.\n",
            "  UserWarning,\n",
            "/usr/local/lib/python3.7/dist-packages/sklearn/model_selection/_split.py:680: UserWarning: The least populated class in y has only 4 members, which is less than n_splits=5.\n",
            "  UserWarning,\n"
          ]
        },
        {
          "output_type": "stream",
          "name": "stdout",
          "text": [
            "f1 = 0.5627558552558554\n",
            "acc = 0.7217187499999997\n",
            "*************************\n"
          ]
        }
      ],
      "source": [
        "result_f1, result_acc, f1_sum, acc_sum, data_all,labels_all, features_df_all = get_metrics([ 'DASM', 'RASM', 'DCAU'])\n",
        "# f1_data_sum['ALL4'] = result_f1\n",
        "# acc_data_sum['ALL4'] = result_acc\n",
        "# print(acc_data_sum)\n",
        "# print(f1_data_sum)"
      ]
    },
    {
      "cell_type": "code",
      "execution_count": 27,
      "metadata": {
        "colab": {
          "base_uri": "https://localhost:8080/"
        },
        "outputId": "009ba7a0-b56a-4a4a-9841-e94831fa2e77",
        "id": "mNGZ6I0W5W4O"
      },
      "outputs": [
        {
          "output_type": "stream",
          "name": "stdout",
          "text": [
            "valence\n"
          ]
        },
        {
          "output_type": "stream",
          "name": "stderr",
          "text": [
            "/usr/local/lib/python3.7/dist-packages/sklearn/model_selection/_split.py:680: UserWarning: The least populated class in y has only 2 members, which is less than n_splits=5.\n",
            "  UserWarning,\n",
            "/usr/local/lib/python3.7/dist-packages/sklearn/model_selection/_split.py:680: UserWarning: The least populated class in y has only 4 members, which is less than n_splits=5.\n",
            "  UserWarning,\n",
            "/usr/local/lib/python3.7/dist-packages/sklearn/model_selection/_split.py:680: UserWarning: The least populated class in y has only 2 members, which is less than n_splits=5.\n",
            "  UserWarning,\n",
            "/usr/local/lib/python3.7/dist-packages/sklearn/model_selection/_split.py:680: UserWarning: The least populated class in y has only 3 members, which is less than n_splits=5.\n",
            "  UserWarning,\n",
            "/usr/local/lib/python3.7/dist-packages/sklearn/model_selection/_split.py:680: UserWarning: The least populated class in y has only 3 members, which is less than n_splits=5.\n",
            "  UserWarning,\n",
            "/usr/local/lib/python3.7/dist-packages/sklearn/model_selection/_split.py:680: UserWarning: The least populated class in y has only 3 members, which is less than n_splits=5.\n",
            "  UserWarning,\n"
          ]
        },
        {
          "output_type": "stream",
          "name": "stdout",
          "text": [
            "f1 = 0.6213667929292931\n",
            "acc = 0.7208333333333333\n",
            "*************************\n",
            "arousal\n"
          ]
        },
        {
          "output_type": "stream",
          "name": "stderr",
          "text": [
            "/usr/local/lib/python3.7/dist-packages/sklearn/model_selection/_split.py:680: UserWarning: The least populated class in y has only 4 members, which is less than n_splits=5.\n",
            "  UserWarning,\n",
            "/usr/local/lib/python3.7/dist-packages/sklearn/model_selection/_split.py:680: UserWarning: The least populated class in y has only 3 members, which is less than n_splits=5.\n",
            "  UserWarning,\n",
            "/usr/local/lib/python3.7/dist-packages/sklearn/model_selection/_split.py:680: UserWarning: The least populated class in y has only 4 members, which is less than n_splits=5.\n",
            "  UserWarning,\n",
            "/usr/local/lib/python3.7/dist-packages/sklearn/model_selection/_split.py:680: UserWarning: The least populated class in y has only 3 members, which is less than n_splits=5.\n",
            "  UserWarning,\n",
            "/usr/local/lib/python3.7/dist-packages/sklearn/model_selection/_split.py:680: UserWarning: The least populated class in y has only 4 members, which is less than n_splits=5.\n",
            "  UserWarning,\n",
            "/usr/local/lib/python3.7/dist-packages/sklearn/model_selection/_split.py:680: UserWarning: The least populated class in y has only 4 members, which is less than n_splits=5.\n",
            "  UserWarning,\n",
            "/usr/local/lib/python3.7/dist-packages/sklearn/model_selection/_split.py:680: UserWarning: The least populated class in y has only 4 members, which is less than n_splits=5.\n",
            "  UserWarning,\n",
            "/usr/local/lib/python3.7/dist-packages/sklearn/model_selection/_split.py:680: UserWarning: The least populated class in y has only 4 members, which is less than n_splits=5.\n",
            "  UserWarning,\n"
          ]
        },
        {
          "output_type": "stream",
          "name": "stdout",
          "text": [
            "f1 = 0.5842442626817629\n",
            "acc = 0.7402232142857144\n",
            "*************************\n"
          ]
        }
      ],
      "source": [
        "result_f1, result_acc, f1_sum, acc_sum, data_all,labels_all, features_df_all = get_metrics(['DE', 'RASM'])#, 'beta/theta', 'SMR/theta', 'theta/alpha1267'])\n",
        "# f1_data_sum['ALL4'] = result_f1\n",
        "# acc_data_sum['ALL4'] = result_acc\n",
        "# print(acc_data_sum)\n",
        "# print(f1_data_sum)"
      ]
    },
    {
      "cell_type": "code",
      "execution_count": 28,
      "metadata": {
        "colab": {
          "base_uri": "https://localhost:8080/"
        },
        "outputId": "b985556a-add9-4abb-ea5d-c37aa18728c6",
        "id": "eCYcX0ci5W4P"
      },
      "outputs": [
        {
          "output_type": "stream",
          "name": "stdout",
          "text": [
            "valence\n"
          ]
        },
        {
          "output_type": "stream",
          "name": "stderr",
          "text": [
            "/usr/local/lib/python3.7/dist-packages/sklearn/model_selection/_split.py:680: UserWarning: The least populated class in y has only 2 members, which is less than n_splits=5.\n",
            "  UserWarning,\n",
            "/usr/local/lib/python3.7/dist-packages/sklearn/model_selection/_split.py:680: UserWarning: The least populated class in y has only 4 members, which is less than n_splits=5.\n",
            "  UserWarning,\n",
            "/usr/local/lib/python3.7/dist-packages/sklearn/model_selection/_split.py:680: UserWarning: The least populated class in y has only 2 members, which is less than n_splits=5.\n",
            "  UserWarning,\n",
            "/usr/local/lib/python3.7/dist-packages/sklearn/model_selection/_split.py:680: UserWarning: The least populated class in y has only 3 members, which is less than n_splits=5.\n",
            "  UserWarning,\n",
            "/usr/local/lib/python3.7/dist-packages/sklearn/model_selection/_split.py:680: UserWarning: The least populated class in y has only 3 members, which is less than n_splits=5.\n",
            "  UserWarning,\n",
            "/usr/local/lib/python3.7/dist-packages/sklearn/model_selection/_split.py:680: UserWarning: The least populated class in y has only 3 members, which is less than n_splits=5.\n",
            "  UserWarning,\n"
          ]
        },
        {
          "output_type": "stream",
          "name": "stdout",
          "text": [
            "f1 = 0.6638359036796538\n",
            "acc = 0.7588020833333334\n",
            "*************************\n",
            "arousal\n"
          ]
        },
        {
          "output_type": "stream",
          "name": "stderr",
          "text": [
            "/usr/local/lib/python3.7/dist-packages/sklearn/model_selection/_split.py:680: UserWarning: The least populated class in y has only 4 members, which is less than n_splits=5.\n",
            "  UserWarning,\n",
            "/usr/local/lib/python3.7/dist-packages/sklearn/model_selection/_split.py:680: UserWarning: The least populated class in y has only 3 members, which is less than n_splits=5.\n",
            "  UserWarning,\n",
            "/usr/local/lib/python3.7/dist-packages/sklearn/model_selection/_split.py:680: UserWarning: The least populated class in y has only 4 members, which is less than n_splits=5.\n",
            "  UserWarning,\n",
            "/usr/local/lib/python3.7/dist-packages/sklearn/model_selection/_split.py:680: UserWarning: The least populated class in y has only 3 members, which is less than n_splits=5.\n",
            "  UserWarning,\n",
            "/usr/local/lib/python3.7/dist-packages/sklearn/model_selection/_split.py:680: UserWarning: The least populated class in y has only 4 members, which is less than n_splits=5.\n",
            "  UserWarning,\n",
            "/usr/local/lib/python3.7/dist-packages/sklearn/model_selection/_split.py:680: UserWarning: The least populated class in y has only 4 members, which is less than n_splits=5.\n",
            "  UserWarning,\n",
            "/usr/local/lib/python3.7/dist-packages/sklearn/model_selection/_split.py:680: UserWarning: The least populated class in y has only 4 members, which is less than n_splits=5.\n",
            "  UserWarning,\n",
            "/usr/local/lib/python3.7/dist-packages/sklearn/model_selection/_split.py:680: UserWarning: The least populated class in y has only 4 members, which is less than n_splits=5.\n",
            "  UserWarning,\n"
          ]
        },
        {
          "output_type": "stream",
          "name": "stdout",
          "text": [
            "f1 = 0.5510116272616272\n",
            "acc = 0.716279761904762\n",
            "*************************\n"
          ]
        }
      ],
      "source": [
        "result_f1, result_acc, f1_sum, acc_sum, data_all,labels_all, features_df_all = get_metrics(['DE', 'DASM'])\n",
        "# f1_data_sum['ALL4'] = result_f1\n",
        "# acc_data_sum['ALL4'] = result_acc\n",
        "# print(acc_data_sum)\n",
        "# print(f1_data_sum)"
      ]
    },
    {
      "cell_type": "code",
      "execution_count": 29,
      "metadata": {
        "id": "6cuR_x-D5W4Q",
        "colab": {
          "base_uri": "https://localhost:8080/"
        },
        "outputId": "7a133189-a632-4be0-cc38-6dcc1618e600"
      },
      "outputs": [
        {
          "output_type": "stream",
          "name": "stdout",
          "text": [
            "valence\n"
          ]
        },
        {
          "output_type": "stream",
          "name": "stderr",
          "text": [
            "/usr/local/lib/python3.7/dist-packages/sklearn/model_selection/_split.py:680: UserWarning: The least populated class in y has only 2 members, which is less than n_splits=5.\n",
            "  UserWarning,\n",
            "/usr/local/lib/python3.7/dist-packages/sklearn/model_selection/_split.py:680: UserWarning: The least populated class in y has only 4 members, which is less than n_splits=5.\n",
            "  UserWarning,\n",
            "/usr/local/lib/python3.7/dist-packages/sklearn/model_selection/_split.py:680: UserWarning: The least populated class in y has only 2 members, which is less than n_splits=5.\n",
            "  UserWarning,\n",
            "/usr/local/lib/python3.7/dist-packages/sklearn/model_selection/_split.py:680: UserWarning: The least populated class in y has only 3 members, which is less than n_splits=5.\n",
            "  UserWarning,\n",
            "/usr/local/lib/python3.7/dist-packages/sklearn/model_selection/_split.py:680: UserWarning: The least populated class in y has only 3 members, which is less than n_splits=5.\n",
            "  UserWarning,\n",
            "/usr/local/lib/python3.7/dist-packages/sklearn/model_selection/_split.py:680: UserWarning: The least populated class in y has only 3 members, which is less than n_splits=5.\n",
            "  UserWarning,\n"
          ]
        },
        {
          "output_type": "stream",
          "name": "stdout",
          "text": [
            "f1 = 0.6510344516594517\n",
            "acc = 0.748735119047619\n",
            "*************************\n",
            "arousal\n"
          ]
        },
        {
          "output_type": "stream",
          "name": "stderr",
          "text": [
            "/usr/local/lib/python3.7/dist-packages/sklearn/model_selection/_split.py:680: UserWarning: The least populated class in y has only 4 members, which is less than n_splits=5.\n",
            "  UserWarning,\n",
            "/usr/local/lib/python3.7/dist-packages/sklearn/model_selection/_split.py:680: UserWarning: The least populated class in y has only 3 members, which is less than n_splits=5.\n",
            "  UserWarning,\n",
            "/usr/local/lib/python3.7/dist-packages/sklearn/model_selection/_split.py:680: UserWarning: The least populated class in y has only 4 members, which is less than n_splits=5.\n",
            "  UserWarning,\n",
            "/usr/local/lib/python3.7/dist-packages/sklearn/model_selection/_split.py:680: UserWarning: The least populated class in y has only 3 members, which is less than n_splits=5.\n",
            "  UserWarning,\n",
            "/usr/local/lib/python3.7/dist-packages/sklearn/model_selection/_split.py:680: UserWarning: The least populated class in y has only 4 members, which is less than n_splits=5.\n",
            "  UserWarning,\n",
            "/usr/local/lib/python3.7/dist-packages/sklearn/model_selection/_split.py:680: UserWarning: The least populated class in y has only 4 members, which is less than n_splits=5.\n",
            "  UserWarning,\n",
            "/usr/local/lib/python3.7/dist-packages/sklearn/model_selection/_split.py:680: UserWarning: The least populated class in y has only 4 members, which is less than n_splits=5.\n",
            "  UserWarning,\n",
            "/usr/local/lib/python3.7/dist-packages/sklearn/model_selection/_split.py:680: UserWarning: The least populated class in y has only 4 members, which is less than n_splits=5.\n",
            "  UserWarning,\n"
          ]
        },
        {
          "output_type": "stream",
          "name": "stdout",
          "text": [
            "f1 = 0.575796078921079\n",
            "acc = 0.7209151785714286\n",
            "*************************\n"
          ]
        }
      ],
      "source": [
        "result_f1, result_acc, f1_sum, acc_sum, data_all,labels_all, features_df_all = get_metrics(['DE', 'DASM', 'RASM'])\n",
        "# f1_data_sum['ALL4'] = result_f1\n",
        "# acc_data_sum['ALL4'] = result_acc\n",
        "# print(acc_data_sum)\n",
        "# print(f1_data_sum)"
      ]
    },
    {
      "cell_type": "code",
      "execution_count": 30,
      "metadata": {
        "id": "-8Wg1Bir5W4Q"
      },
      "outputs": [],
      "source": [
        "import pandas as pd\n",
        "bands = [ 'theta',  'alpha', 'beta' ,'gamma']\n",
        "index = ['DE', 'DASM', 'RASM', 'DCAU']\n",
        "f1_data_bands_val = pd.DataFrame(columns = bands, index = index)\n",
        "acc_data_bands_val = pd.DataFrame(columns = bands, index = index)\n",
        "f1_data_bands_arousal = pd.DataFrame(columns = bands, index = index)\n",
        "acc_data_bands_arousal = pd.DataFrame(columns = bands, index = index)"
      ]
    },
    {
      "cell_type": "code",
      "execution_count": 31,
      "metadata": {
        "id": "QKI3W3yn5W4Q",
        "colab": {
          "base_uri": "https://localhost:8080/"
        },
        "outputId": "f98ed18d-f914-4f53-ba19-f1a6494b9552"
      },
      "outputs": [
        {
          "output_type": "stream",
          "name": "stdout",
          "text": [
            "valence\n"
          ]
        },
        {
          "output_type": "stream",
          "name": "stderr",
          "text": [
            "/usr/local/lib/python3.7/dist-packages/sklearn/model_selection/_split.py:680: UserWarning: The least populated class in y has only 2 members, which is less than n_splits=5.\n",
            "  UserWarning,\n",
            "/usr/local/lib/python3.7/dist-packages/sklearn/model_selection/_split.py:680: UserWarning: The least populated class in y has only 4 members, which is less than n_splits=5.\n",
            "  UserWarning,\n",
            "/usr/local/lib/python3.7/dist-packages/sklearn/model_selection/_split.py:680: UserWarning: The least populated class in y has only 2 members, which is less than n_splits=5.\n",
            "  UserWarning,\n",
            "/usr/local/lib/python3.7/dist-packages/sklearn/model_selection/_split.py:680: UserWarning: The least populated class in y has only 3 members, which is less than n_splits=5.\n",
            "  UserWarning,\n",
            "/usr/local/lib/python3.7/dist-packages/sklearn/model_selection/_split.py:680: UserWarning: The least populated class in y has only 3 members, which is less than n_splits=5.\n",
            "  UserWarning,\n",
            "/usr/local/lib/python3.7/dist-packages/sklearn/model_selection/_split.py:680: UserWarning: The least populated class in y has only 3 members, which is less than n_splits=5.\n",
            "  UserWarning,\n"
          ]
        },
        {
          "output_type": "stream",
          "name": "stdout",
          "text": [
            "f1 = 0.5653835227272729\n",
            "acc = 0.668110119047619\n",
            "*************************\n",
            "arousal\n"
          ]
        },
        {
          "output_type": "stream",
          "name": "stderr",
          "text": [
            "/usr/local/lib/python3.7/dist-packages/sklearn/model_selection/_split.py:680: UserWarning: The least populated class in y has only 4 members, which is less than n_splits=5.\n",
            "  UserWarning,\n",
            "/usr/local/lib/python3.7/dist-packages/sklearn/model_selection/_split.py:680: UserWarning: The least populated class in y has only 3 members, which is less than n_splits=5.\n",
            "  UserWarning,\n",
            "/usr/local/lib/python3.7/dist-packages/sklearn/model_selection/_split.py:680: UserWarning: The least populated class in y has only 4 members, which is less than n_splits=5.\n",
            "  UserWarning,\n",
            "/usr/local/lib/python3.7/dist-packages/sklearn/model_selection/_split.py:680: UserWarning: The least populated class in y has only 3 members, which is less than n_splits=5.\n",
            "  UserWarning,\n",
            "/usr/local/lib/python3.7/dist-packages/sklearn/model_selection/_split.py:680: UserWarning: The least populated class in y has only 4 members, which is less than n_splits=5.\n",
            "  UserWarning,\n",
            "/usr/local/lib/python3.7/dist-packages/sklearn/model_selection/_split.py:680: UserWarning: The least populated class in y has only 4 members, which is less than n_splits=5.\n",
            "  UserWarning,\n",
            "/usr/local/lib/python3.7/dist-packages/sklearn/model_selection/_split.py:680: UserWarning: The least populated class in y has only 4 members, which is less than n_splits=5.\n",
            "  UserWarning,\n",
            "/usr/local/lib/python3.7/dist-packages/sklearn/model_selection/_split.py:680: UserWarning: The least populated class in y has only 4 members, which is less than n_splits=5.\n",
            "  UserWarning,\n"
          ]
        },
        {
          "output_type": "stream",
          "name": "stdout",
          "text": [
            "f1 = 0.5429088793151293\n",
            "acc = 0.6984375\n",
            "*************************\n",
            "[0.5653835227272729, 0.5429088793151293]\n",
            "valence\n"
          ]
        },
        {
          "output_type": "stream",
          "name": "stderr",
          "text": [
            "/usr/local/lib/python3.7/dist-packages/sklearn/model_selection/_split.py:680: UserWarning: The least populated class in y has only 2 members, which is less than n_splits=5.\n",
            "  UserWarning,\n",
            "/usr/local/lib/python3.7/dist-packages/sklearn/model_selection/_split.py:680: UserWarning: The least populated class in y has only 4 members, which is less than n_splits=5.\n",
            "  UserWarning,\n",
            "/usr/local/lib/python3.7/dist-packages/sklearn/model_selection/_split.py:680: UserWarning: The least populated class in y has only 2 members, which is less than n_splits=5.\n",
            "  UserWarning,\n",
            "/usr/local/lib/python3.7/dist-packages/sklearn/model_selection/_split.py:680: UserWarning: The least populated class in y has only 3 members, which is less than n_splits=5.\n",
            "  UserWarning,\n",
            "/usr/local/lib/python3.7/dist-packages/sklearn/model_selection/_split.py:680: UserWarning: The least populated class in y has only 3 members, which is less than n_splits=5.\n",
            "  UserWarning,\n",
            "/usr/local/lib/python3.7/dist-packages/sklearn/model_selection/_split.py:680: UserWarning: The least populated class in y has only 3 members, which is less than n_splits=5.\n",
            "  UserWarning,\n"
          ]
        },
        {
          "output_type": "stream",
          "name": "stdout",
          "text": [
            "f1 = 0.5746590909090911\n",
            "acc = 0.6766815476190476\n",
            "*************************\n",
            "arousal\n"
          ]
        },
        {
          "output_type": "stream",
          "name": "stderr",
          "text": [
            "/usr/local/lib/python3.7/dist-packages/sklearn/model_selection/_split.py:680: UserWarning: The least populated class in y has only 4 members, which is less than n_splits=5.\n",
            "  UserWarning,\n",
            "/usr/local/lib/python3.7/dist-packages/sklearn/model_selection/_split.py:680: UserWarning: The least populated class in y has only 3 members, which is less than n_splits=5.\n",
            "  UserWarning,\n",
            "/usr/local/lib/python3.7/dist-packages/sklearn/model_selection/_split.py:680: UserWarning: The least populated class in y has only 4 members, which is less than n_splits=5.\n",
            "  UserWarning,\n",
            "/usr/local/lib/python3.7/dist-packages/sklearn/model_selection/_split.py:680: UserWarning: The least populated class in y has only 3 members, which is less than n_splits=5.\n",
            "  UserWarning,\n",
            "/usr/local/lib/python3.7/dist-packages/sklearn/model_selection/_split.py:680: UserWarning: The least populated class in y has only 4 members, which is less than n_splits=5.\n",
            "  UserWarning,\n",
            "/usr/local/lib/python3.7/dist-packages/sklearn/model_selection/_split.py:680: UserWarning: The least populated class in y has only 4 members, which is less than n_splits=5.\n",
            "  UserWarning,\n",
            "/usr/local/lib/python3.7/dist-packages/sklearn/model_selection/_split.py:680: UserWarning: The least populated class in y has only 4 members, which is less than n_splits=5.\n",
            "  UserWarning,\n",
            "/usr/local/lib/python3.7/dist-packages/sklearn/model_selection/_split.py:680: UserWarning: The least populated class in y has only 4 members, which is less than n_splits=5.\n",
            "  UserWarning,\n"
          ]
        },
        {
          "output_type": "stream",
          "name": "stdout",
          "text": [
            "f1 = 0.5378731164668664\n",
            "acc = 0.6893005952380953\n",
            "*************************\n",
            "[0.5746590909090911, 0.5378731164668664]\n",
            "valence\n"
          ]
        },
        {
          "output_type": "stream",
          "name": "stderr",
          "text": [
            "/usr/local/lib/python3.7/dist-packages/sklearn/model_selection/_split.py:680: UserWarning: The least populated class in y has only 2 members, which is less than n_splits=5.\n",
            "  UserWarning,\n",
            "/usr/local/lib/python3.7/dist-packages/sklearn/model_selection/_split.py:680: UserWarning: The least populated class in y has only 4 members, which is less than n_splits=5.\n",
            "  UserWarning,\n",
            "/usr/local/lib/python3.7/dist-packages/sklearn/model_selection/_split.py:680: UserWarning: The least populated class in y has only 2 members, which is less than n_splits=5.\n",
            "  UserWarning,\n",
            "/usr/local/lib/python3.7/dist-packages/sklearn/model_selection/_split.py:680: UserWarning: The least populated class in y has only 3 members, which is less than n_splits=5.\n",
            "  UserWarning,\n",
            "/usr/local/lib/python3.7/dist-packages/sklearn/model_selection/_split.py:680: UserWarning: The least populated class in y has only 3 members, which is less than n_splits=5.\n",
            "  UserWarning,\n",
            "/usr/local/lib/python3.7/dist-packages/sklearn/model_selection/_split.py:680: UserWarning: The least populated class in y has only 3 members, which is less than n_splits=5.\n",
            "  UserWarning,\n"
          ]
        },
        {
          "output_type": "stream",
          "name": "stdout",
          "text": [
            "f1 = 0.6150656114718615\n",
            "acc = 0.7100372023809524\n",
            "*************************\n",
            "arousal\n"
          ]
        },
        {
          "output_type": "stream",
          "name": "stderr",
          "text": [
            "/usr/local/lib/python3.7/dist-packages/sklearn/model_selection/_split.py:680: UserWarning: The least populated class in y has only 4 members, which is less than n_splits=5.\n",
            "  UserWarning,\n",
            "/usr/local/lib/python3.7/dist-packages/sklearn/model_selection/_split.py:680: UserWarning: The least populated class in y has only 3 members, which is less than n_splits=5.\n",
            "  UserWarning,\n",
            "/usr/local/lib/python3.7/dist-packages/sklearn/model_selection/_split.py:680: UserWarning: The least populated class in y has only 4 members, which is less than n_splits=5.\n",
            "  UserWarning,\n",
            "/usr/local/lib/python3.7/dist-packages/sklearn/model_selection/_split.py:680: UserWarning: The least populated class in y has only 3 members, which is less than n_splits=5.\n",
            "  UserWarning,\n",
            "/usr/local/lib/python3.7/dist-packages/sklearn/model_selection/_split.py:680: UserWarning: The least populated class in y has only 4 members, which is less than n_splits=5.\n",
            "  UserWarning,\n",
            "/usr/local/lib/python3.7/dist-packages/sklearn/model_selection/_split.py:680: UserWarning: The least populated class in y has only 4 members, which is less than n_splits=5.\n",
            "  UserWarning,\n",
            "/usr/local/lib/python3.7/dist-packages/sklearn/model_selection/_split.py:680: UserWarning: The least populated class in y has only 4 members, which is less than n_splits=5.\n",
            "  UserWarning,\n",
            "/usr/local/lib/python3.7/dist-packages/sklearn/model_selection/_split.py:680: UserWarning: The least populated class in y has only 4 members, which is less than n_splits=5.\n",
            "  UserWarning,\n"
          ]
        },
        {
          "output_type": "stream",
          "name": "stdout",
          "text": [
            "f1 = 0.5401313616938616\n",
            "acc = 0.692157738095238\n",
            "*************************\n",
            "[0.6150656114718615, 0.5401313616938616]\n",
            "valence\n"
          ]
        },
        {
          "output_type": "stream",
          "name": "stderr",
          "text": [
            "/usr/local/lib/python3.7/dist-packages/sklearn/model_selection/_split.py:680: UserWarning: The least populated class in y has only 2 members, which is less than n_splits=5.\n",
            "  UserWarning,\n",
            "/usr/local/lib/python3.7/dist-packages/sklearn/model_selection/_split.py:680: UserWarning: The least populated class in y has only 4 members, which is less than n_splits=5.\n",
            "  UserWarning,\n",
            "/usr/local/lib/python3.7/dist-packages/sklearn/model_selection/_split.py:680: UserWarning: The least populated class in y has only 2 members, which is less than n_splits=5.\n",
            "  UserWarning,\n",
            "/usr/local/lib/python3.7/dist-packages/sklearn/model_selection/_split.py:680: UserWarning: The least populated class in y has only 3 members, which is less than n_splits=5.\n",
            "  UserWarning,\n",
            "/usr/local/lib/python3.7/dist-packages/sklearn/model_selection/_split.py:680: UserWarning: The least populated class in y has only 3 members, which is less than n_splits=5.\n",
            "  UserWarning,\n",
            "/usr/local/lib/python3.7/dist-packages/sklearn/model_selection/_split.py:680: UserWarning: The least populated class in y has only 3 members, which is less than n_splits=5.\n",
            "  UserWarning,\n"
          ]
        },
        {
          "output_type": "stream",
          "name": "stdout",
          "text": [
            "f1 = 0.5949745220057722\n",
            "acc = 0.697938988095238\n",
            "*************************\n",
            "arousal\n"
          ]
        },
        {
          "output_type": "stream",
          "name": "stderr",
          "text": [
            "/usr/local/lib/python3.7/dist-packages/sklearn/model_selection/_split.py:680: UserWarning: The least populated class in y has only 4 members, which is less than n_splits=5.\n",
            "  UserWarning,\n",
            "/usr/local/lib/python3.7/dist-packages/sklearn/model_selection/_split.py:680: UserWarning: The least populated class in y has only 3 members, which is less than n_splits=5.\n",
            "  UserWarning,\n",
            "/usr/local/lib/python3.7/dist-packages/sklearn/model_selection/_split.py:680: UserWarning: The least populated class in y has only 4 members, which is less than n_splits=5.\n",
            "  UserWarning,\n",
            "/usr/local/lib/python3.7/dist-packages/sklearn/model_selection/_split.py:680: UserWarning: The least populated class in y has only 3 members, which is less than n_splits=5.\n",
            "  UserWarning,\n",
            "/usr/local/lib/python3.7/dist-packages/sklearn/model_selection/_split.py:680: UserWarning: The least populated class in y has only 4 members, which is less than n_splits=5.\n",
            "  UserWarning,\n",
            "/usr/local/lib/python3.7/dist-packages/sklearn/model_selection/_split.py:680: UserWarning: The least populated class in y has only 4 members, which is less than n_splits=5.\n",
            "  UserWarning,\n",
            "/usr/local/lib/python3.7/dist-packages/sklearn/model_selection/_split.py:680: UserWarning: The least populated class in y has only 4 members, which is less than n_splits=5.\n",
            "  UserWarning,\n",
            "/usr/local/lib/python3.7/dist-packages/sklearn/model_selection/_split.py:680: UserWarning: The least populated class in y has only 4 members, which is less than n_splits=5.\n",
            "  UserWarning,\n"
          ]
        },
        {
          "output_type": "stream",
          "name": "stdout",
          "text": [
            "f1 = 0.5450480075480078\n",
            "acc = 0.6939211309523811\n",
            "*************************\n",
            "[0.5949745220057722, 0.5450480075480078]\n"
          ]
        }
      ],
      "source": [
        "for i in range(4):\n",
        "    result_f1, result_acc, _, _, _, _, _ = get_metrics([f'DE{i + 1}'])\n",
        "    print(result_f1)\n",
        "    f1_data_bands_val.loc['DE', bands[i]] = result_f1[0]\n",
        "    acc_data_bands_val.loc['DE', bands[i]] = result_acc[0]\n",
        "    f1_data_bands_arousal.loc['DE', bands[i]] = result_f1[1]\n",
        "    acc_data_bands_arousal.loc['DE', bands[i]] = result_acc[1]\n"
      ]
    },
    {
      "cell_type": "code",
      "execution_count": 32,
      "metadata": {
        "id": "yOhyYp635W4Q",
        "colab": {
          "base_uri": "https://localhost:8080/"
        },
        "outputId": "23765518-450e-421d-f772-5d99e2f2fefd"
      },
      "outputs": [
        {
          "output_type": "stream",
          "name": "stdout",
          "text": [
            "valence\n"
          ]
        },
        {
          "output_type": "stream",
          "name": "stderr",
          "text": [
            "/usr/local/lib/python3.7/dist-packages/sklearn/model_selection/_split.py:680: UserWarning: The least populated class in y has only 2 members, which is less than n_splits=5.\n",
            "  UserWarning,\n",
            "/usr/local/lib/python3.7/dist-packages/sklearn/model_selection/_split.py:680: UserWarning: The least populated class in y has only 4 members, which is less than n_splits=5.\n",
            "  UserWarning,\n",
            "/usr/local/lib/python3.7/dist-packages/sklearn/model_selection/_split.py:680: UserWarning: The least populated class in y has only 2 members, which is less than n_splits=5.\n",
            "  UserWarning,\n",
            "/usr/local/lib/python3.7/dist-packages/sklearn/model_selection/_split.py:680: UserWarning: The least populated class in y has only 3 members, which is less than n_splits=5.\n",
            "  UserWarning,\n",
            "/usr/local/lib/python3.7/dist-packages/sklearn/model_selection/_split.py:680: UserWarning: The least populated class in y has only 3 members, which is less than n_splits=5.\n",
            "  UserWarning,\n",
            "/usr/local/lib/python3.7/dist-packages/sklearn/model_selection/_split.py:680: UserWarning: The least populated class in y has only 3 members, which is less than n_splits=5.\n",
            "  UserWarning,\n"
          ]
        },
        {
          "output_type": "stream",
          "name": "stdout",
          "text": [
            "f1 = 0.5723365349927849\n",
            "acc = 0.6803869047619049\n",
            "*************************\n",
            "arousal\n"
          ]
        },
        {
          "output_type": "stream",
          "name": "stderr",
          "text": [
            "/usr/local/lib/python3.7/dist-packages/sklearn/model_selection/_split.py:680: UserWarning: The least populated class in y has only 4 members, which is less than n_splits=5.\n",
            "  UserWarning,\n",
            "/usr/local/lib/python3.7/dist-packages/sklearn/model_selection/_split.py:680: UserWarning: The least populated class in y has only 3 members, which is less than n_splits=5.\n",
            "  UserWarning,\n",
            "/usr/local/lib/python3.7/dist-packages/sklearn/model_selection/_split.py:680: UserWarning: The least populated class in y has only 4 members, which is less than n_splits=5.\n",
            "  UserWarning,\n",
            "/usr/local/lib/python3.7/dist-packages/sklearn/model_selection/_split.py:680: UserWarning: The least populated class in y has only 3 members, which is less than n_splits=5.\n",
            "  UserWarning,\n",
            "/usr/local/lib/python3.7/dist-packages/sklearn/model_selection/_split.py:680: UserWarning: The least populated class in y has only 4 members, which is less than n_splits=5.\n",
            "  UserWarning,\n",
            "/usr/local/lib/python3.7/dist-packages/sklearn/model_selection/_split.py:680: UserWarning: The least populated class in y has only 4 members, which is less than n_splits=5.\n",
            "  UserWarning,\n",
            "/usr/local/lib/python3.7/dist-packages/sklearn/model_selection/_split.py:680: UserWarning: The least populated class in y has only 4 members, which is less than n_splits=5.\n",
            "  UserWarning,\n",
            "/usr/local/lib/python3.7/dist-packages/sklearn/model_selection/_split.py:680: UserWarning: The least populated class in y has only 4 members, which is less than n_splits=5.\n",
            "  UserWarning,\n"
          ]
        },
        {
          "output_type": "stream",
          "name": "stdout",
          "text": [
            "f1 = 0.513812663031413\n",
            "acc = 0.6742410714285715\n",
            "*************************\n",
            "[0.5723365349927849, 0.513812663031413]\n",
            "valence\n"
          ]
        },
        {
          "output_type": "stream",
          "name": "stderr",
          "text": [
            "/usr/local/lib/python3.7/dist-packages/sklearn/model_selection/_split.py:680: UserWarning: The least populated class in y has only 2 members, which is less than n_splits=5.\n",
            "  UserWarning,\n",
            "/usr/local/lib/python3.7/dist-packages/sklearn/model_selection/_split.py:680: UserWarning: The least populated class in y has only 4 members, which is less than n_splits=5.\n",
            "  UserWarning,\n",
            "/usr/local/lib/python3.7/dist-packages/sklearn/model_selection/_split.py:680: UserWarning: The least populated class in y has only 2 members, which is less than n_splits=5.\n",
            "  UserWarning,\n",
            "/usr/local/lib/python3.7/dist-packages/sklearn/model_selection/_split.py:680: UserWarning: The least populated class in y has only 3 members, which is less than n_splits=5.\n",
            "  UserWarning,\n",
            "/usr/local/lib/python3.7/dist-packages/sklearn/model_selection/_split.py:680: UserWarning: The least populated class in y has only 3 members, which is less than n_splits=5.\n",
            "  UserWarning,\n",
            "/usr/local/lib/python3.7/dist-packages/sklearn/model_selection/_split.py:680: UserWarning: The least populated class in y has only 3 members, which is less than n_splits=5.\n",
            "  UserWarning,\n"
          ]
        },
        {
          "output_type": "stream",
          "name": "stdout",
          "text": [
            "f1 = 0.5664507887945387\n",
            "acc = 0.6815848214285715\n",
            "*************************\n",
            "arousal\n"
          ]
        },
        {
          "output_type": "stream",
          "name": "stderr",
          "text": [
            "/usr/local/lib/python3.7/dist-packages/sklearn/model_selection/_split.py:680: UserWarning: The least populated class in y has only 4 members, which is less than n_splits=5.\n",
            "  UserWarning,\n",
            "/usr/local/lib/python3.7/dist-packages/sklearn/model_selection/_split.py:680: UserWarning: The least populated class in y has only 3 members, which is less than n_splits=5.\n",
            "  UserWarning,\n",
            "/usr/local/lib/python3.7/dist-packages/sklearn/model_selection/_split.py:680: UserWarning: The least populated class in y has only 4 members, which is less than n_splits=5.\n",
            "  UserWarning,\n",
            "/usr/local/lib/python3.7/dist-packages/sklearn/model_selection/_split.py:680: UserWarning: The least populated class in y has only 3 members, which is less than n_splits=5.\n",
            "  UserWarning,\n",
            "/usr/local/lib/python3.7/dist-packages/sklearn/model_selection/_split.py:680: UserWarning: The least populated class in y has only 4 members, which is less than n_splits=5.\n",
            "  UserWarning,\n",
            "/usr/local/lib/python3.7/dist-packages/sklearn/model_selection/_split.py:680: UserWarning: The least populated class in y has only 4 members, which is less than n_splits=5.\n",
            "  UserWarning,\n",
            "/usr/local/lib/python3.7/dist-packages/sklearn/model_selection/_split.py:680: UserWarning: The least populated class in y has only 4 members, which is less than n_splits=5.\n",
            "  UserWarning,\n",
            "/usr/local/lib/python3.7/dist-packages/sklearn/model_selection/_split.py:680: UserWarning: The least populated class in y has only 4 members, which is less than n_splits=5.\n",
            "  UserWarning,\n"
          ]
        },
        {
          "output_type": "stream",
          "name": "stdout",
          "text": [
            "f1 = 0.5358476072538574\n",
            "acc = 0.6948883928571429\n",
            "*************************\n",
            "[0.5664507887945387, 0.5358476072538574]\n",
            "valence\n"
          ]
        },
        {
          "output_type": "stream",
          "name": "stderr",
          "text": [
            "/usr/local/lib/python3.7/dist-packages/sklearn/model_selection/_split.py:680: UserWarning: The least populated class in y has only 2 members, which is less than n_splits=5.\n",
            "  UserWarning,\n",
            "/usr/local/lib/python3.7/dist-packages/sklearn/model_selection/_split.py:680: UserWarning: The least populated class in y has only 4 members, which is less than n_splits=5.\n",
            "  UserWarning,\n",
            "/usr/local/lib/python3.7/dist-packages/sklearn/model_selection/_split.py:680: UserWarning: The least populated class in y has only 2 members, which is less than n_splits=5.\n",
            "  UserWarning,\n",
            "/usr/local/lib/python3.7/dist-packages/sklearn/model_selection/_split.py:680: UserWarning: The least populated class in y has only 3 members, which is less than n_splits=5.\n",
            "  UserWarning,\n",
            "/usr/local/lib/python3.7/dist-packages/sklearn/model_selection/_split.py:680: UserWarning: The least populated class in y has only 3 members, which is less than n_splits=5.\n",
            "  UserWarning,\n",
            "/usr/local/lib/python3.7/dist-packages/sklearn/model_selection/_split.py:680: UserWarning: The least populated class in y has only 3 members, which is less than n_splits=5.\n",
            "  UserWarning,\n"
          ]
        },
        {
          "output_type": "stream",
          "name": "stdout",
          "text": [
            "f1 = 0.6140113185425686\n",
            "acc = 0.7123065476190477\n",
            "*************************\n",
            "arousal\n"
          ]
        },
        {
          "output_type": "stream",
          "name": "stderr",
          "text": [
            "/usr/local/lib/python3.7/dist-packages/sklearn/model_selection/_split.py:680: UserWarning: The least populated class in y has only 4 members, which is less than n_splits=5.\n",
            "  UserWarning,\n",
            "/usr/local/lib/python3.7/dist-packages/sklearn/model_selection/_split.py:680: UserWarning: The least populated class in y has only 3 members, which is less than n_splits=5.\n",
            "  UserWarning,\n",
            "/usr/local/lib/python3.7/dist-packages/sklearn/model_selection/_split.py:680: UserWarning: The least populated class in y has only 4 members, which is less than n_splits=5.\n",
            "  UserWarning,\n",
            "/usr/local/lib/python3.7/dist-packages/sklearn/model_selection/_split.py:680: UserWarning: The least populated class in y has only 3 members, which is less than n_splits=5.\n",
            "  UserWarning,\n",
            "/usr/local/lib/python3.7/dist-packages/sklearn/model_selection/_split.py:680: UserWarning: The least populated class in y has only 4 members, which is less than n_splits=5.\n",
            "  UserWarning,\n",
            "/usr/local/lib/python3.7/dist-packages/sklearn/model_selection/_split.py:680: UserWarning: The least populated class in y has only 4 members, which is less than n_splits=5.\n",
            "  UserWarning,\n",
            "/usr/local/lib/python3.7/dist-packages/sklearn/model_selection/_split.py:680: UserWarning: The least populated class in y has only 4 members, which is less than n_splits=5.\n",
            "  UserWarning,\n",
            "/usr/local/lib/python3.7/dist-packages/sklearn/model_selection/_split.py:680: UserWarning: The least populated class in y has only 4 members, which is less than n_splits=5.\n",
            "  UserWarning,\n"
          ]
        },
        {
          "output_type": "stream",
          "name": "stdout",
          "text": [
            "f1 = 0.5544455197580198\n",
            "acc = 0.6947172619047616\n",
            "*************************\n",
            "[0.6140113185425686, 0.5544455197580198]\n",
            "valence\n"
          ]
        },
        {
          "output_type": "stream",
          "name": "stderr",
          "text": [
            "/usr/local/lib/python3.7/dist-packages/sklearn/model_selection/_split.py:680: UserWarning: The least populated class in y has only 2 members, which is less than n_splits=5.\n",
            "  UserWarning,\n",
            "/usr/local/lib/python3.7/dist-packages/sklearn/model_selection/_split.py:680: UserWarning: The least populated class in y has only 4 members, which is less than n_splits=5.\n",
            "  UserWarning,\n",
            "/usr/local/lib/python3.7/dist-packages/sklearn/model_selection/_split.py:680: UserWarning: The least populated class in y has only 2 members, which is less than n_splits=5.\n",
            "  UserWarning,\n",
            "/usr/local/lib/python3.7/dist-packages/sklearn/model_selection/_split.py:680: UserWarning: The least populated class in y has only 3 members, which is less than n_splits=5.\n",
            "  UserWarning,\n",
            "/usr/local/lib/python3.7/dist-packages/sklearn/model_selection/_split.py:680: UserWarning: The least populated class in y has only 3 members, which is less than n_splits=5.\n",
            "  UserWarning,\n",
            "/usr/local/lib/python3.7/dist-packages/sklearn/model_selection/_split.py:680: UserWarning: The least populated class in y has only 3 members, which is less than n_splits=5.\n",
            "  UserWarning,\n"
          ]
        },
        {
          "output_type": "stream",
          "name": "stdout",
          "text": [
            "f1 = 0.5632215007215008\n",
            "acc = 0.6811979166666667\n",
            "*************************\n",
            "arousal\n"
          ]
        },
        {
          "output_type": "stream",
          "name": "stderr",
          "text": [
            "/usr/local/lib/python3.7/dist-packages/sklearn/model_selection/_split.py:680: UserWarning: The least populated class in y has only 4 members, which is less than n_splits=5.\n",
            "  UserWarning,\n",
            "/usr/local/lib/python3.7/dist-packages/sklearn/model_selection/_split.py:680: UserWarning: The least populated class in y has only 3 members, which is less than n_splits=5.\n",
            "  UserWarning,\n",
            "/usr/local/lib/python3.7/dist-packages/sklearn/model_selection/_split.py:680: UserWarning: The least populated class in y has only 4 members, which is less than n_splits=5.\n",
            "  UserWarning,\n",
            "/usr/local/lib/python3.7/dist-packages/sklearn/model_selection/_split.py:680: UserWarning: The least populated class in y has only 3 members, which is less than n_splits=5.\n",
            "  UserWarning,\n",
            "/usr/local/lib/python3.7/dist-packages/sklearn/model_selection/_split.py:680: UserWarning: The least populated class in y has only 4 members, which is less than n_splits=5.\n",
            "  UserWarning,\n",
            "/usr/local/lib/python3.7/dist-packages/sklearn/model_selection/_split.py:680: UserWarning: The least populated class in y has only 4 members, which is less than n_splits=5.\n",
            "  UserWarning,\n",
            "/usr/local/lib/python3.7/dist-packages/sklearn/model_selection/_split.py:680: UserWarning: The least populated class in y has only 4 members, which is less than n_splits=5.\n",
            "  UserWarning,\n",
            "/usr/local/lib/python3.7/dist-packages/sklearn/model_selection/_split.py:680: UserWarning: The least populated class in y has only 4 members, which is less than n_splits=5.\n",
            "  UserWarning,\n"
          ]
        },
        {
          "output_type": "stream",
          "name": "stdout",
          "text": [
            "f1 = 0.5655787615162615\n",
            "acc = 0.6985491071428571\n",
            "*************************\n",
            "[0.5632215007215008, 0.5655787615162615]\n"
          ]
        }
      ],
      "source": [
        "for i in range(4):\n",
        "    result_f1, result_acc,  _, _, _, _, _ = get_metrics([f'DASM{i + 1}'])\n",
        "    print(result_f1)\n",
        "    f1_data_bands_val.loc['DASM', bands[i]] = result_f1[0]\n",
        "    acc_data_bands_val.loc['DASM', bands[i]] = result_acc[0]\n",
        "    f1_data_bands_arousal.loc['DASM', bands[i]] = result_f1[1]\n",
        "    acc_data_bands_arousal.loc['DASM', bands[i]] = result_acc[1]"
      ]
    },
    {
      "cell_type": "code",
      "execution_count": 33,
      "metadata": {
        "colab": {
          "base_uri": "https://localhost:8080/"
        },
        "id": "DC55eU4I5W4Q",
        "outputId": "b274d63e-d3c3-4c17-8ec2-6e1185def855"
      },
      "outputs": [
        {
          "output_type": "stream",
          "name": "stdout",
          "text": [
            "valence\n"
          ]
        },
        {
          "output_type": "stream",
          "name": "stderr",
          "text": [
            "/usr/local/lib/python3.7/dist-packages/sklearn/model_selection/_split.py:680: UserWarning: The least populated class in y has only 2 members, which is less than n_splits=5.\n",
            "  UserWarning,\n",
            "/usr/local/lib/python3.7/dist-packages/sklearn/model_selection/_split.py:680: UserWarning: The least populated class in y has only 4 members, which is less than n_splits=5.\n",
            "  UserWarning,\n",
            "/usr/local/lib/python3.7/dist-packages/sklearn/model_selection/_split.py:680: UserWarning: The least populated class in y has only 2 members, which is less than n_splits=5.\n",
            "  UserWarning,\n",
            "/usr/local/lib/python3.7/dist-packages/sklearn/model_selection/_split.py:680: UserWarning: The least populated class in y has only 3 members, which is less than n_splits=5.\n",
            "  UserWarning,\n",
            "/usr/local/lib/python3.7/dist-packages/sklearn/model_selection/_split.py:680: UserWarning: The least populated class in y has only 3 members, which is less than n_splits=5.\n",
            "  UserWarning,\n",
            "/usr/local/lib/python3.7/dist-packages/sklearn/model_selection/_split.py:680: UserWarning: The least populated class in y has only 3 members, which is less than n_splits=5.\n",
            "  UserWarning,\n"
          ]
        },
        {
          "output_type": "stream",
          "name": "stdout",
          "text": [
            "f1 = 0.5762554112554114\n",
            "acc = 0.6789434523809523\n",
            "*************************\n",
            "arousal\n"
          ]
        },
        {
          "output_type": "stream",
          "name": "stderr",
          "text": [
            "/usr/local/lib/python3.7/dist-packages/sklearn/model_selection/_split.py:680: UserWarning: The least populated class in y has only 4 members, which is less than n_splits=5.\n",
            "  UserWarning,\n",
            "/usr/local/lib/python3.7/dist-packages/sklearn/model_selection/_split.py:680: UserWarning: The least populated class in y has only 3 members, which is less than n_splits=5.\n",
            "  UserWarning,\n",
            "/usr/local/lib/python3.7/dist-packages/sklearn/model_selection/_split.py:680: UserWarning: The least populated class in y has only 4 members, which is less than n_splits=5.\n",
            "  UserWarning,\n",
            "/usr/local/lib/python3.7/dist-packages/sklearn/model_selection/_split.py:680: UserWarning: The least populated class in y has only 3 members, which is less than n_splits=5.\n",
            "  UserWarning,\n",
            "/usr/local/lib/python3.7/dist-packages/sklearn/model_selection/_split.py:680: UserWarning: The least populated class in y has only 4 members, which is less than n_splits=5.\n",
            "  UserWarning,\n",
            "/usr/local/lib/python3.7/dist-packages/sklearn/model_selection/_split.py:680: UserWarning: The least populated class in y has only 4 members, which is less than n_splits=5.\n",
            "  UserWarning,\n",
            "/usr/local/lib/python3.7/dist-packages/sklearn/model_selection/_split.py:680: UserWarning: The least populated class in y has only 4 members, which is less than n_splits=5.\n",
            "  UserWarning,\n",
            "/usr/local/lib/python3.7/dist-packages/sklearn/model_selection/_split.py:680: UserWarning: The least populated class in y has only 4 members, which is less than n_splits=5.\n",
            "  UserWarning,\n"
          ]
        },
        {
          "output_type": "stream",
          "name": "stdout",
          "text": [
            "f1 = 0.5243016358641358\n",
            "acc = 0.6825595238095238\n",
            "*************************\n",
            "[0.5762554112554114, 0.5243016358641358]\n",
            "valence\n"
          ]
        },
        {
          "output_type": "stream",
          "name": "stderr",
          "text": [
            "/usr/local/lib/python3.7/dist-packages/sklearn/model_selection/_split.py:680: UserWarning: The least populated class in y has only 2 members, which is less than n_splits=5.\n",
            "  UserWarning,\n",
            "/usr/local/lib/python3.7/dist-packages/sklearn/model_selection/_split.py:680: UserWarning: The least populated class in y has only 4 members, which is less than n_splits=5.\n",
            "  UserWarning,\n",
            "/usr/local/lib/python3.7/dist-packages/sklearn/model_selection/_split.py:680: UserWarning: The least populated class in y has only 2 members, which is less than n_splits=5.\n",
            "  UserWarning,\n",
            "/usr/local/lib/python3.7/dist-packages/sklearn/model_selection/_split.py:680: UserWarning: The least populated class in y has only 3 members, which is less than n_splits=5.\n",
            "  UserWarning,\n",
            "/usr/local/lib/python3.7/dist-packages/sklearn/model_selection/_split.py:680: UserWarning: The least populated class in y has only 3 members, which is less than n_splits=5.\n",
            "  UserWarning,\n",
            "/usr/local/lib/python3.7/dist-packages/sklearn/model_selection/_split.py:680: UserWarning: The least populated class in y has only 3 members, which is less than n_splits=5.\n",
            "  UserWarning,\n"
          ]
        },
        {
          "output_type": "stream",
          "name": "stdout",
          "text": [
            "f1 = 0.5654008838383839\n",
            "acc = 0.683936011904762\n",
            "*************************\n",
            "arousal\n"
          ]
        },
        {
          "output_type": "stream",
          "name": "stderr",
          "text": [
            "/usr/local/lib/python3.7/dist-packages/sklearn/model_selection/_split.py:680: UserWarning: The least populated class in y has only 4 members, which is less than n_splits=5.\n",
            "  UserWarning,\n",
            "/usr/local/lib/python3.7/dist-packages/sklearn/model_selection/_split.py:680: UserWarning: The least populated class in y has only 3 members, which is less than n_splits=5.\n",
            "  UserWarning,\n",
            "/usr/local/lib/python3.7/dist-packages/sklearn/model_selection/_split.py:680: UserWarning: The least populated class in y has only 4 members, which is less than n_splits=5.\n",
            "  UserWarning,\n",
            "/usr/local/lib/python3.7/dist-packages/sklearn/model_selection/_split.py:680: UserWarning: The least populated class in y has only 3 members, which is less than n_splits=5.\n",
            "  UserWarning,\n",
            "/usr/local/lib/python3.7/dist-packages/sklearn/model_selection/_split.py:680: UserWarning: The least populated class in y has only 4 members, which is less than n_splits=5.\n",
            "  UserWarning,\n",
            "/usr/local/lib/python3.7/dist-packages/sklearn/model_selection/_split.py:680: UserWarning: The least populated class in y has only 4 members, which is less than n_splits=5.\n",
            "  UserWarning,\n",
            "/usr/local/lib/python3.7/dist-packages/sklearn/model_selection/_split.py:680: UserWarning: The least populated class in y has only 4 members, which is less than n_splits=5.\n",
            "  UserWarning,\n",
            "/usr/local/lib/python3.7/dist-packages/sklearn/model_selection/_split.py:680: UserWarning: The least populated class in y has only 4 members, which is less than n_splits=5.\n",
            "  UserWarning,\n"
          ]
        },
        {
          "output_type": "stream",
          "name": "stdout",
          "text": [
            "f1 = 0.5217057768620268\n",
            "acc = 0.6745833333333333\n",
            "*************************\n",
            "[0.5654008838383839, 0.5217057768620268]\n",
            "valence\n"
          ]
        },
        {
          "output_type": "stream",
          "name": "stderr",
          "text": [
            "/usr/local/lib/python3.7/dist-packages/sklearn/model_selection/_split.py:680: UserWarning: The least populated class in y has only 2 members, which is less than n_splits=5.\n",
            "  UserWarning,\n",
            "/usr/local/lib/python3.7/dist-packages/sklearn/model_selection/_split.py:680: UserWarning: The least populated class in y has only 4 members, which is less than n_splits=5.\n",
            "  UserWarning,\n",
            "/usr/local/lib/python3.7/dist-packages/sklearn/model_selection/_split.py:680: UserWarning: The least populated class in y has only 2 members, which is less than n_splits=5.\n",
            "  UserWarning,\n",
            "/usr/local/lib/python3.7/dist-packages/sklearn/model_selection/_split.py:680: UserWarning: The least populated class in y has only 3 members, which is less than n_splits=5.\n",
            "  UserWarning,\n",
            "/usr/local/lib/python3.7/dist-packages/sklearn/model_selection/_split.py:680: UserWarning: The least populated class in y has only 3 members, which is less than n_splits=5.\n",
            "  UserWarning,\n",
            "/usr/local/lib/python3.7/dist-packages/sklearn/model_selection/_split.py:680: UserWarning: The least populated class in y has only 3 members, which is less than n_splits=5.\n",
            "  UserWarning,\n"
          ]
        },
        {
          "output_type": "stream",
          "name": "stdout",
          "text": [
            "f1 = 0.6064472853535355\n",
            "acc = 0.7051488095238098\n",
            "*************************\n",
            "arousal\n"
          ]
        },
        {
          "output_type": "stream",
          "name": "stderr",
          "text": [
            "/usr/local/lib/python3.7/dist-packages/sklearn/model_selection/_split.py:680: UserWarning: The least populated class in y has only 4 members, which is less than n_splits=5.\n",
            "  UserWarning,\n",
            "/usr/local/lib/python3.7/dist-packages/sklearn/model_selection/_split.py:680: UserWarning: The least populated class in y has only 3 members, which is less than n_splits=5.\n",
            "  UserWarning,\n",
            "/usr/local/lib/python3.7/dist-packages/sklearn/model_selection/_split.py:680: UserWarning: The least populated class in y has only 4 members, which is less than n_splits=5.\n",
            "  UserWarning,\n",
            "/usr/local/lib/python3.7/dist-packages/sklearn/model_selection/_split.py:680: UserWarning: The least populated class in y has only 3 members, which is less than n_splits=5.\n",
            "  UserWarning,\n",
            "/usr/local/lib/python3.7/dist-packages/sklearn/model_selection/_split.py:680: UserWarning: The least populated class in y has only 4 members, which is less than n_splits=5.\n",
            "  UserWarning,\n",
            "/usr/local/lib/python3.7/dist-packages/sklearn/model_selection/_split.py:680: UserWarning: The least populated class in y has only 4 members, which is less than n_splits=5.\n",
            "  UserWarning,\n",
            "/usr/local/lib/python3.7/dist-packages/sklearn/model_selection/_split.py:680: UserWarning: The least populated class in y has only 4 members, which is less than n_splits=5.\n",
            "  UserWarning,\n",
            "/usr/local/lib/python3.7/dist-packages/sklearn/model_selection/_split.py:680: UserWarning: The least populated class in y has only 4 members, which is less than n_splits=5.\n",
            "  UserWarning,\n"
          ]
        },
        {
          "output_type": "stream",
          "name": "stdout",
          "text": [
            "f1 = 0.5478755099067599\n",
            "acc = 0.7008556547619047\n",
            "*************************\n",
            "[0.6064472853535355, 0.5478755099067599]\n",
            "valence\n"
          ]
        },
        {
          "output_type": "stream",
          "name": "stderr",
          "text": [
            "/usr/local/lib/python3.7/dist-packages/sklearn/model_selection/_split.py:680: UserWarning: The least populated class in y has only 2 members, which is less than n_splits=5.\n",
            "  UserWarning,\n",
            "/usr/local/lib/python3.7/dist-packages/sklearn/model_selection/_split.py:680: UserWarning: The least populated class in y has only 4 members, which is less than n_splits=5.\n",
            "  UserWarning,\n",
            "/usr/local/lib/python3.7/dist-packages/sklearn/model_selection/_split.py:680: UserWarning: The least populated class in y has only 2 members, which is less than n_splits=5.\n",
            "  UserWarning,\n",
            "/usr/local/lib/python3.7/dist-packages/sklearn/model_selection/_split.py:680: UserWarning: The least populated class in y has only 3 members, which is less than n_splits=5.\n",
            "  UserWarning,\n",
            "/usr/local/lib/python3.7/dist-packages/sklearn/model_selection/_split.py:680: UserWarning: The least populated class in y has only 3 members, which is less than n_splits=5.\n",
            "  UserWarning,\n",
            "/usr/local/lib/python3.7/dist-packages/sklearn/model_selection/_split.py:680: UserWarning: The least populated class in y has only 3 members, which is less than n_splits=5.\n",
            "  UserWarning,\n"
          ]
        },
        {
          "output_type": "stream",
          "name": "stdout",
          "text": [
            "f1 = 0.6059900342712845\n",
            "acc = 0.7021056547619048\n",
            "*************************\n",
            "arousal\n"
          ]
        },
        {
          "output_type": "stream",
          "name": "stderr",
          "text": [
            "/usr/local/lib/python3.7/dist-packages/sklearn/model_selection/_split.py:680: UserWarning: The least populated class in y has only 4 members, which is less than n_splits=5.\n",
            "  UserWarning,\n",
            "/usr/local/lib/python3.7/dist-packages/sklearn/model_selection/_split.py:680: UserWarning: The least populated class in y has only 3 members, which is less than n_splits=5.\n",
            "  UserWarning,\n",
            "/usr/local/lib/python3.7/dist-packages/sklearn/model_selection/_split.py:680: UserWarning: The least populated class in y has only 4 members, which is less than n_splits=5.\n",
            "  UserWarning,\n",
            "/usr/local/lib/python3.7/dist-packages/sklearn/model_selection/_split.py:680: UserWarning: The least populated class in y has only 3 members, which is less than n_splits=5.\n",
            "  UserWarning,\n",
            "/usr/local/lib/python3.7/dist-packages/sklearn/model_selection/_split.py:680: UserWarning: The least populated class in y has only 4 members, which is less than n_splits=5.\n",
            "  UserWarning,\n",
            "/usr/local/lib/python3.7/dist-packages/sklearn/model_selection/_split.py:680: UserWarning: The least populated class in y has only 4 members, which is less than n_splits=5.\n",
            "  UserWarning,\n",
            "/usr/local/lib/python3.7/dist-packages/sklearn/model_selection/_split.py:680: UserWarning: The least populated class in y has only 4 members, which is less than n_splits=5.\n",
            "  UserWarning,\n",
            "/usr/local/lib/python3.7/dist-packages/sklearn/model_selection/_split.py:680: UserWarning: The least populated class in y has only 4 members, which is less than n_splits=5.\n",
            "  UserWarning,\n"
          ]
        },
        {
          "output_type": "stream",
          "name": "stdout",
          "text": [
            "f1 = 0.564085705960706\n",
            "acc = 0.7048214285714286\n",
            "*************************\n",
            "[0.6059900342712845, 0.564085705960706]\n"
          ]
        }
      ],
      "source": [
        "for i in range(4):\n",
        "    result_f1, result_acc,  _, _, _, _, _= get_metrics([f'RASM{i + 1}'])\n",
        "    print(result_f1)\n",
        "    f1_data_bands_val.loc['RASM', bands[i]] = result_f1[0]\n",
        "    acc_data_bands_val.loc['RASM', bands[i]] = result_acc[0]\n",
        "    f1_data_bands_arousal.loc['RASM', bands[i]] = result_f1[1]\n",
        "    acc_data_bands_arousal.loc['RASM', bands[i]] = result_acc[1]"
      ]
    },
    {
      "cell_type": "code",
      "execution_count": 34,
      "metadata": {
        "id": "G5Wum4Ym5W4R",
        "colab": {
          "base_uri": "https://localhost:8080/"
        },
        "outputId": "ecb4382f-4734-4c0c-c732-77b9f43d109f"
      },
      "outputs": [
        {
          "output_type": "stream",
          "name": "stdout",
          "text": [
            "valence\n"
          ]
        },
        {
          "output_type": "stream",
          "name": "stderr",
          "text": [
            "/usr/local/lib/python3.7/dist-packages/sklearn/model_selection/_split.py:680: UserWarning: The least populated class in y has only 2 members, which is less than n_splits=5.\n",
            "  UserWarning,\n",
            "/usr/local/lib/python3.7/dist-packages/sklearn/model_selection/_split.py:680: UserWarning: The least populated class in y has only 4 members, which is less than n_splits=5.\n",
            "  UserWarning,\n",
            "/usr/local/lib/python3.7/dist-packages/sklearn/model_selection/_split.py:680: UserWarning: The least populated class in y has only 2 members, which is less than n_splits=5.\n",
            "  UserWarning,\n",
            "/usr/local/lib/python3.7/dist-packages/sklearn/model_selection/_split.py:680: UserWarning: The least populated class in y has only 3 members, which is less than n_splits=5.\n",
            "  UserWarning,\n",
            "/usr/local/lib/python3.7/dist-packages/sklearn/model_selection/_split.py:680: UserWarning: The least populated class in y has only 3 members, which is less than n_splits=5.\n",
            "  UserWarning,\n",
            "/usr/local/lib/python3.7/dist-packages/sklearn/model_selection/_split.py:680: UserWarning: The least populated class in y has only 3 members, which is less than n_splits=5.\n",
            "  UserWarning,\n"
          ]
        },
        {
          "output_type": "stream",
          "name": "stdout",
          "text": [
            "f1 = 0.5355000901875901\n",
            "acc = 0.649203869047619\n",
            "*************************\n",
            "arousal\n"
          ]
        },
        {
          "output_type": "stream",
          "name": "stderr",
          "text": [
            "/usr/local/lib/python3.7/dist-packages/sklearn/model_selection/_split.py:680: UserWarning: The least populated class in y has only 4 members, which is less than n_splits=5.\n",
            "  UserWarning,\n",
            "/usr/local/lib/python3.7/dist-packages/sklearn/model_selection/_split.py:680: UserWarning: The least populated class in y has only 3 members, which is less than n_splits=5.\n",
            "  UserWarning,\n",
            "/usr/local/lib/python3.7/dist-packages/sklearn/model_selection/_split.py:680: UserWarning: The least populated class in y has only 4 members, which is less than n_splits=5.\n",
            "  UserWarning,\n",
            "/usr/local/lib/python3.7/dist-packages/sklearn/model_selection/_split.py:680: UserWarning: The least populated class in y has only 3 members, which is less than n_splits=5.\n",
            "  UserWarning,\n",
            "/usr/local/lib/python3.7/dist-packages/sklearn/model_selection/_split.py:680: UserWarning: The least populated class in y has only 4 members, which is less than n_splits=5.\n",
            "  UserWarning,\n",
            "/usr/local/lib/python3.7/dist-packages/sklearn/model_selection/_split.py:680: UserWarning: The least populated class in y has only 4 members, which is less than n_splits=5.\n",
            "  UserWarning,\n",
            "/usr/local/lib/python3.7/dist-packages/sklearn/model_selection/_split.py:680: UserWarning: The least populated class in y has only 4 members, which is less than n_splits=5.\n",
            "  UserWarning,\n",
            "/usr/local/lib/python3.7/dist-packages/sklearn/model_selection/_split.py:680: UserWarning: The least populated class in y has only 4 members, which is less than n_splits=5.\n",
            "  UserWarning,\n"
          ]
        },
        {
          "output_type": "stream",
          "name": "stdout",
          "text": [
            "f1 = 0.5079681082806083\n",
            "acc = 0.6636011904761903\n",
            "*************************\n",
            "[0.5355000901875901, 0.5079681082806083]\n",
            "valence\n"
          ]
        },
        {
          "output_type": "stream",
          "name": "stderr",
          "text": [
            "/usr/local/lib/python3.7/dist-packages/sklearn/model_selection/_split.py:680: UserWarning: The least populated class in y has only 2 members, which is less than n_splits=5.\n",
            "  UserWarning,\n",
            "/usr/local/lib/python3.7/dist-packages/sklearn/model_selection/_split.py:680: UserWarning: The least populated class in y has only 4 members, which is less than n_splits=5.\n",
            "  UserWarning,\n",
            "/usr/local/lib/python3.7/dist-packages/sklearn/model_selection/_split.py:680: UserWarning: The least populated class in y has only 2 members, which is less than n_splits=5.\n",
            "  UserWarning,\n",
            "/usr/local/lib/python3.7/dist-packages/sklearn/model_selection/_split.py:680: UserWarning: The least populated class in y has only 3 members, which is less than n_splits=5.\n",
            "  UserWarning,\n",
            "/usr/local/lib/python3.7/dist-packages/sklearn/model_selection/_split.py:680: UserWarning: The least populated class in y has only 3 members, which is less than n_splits=5.\n",
            "  UserWarning,\n",
            "/usr/local/lib/python3.7/dist-packages/sklearn/model_selection/_split.py:680: UserWarning: The least populated class in y has only 3 members, which is less than n_splits=5.\n",
            "  UserWarning,\n"
          ]
        },
        {
          "output_type": "stream",
          "name": "stdout",
          "text": [
            "f1 = 0.5471588654401155\n",
            "acc = 0.6599032738095238\n",
            "*************************\n",
            "arousal\n"
          ]
        },
        {
          "output_type": "stream",
          "name": "stderr",
          "text": [
            "/usr/local/lib/python3.7/dist-packages/sklearn/model_selection/_split.py:680: UserWarning: The least populated class in y has only 4 members, which is less than n_splits=5.\n",
            "  UserWarning,\n",
            "/usr/local/lib/python3.7/dist-packages/sklearn/model_selection/_split.py:680: UserWarning: The least populated class in y has only 3 members, which is less than n_splits=5.\n",
            "  UserWarning,\n",
            "/usr/local/lib/python3.7/dist-packages/sklearn/model_selection/_split.py:680: UserWarning: The least populated class in y has only 4 members, which is less than n_splits=5.\n",
            "  UserWarning,\n",
            "/usr/local/lib/python3.7/dist-packages/sklearn/model_selection/_split.py:680: UserWarning: The least populated class in y has only 3 members, which is less than n_splits=5.\n",
            "  UserWarning,\n",
            "/usr/local/lib/python3.7/dist-packages/sklearn/model_selection/_split.py:680: UserWarning: The least populated class in y has only 4 members, which is less than n_splits=5.\n",
            "  UserWarning,\n",
            "/usr/local/lib/python3.7/dist-packages/sklearn/model_selection/_split.py:680: UserWarning: The least populated class in y has only 4 members, which is less than n_splits=5.\n",
            "  UserWarning,\n",
            "/usr/local/lib/python3.7/dist-packages/sklearn/model_selection/_split.py:680: UserWarning: The least populated class in y has only 4 members, which is less than n_splits=5.\n",
            "  UserWarning,\n",
            "/usr/local/lib/python3.7/dist-packages/sklearn/model_selection/_split.py:680: UserWarning: The least populated class in y has only 4 members, which is less than n_splits=5.\n",
            "  UserWarning,\n"
          ]
        },
        {
          "output_type": "stream",
          "name": "stdout",
          "text": [
            "f1 = 0.557169497169497\n",
            "acc = 0.6955654761904762\n",
            "*************************\n",
            "[0.5471588654401155, 0.557169497169497]\n",
            "valence\n"
          ]
        },
        {
          "output_type": "stream",
          "name": "stderr",
          "text": [
            "/usr/local/lib/python3.7/dist-packages/sklearn/model_selection/_split.py:680: UserWarning: The least populated class in y has only 2 members, which is less than n_splits=5.\n",
            "  UserWarning,\n",
            "/usr/local/lib/python3.7/dist-packages/sklearn/model_selection/_split.py:680: UserWarning: The least populated class in y has only 4 members, which is less than n_splits=5.\n",
            "  UserWarning,\n",
            "/usr/local/lib/python3.7/dist-packages/sklearn/model_selection/_split.py:680: UserWarning: The least populated class in y has only 2 members, which is less than n_splits=5.\n",
            "  UserWarning,\n",
            "/usr/local/lib/python3.7/dist-packages/sklearn/model_selection/_split.py:680: UserWarning: The least populated class in y has only 3 members, which is less than n_splits=5.\n",
            "  UserWarning,\n",
            "/usr/local/lib/python3.7/dist-packages/sklearn/model_selection/_split.py:680: UserWarning: The least populated class in y has only 3 members, which is less than n_splits=5.\n",
            "  UserWarning,\n",
            "/usr/local/lib/python3.7/dist-packages/sklearn/model_selection/_split.py:680: UserWarning: The least populated class in y has only 3 members, which is less than n_splits=5.\n",
            "  UserWarning,\n"
          ]
        },
        {
          "output_type": "stream",
          "name": "stdout",
          "text": [
            "f1 = 0.5766420905483406\n",
            "acc = 0.6800595238095238\n",
            "*************************\n",
            "arousal\n"
          ]
        },
        {
          "output_type": "stream",
          "name": "stderr",
          "text": [
            "/usr/local/lib/python3.7/dist-packages/sklearn/model_selection/_split.py:680: UserWarning: The least populated class in y has only 4 members, which is less than n_splits=5.\n",
            "  UserWarning,\n",
            "/usr/local/lib/python3.7/dist-packages/sklearn/model_selection/_split.py:680: UserWarning: The least populated class in y has only 3 members, which is less than n_splits=5.\n",
            "  UserWarning,\n",
            "/usr/local/lib/python3.7/dist-packages/sklearn/model_selection/_split.py:680: UserWarning: The least populated class in y has only 4 members, which is less than n_splits=5.\n",
            "  UserWarning,\n",
            "/usr/local/lib/python3.7/dist-packages/sklearn/model_selection/_split.py:680: UserWarning: The least populated class in y has only 3 members, which is less than n_splits=5.\n",
            "  UserWarning,\n",
            "/usr/local/lib/python3.7/dist-packages/sklearn/model_selection/_split.py:680: UserWarning: The least populated class in y has only 4 members, which is less than n_splits=5.\n",
            "  UserWarning,\n",
            "/usr/local/lib/python3.7/dist-packages/sklearn/model_selection/_split.py:680: UserWarning: The least populated class in y has only 4 members, which is less than n_splits=5.\n",
            "  UserWarning,\n",
            "/usr/local/lib/python3.7/dist-packages/sklearn/model_selection/_split.py:680: UserWarning: The least populated class in y has only 4 members, which is less than n_splits=5.\n",
            "  UserWarning,\n",
            "/usr/local/lib/python3.7/dist-packages/sklearn/model_selection/_split.py:680: UserWarning: The least populated class in y has only 4 members, which is less than n_splits=5.\n",
            "  UserWarning,\n"
          ]
        },
        {
          "output_type": "stream",
          "name": "stdout",
          "text": [
            "f1 = 0.5314237845487845\n",
            "acc = 0.6858482142857144\n",
            "*************************\n",
            "[0.5766420905483406, 0.5314237845487845]\n",
            "valence\n"
          ]
        },
        {
          "output_type": "stream",
          "name": "stderr",
          "text": [
            "/usr/local/lib/python3.7/dist-packages/sklearn/model_selection/_split.py:680: UserWarning: The least populated class in y has only 2 members, which is less than n_splits=5.\n",
            "  UserWarning,\n",
            "/usr/local/lib/python3.7/dist-packages/sklearn/model_selection/_split.py:680: UserWarning: The least populated class in y has only 4 members, which is less than n_splits=5.\n",
            "  UserWarning,\n",
            "/usr/local/lib/python3.7/dist-packages/sklearn/model_selection/_split.py:680: UserWarning: The least populated class in y has only 2 members, which is less than n_splits=5.\n",
            "  UserWarning,\n",
            "/usr/local/lib/python3.7/dist-packages/sklearn/model_selection/_split.py:680: UserWarning: The least populated class in y has only 3 members, which is less than n_splits=5.\n",
            "  UserWarning,\n",
            "/usr/local/lib/python3.7/dist-packages/sklearn/model_selection/_split.py:680: UserWarning: The least populated class in y has only 3 members, which is less than n_splits=5.\n",
            "  UserWarning,\n",
            "/usr/local/lib/python3.7/dist-packages/sklearn/model_selection/_split.py:680: UserWarning: The least populated class in y has only 3 members, which is less than n_splits=5.\n",
            "  UserWarning,\n"
          ]
        },
        {
          "output_type": "stream",
          "name": "stdout",
          "text": [
            "f1 = 0.5677011183261182\n",
            "acc = 0.6675372023809524\n",
            "*************************\n",
            "arousal\n"
          ]
        },
        {
          "output_type": "stream",
          "name": "stderr",
          "text": [
            "/usr/local/lib/python3.7/dist-packages/sklearn/model_selection/_split.py:680: UserWarning: The least populated class in y has only 4 members, which is less than n_splits=5.\n",
            "  UserWarning,\n",
            "/usr/local/lib/python3.7/dist-packages/sklearn/model_selection/_split.py:680: UserWarning: The least populated class in y has only 3 members, which is less than n_splits=5.\n",
            "  UserWarning,\n",
            "/usr/local/lib/python3.7/dist-packages/sklearn/model_selection/_split.py:680: UserWarning: The least populated class in y has only 4 members, which is less than n_splits=5.\n",
            "  UserWarning,\n",
            "/usr/local/lib/python3.7/dist-packages/sklearn/model_selection/_split.py:680: UserWarning: The least populated class in y has only 3 members, which is less than n_splits=5.\n",
            "  UserWarning,\n",
            "/usr/local/lib/python3.7/dist-packages/sklearn/model_selection/_split.py:680: UserWarning: The least populated class in y has only 4 members, which is less than n_splits=5.\n",
            "  UserWarning,\n",
            "/usr/local/lib/python3.7/dist-packages/sklearn/model_selection/_split.py:680: UserWarning: The least populated class in y has only 4 members, which is less than n_splits=5.\n",
            "  UserWarning,\n",
            "/usr/local/lib/python3.7/dist-packages/sklearn/model_selection/_split.py:680: UserWarning: The least populated class in y has only 4 members, which is less than n_splits=5.\n",
            "  UserWarning,\n",
            "/usr/local/lib/python3.7/dist-packages/sklearn/model_selection/_split.py:680: UserWarning: The least populated class in y has only 4 members, which is less than n_splits=5.\n",
            "  UserWarning,\n"
          ]
        },
        {
          "output_type": "stream",
          "name": "stdout",
          "text": [
            "f1 = 0.5636475850538352\n",
            "acc = 0.7111160714285716\n",
            "*************************\n",
            "[0.5677011183261182, 0.5636475850538352]\n"
          ]
        }
      ],
      "source": [
        "for i in range(4):\n",
        "    result_f1, result_acc, _, _, _, _, _ = get_metrics([f'DCAU{i + 1}'])\n",
        "    print(result_f1)\n",
        "    f1_data_bands_val.loc['DCAU', bands[i]] = result_f1[0]\n",
        "    acc_data_bands_val.loc['DCAU', bands[i]] = result_acc[0]\n",
        "    f1_data_bands_arousal.loc['DCAU', bands[i]] = result_f1[1]\n",
        "    acc_data_bands_arousal.loc['DCAU', bands[i]] = result_acc[1]"
      ]
    },
    {
      "cell_type": "code",
      "source": [
        "print(acc_data_bands_val)\n",
        "print(f1_data_bands_val)\n",
        "print(acc_data_bands_arousal)\n",
        "print(f1_data_bands_arousal)"
      ],
      "metadata": {
        "colab": {
          "base_uri": "https://localhost:8080/"
        },
        "id": "NnAziDLM_7tq",
        "outputId": "ec7e85bf-7b0c-4f4e-9d29-bfcb0fdb6634"
      },
      "execution_count": 36,
      "outputs": [
        {
          "output_type": "stream",
          "name": "stdout",
          "text": [
            "         theta     alpha      beta     gamma\n",
            "DE     0.66811  0.676682  0.710037  0.697939\n",
            "DASM  0.680387  0.681585  0.712307  0.681198\n",
            "RASM  0.678943  0.683936  0.705149  0.702106\n",
            "DCAU  0.649204  0.659903   0.68006  0.667537\n",
            "         theta     alpha      beta     gamma\n",
            "DE    0.565384  0.574659  0.615066  0.594975\n",
            "DASM  0.572337  0.566451  0.614011  0.563222\n",
            "RASM  0.576255  0.565401  0.606447   0.60599\n",
            "DCAU    0.5355  0.547159  0.576642  0.567701\n",
            "         theta     alpha      beta     gamma\n",
            "DE    0.698438  0.689301  0.692158  0.693921\n",
            "DASM  0.674241  0.694888  0.694717  0.698549\n",
            "RASM   0.68256  0.674583  0.700856  0.704821\n",
            "DCAU  0.663601  0.695565  0.685848  0.711116\n",
            "         theta     alpha      beta     gamma\n",
            "DE    0.542909  0.537873  0.540131  0.545048\n",
            "DASM  0.513813  0.535848  0.554446  0.565579\n",
            "RASM  0.524302  0.521706  0.547876  0.564086\n",
            "DCAU  0.507968  0.557169  0.531424  0.563648\n"
          ]
        }
      ]
    }
  ],
  "metadata": {
    "colab": {
      "collapsed_sections": [],
      "name": "MADE_no_neutral.ipynb",
      "provenance": [],
      "include_colab_link": true
    },
    "kernelspec": {
      "display_name": "Python 3",
      "name": "python3"
    },
    "language_info": {
      "name": "python"
    }
  },
  "nbformat": 4,
  "nbformat_minor": 0
}