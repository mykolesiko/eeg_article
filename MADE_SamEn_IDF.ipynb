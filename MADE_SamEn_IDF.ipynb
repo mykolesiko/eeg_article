{
  "nbformat": 4,
  "nbformat_minor": 0,
  "metadata": {
    "colab": {
      "name": "MADE_SamEn_IDF_2.ipynb",
      "provenance": [],
      "collapsed_sections": [],
      "mount_file_id": "1QTgQ-JV4DvWzkloob9iQGt1W0DQdMD4-",
      "authorship_tag": "ABX9TyNWETxCCqejAX7J2W084uVe",
      "include_colab_link": true
    },
    "kernelspec": {
      "name": "python3",
      "display_name": "Python 3"
    },
    "language_info": {
      "name": "python"
    }
  },
  "cells": [
    {
      "cell_type": "markdown",
      "metadata": {
        "id": "view-in-github",
        "colab_type": "text"
      },
      "source": [
        "<a href=\"https://colab.research.google.com/github/mykolesiko/eeg_article/blob/main/MADE_SamEn_IDF_2.ipynb\" target=\"_parent\"><img src=\"https://colab.research.google.com/assets/colab-badge.svg\" alt=\"Open In Colab\"/></a>"
      ]
    },
    {
      "cell_type": "code",
      "metadata": {
        "id": "D5ZaLZUiCRO_"
      },
      "source": [
        "import math"
      ],
      "execution_count": null,
      "outputs": []
    },
    {
      "cell_type": "code",
      "metadata": {
        "colab": {
          "base_uri": "https://localhost:8080/"
        },
        "id": "YiOT7L6FITdl",
        "outputId": "cf2e6219-be0c-411a-8305-db0bfb503d7b"
      },
      "source": [
        "pip install pyhht"
      ],
      "execution_count": null,
      "outputs": [
        {
          "output_type": "stream",
          "name": "stdout",
          "text": [
            "Looking in indexes: https://pypi.org/simple, https://us-python.pkg.dev/colab-wheels/public/simple/\n",
            "Collecting pyhht\n",
            "  Downloading pyhht-0.1.0-py3-none-any.whl (9.1 kB)\n",
            "Requirement already satisfied: numpy in /usr/local/lib/python3.7/dist-packages (from pyhht) (1.21.6)\n",
            "Requirement already satisfied: six in /usr/local/lib/python3.7/dist-packages (from pyhht) (1.15.0)\n",
            "Requirement already satisfied: matplotlib in /usr/local/lib/python3.7/dist-packages (from pyhht) (3.2.2)\n",
            "Requirement already satisfied: scipy in /usr/local/lib/python3.7/dist-packages (from pyhht) (1.4.1)\n",
            "Requirement already satisfied: kiwisolver>=1.0.1 in /usr/local/lib/python3.7/dist-packages (from matplotlib->pyhht) (1.4.2)\n",
            "Requirement already satisfied: python-dateutil>=2.1 in /usr/local/lib/python3.7/dist-packages (from matplotlib->pyhht) (2.8.2)\n",
            "Requirement already satisfied: cycler>=0.10 in /usr/local/lib/python3.7/dist-packages (from matplotlib->pyhht) (0.11.0)\n",
            "Requirement already satisfied: pyparsing!=2.0.4,!=2.1.2,!=2.1.6,>=2.0.1 in /usr/local/lib/python3.7/dist-packages (from matplotlib->pyhht) (3.0.9)\n",
            "Requirement already satisfied: typing-extensions in /usr/local/lib/python3.7/dist-packages (from kiwisolver>=1.0.1->matplotlib->pyhht) (4.2.0)\n",
            "Installing collected packages: pyhht\n",
            "Successfully installed pyhht-0.1.0\n"
          ]
        }
      ]
    },
    {
      "cell_type": "code",
      "metadata": {
        "colab": {
          "base_uri": "https://localhost:8080/"
        },
        "id": "Ul5rs-jl5zWG",
        "outputId": "203304eb-10a3-418b-e29a-98841e9aba49"
      },
      "source": [
        "pip install antropy"
      ],
      "execution_count": null,
      "outputs": [
        {
          "output_type": "stream",
          "name": "stdout",
          "text": [
            "Looking in indexes: https://pypi.org/simple, https://us-python.pkg.dev/colab-wheels/public/simple/\n",
            "Collecting antropy\n",
            "  Downloading antropy-0.1.4.tar.gz (16 kB)\n",
            "Collecting stochastic\n",
            "  Downloading stochastic-0.6.0-py3-none-any.whl (49 kB)\n",
            "\u001b[K     |████████████████████████████████| 49 kB 2.6 MB/s \n",
            "\u001b[?25hRequirement already satisfied: numpy<2.0,>=1.17 in /usr/local/lib/python3.7/dist-packages (from stochastic->antropy) (1.21.6)\n",
            "Requirement already satisfied: scipy<2.0,>=1.3 in /usr/local/lib/python3.7/dist-packages (from stochastic->antropy) (1.4.1)\n",
            "Building wheels for collected packages: antropy\n",
            "  Building wheel for antropy (setup.py) ... \u001b[?25l\u001b[?25hdone\n",
            "  Created wheel for antropy: filename=antropy-0.1.4-py3-none-any.whl size=16159 sha256=a771bf3b0e5ae04ac84026ebd0959b7e632e6bcfcbed78e98e1f51c1abe5ab0c\n",
            "  Stored in directory: /root/.cache/pip/wheels/d4/cc/6b/28fa7036bdabc6f1f92fd6a108ae259dbb48f107f676d6b491\n",
            "Successfully built antropy\n",
            "Installing collected packages: stochastic, antropy\n",
            "Successfully installed antropy-0.1.4 stochastic-0.6.0\n"
          ]
        }
      ]
    },
    {
      "cell_type": "code",
      "metadata": {
        "id": "0wusbkRHCTXx"
      },
      "source": [
        "# def dist(x, y, m):\n",
        "#   return (max(abs(x - y)))\n",
        "\n",
        "\n",
        "# def get_x(u, m, r):\n",
        "#   N = len(u)\n",
        "#   x = np.zeros((N - m + 1, m)) \n",
        "#   for i in range(N - m + 1):\n",
        "#     for j in range(m):\n",
        "#       x[i][j] = u[i + j]\n",
        "#   return x\n",
        "\n",
        "# def C_i_m(i, m, r, N, x):      \n",
        "#   temp = [1 for j in range(N - m) if ((dist(x[i], x[j], m) < r) and (i != j))]\n",
        "#   return np.sum(temp)/(N - m - 1)\n",
        "\n",
        "\n",
        "# def B_m_r(x, N , m, r):\n",
        "#   result = 0\n",
        "#   for i in range(N - m):\n",
        "#     result += C_i_m(i, m, r, N, x)\n",
        "#   result = result/(N - m)  \n",
        "#   return result  \n",
        "\n",
        "# def B_mnext_r(x, N , m, r):\n",
        "#   result = 0\n",
        "#   for i in range(1, N - m):\n",
        "#     result += C_i_m(i, m + 1, r, N, x)\n",
        "#   result = result/(N - m)  \n",
        "#   return result  \n",
        "\n",
        "# def SampEn(u, m, r):\n",
        "#   N = len(u)\n",
        "#   x = get_x(u, m, r)\n",
        "#   B = B_m_r(x, N, m, r)\n",
        "#   print(B)\n",
        "#   Bnext = B_mnext_r(x, N, m, r)\n",
        "#   print(Bnext)\n",
        "#   result = -math.log(Bnext/B)\n",
        "\n",
        "\n",
        "# import numpy as np\n",
        "\n",
        "# def SampEn(L, m, r):\n",
        "#     N = len(L)\n",
        "#     B = 0.0\n",
        "#     A = 0.0\n",
        "    \n",
        "    \n",
        "#     # Split time series and save all templates of length m\n",
        "#     xmi = np.array([L[i : i + m] for i in range(N - m)])\n",
        "#     xmj = np.array([L[i : i + m] for i in range(N - m + 1)])\n",
        "\n",
        "#     # Save all matches minus the self-match, compute B\n",
        "#     B = np.sum([np.sum(np.abs(xmii - xmj).max(axis=1) <= r) - 1 for xmii in xmi])\n",
        "\n",
        "#     # Similar for computing A\n",
        "#     m += 1\n",
        "#     xm = np.array([L[i : i + m] for i in range(N - m + 1)])\n",
        "\n",
        "#     A = np.sum([np.sum(np.abs(xmi - xm).max(axis=1) <= r) - 1 for xmi in xm])\n",
        "\n",
        "#     # Return SampEn\n",
        "#     result = -np.log(A / B)\n",
        "#     if np.isinf(result):\n",
        "#       print(result)\n",
        "\n",
        "#     if np.isnan(result):\n",
        "#         print(result)\n",
        "\n",
        "\n",
        "#     return result\n",
        "\n",
        "\n",
        "\n",
        "from sklearn.neighbors import KDTree\n",
        "\n",
        "def _embed(x, order=3, delay=1):\n",
        "    \"\"\"Time-delay embedding.\n",
        "    Parameters\n",
        "    ----------\n",
        "    x : 1d-array\n",
        "        Time series, of shape (n_times)\n",
        "    order : int\n",
        "        Embedding dimension (order).\n",
        "    delay : int\n",
        "        Delay.\n",
        "    Returns\n",
        "    -------\n",
        "    embedded : ndarray\n",
        "        Embedded time-series, of shape (n_times - (order - 1) * delay, order)\n",
        "    \"\"\"\n",
        "    N = len(x)\n",
        "    if order * delay > N:\n",
        "        raise ValueError(\"Error: order * delay should be lower than x.size\")\n",
        "    if delay < 1:\n",
        "        raise ValueError(\"Delay has to be at least 1.\")\n",
        "    if order < 2:\n",
        "        raise ValueError(\"Order has to be at least 2.\")\n",
        "    Y = np.zeros((order, N - (order - 1) * delay))\n",
        "    for i in range(order):\n",
        "        Y[i] = x[(i * delay):(i * delay + Y.shape[1])]\n",
        "    return Y.T\n",
        "\n",
        "def sample_entropy(x, order, r, metric='chebyshev', approximate=False):\n",
        "    \"\"\"Utility function for `app_entropy`` and `sample_entropy`.\n",
        "    \"\"\"\n",
        "    _all_metrics = KDTree.valid_metrics\n",
        "    if metric not in _all_metrics:\n",
        "        raise ValueError('The given metric (%s) is not valid. The valid '\n",
        "                         'metric names are: %s' % (metric, _all_metrics))\n",
        "    phi = np.zeros(2)\n",
        "    r *= np.std(x, ddof=0)\n",
        "\n",
        "    # compute phi(order, r)\n",
        "    _emb_data1 = _embed(x, order, 1)\n",
        "    if approximate:\n",
        "        emb_data1 = _emb_data1\n",
        "    else:\n",
        "        emb_data1 = _emb_data1[:-1]\n",
        "    count1 = KDTree(emb_data1, metric=metric).query_radius(emb_data1, r,\n",
        "                                                           count_only=True\n",
        "                                                           ).astype(np.float64)\n",
        "    # compute phi(order + 1, r)\n",
        "    emb_data2 = _embed(x, order + 1, 1)\n",
        "    count2 = KDTree(emb_data2, metric=metric).query_radius(emb_data2, r,\n",
        "                                                           count_only=True\n",
        "                                                           ).astype(np.float64)\n",
        "    if approximate:\n",
        "        phi[0] = np.mean(np.log(count1 / emb_data1.shape[0]))\n",
        "        phi[1] = np.mean(np.log(count2 / emb_data2.shape[0]))\n",
        "    else:\n",
        "        phi[0] = np.mean((count1 - 1) / (emb_data1.shape[0] - 1))\n",
        "        phi[1] = np.mean((count2 - 1) / (emb_data2.shape[0] - 1))\n",
        "    #return phi\n",
        "    return -np.log(np.divide(phi[1], phi[0]))\n",
        "\n",
        "\n",
        "# def sample_entropy(x, order, r):\n",
        "#     \"\"\"\n",
        "#     Fast evaluation of the sample entropy using Numba.\n",
        "#     \"\"\"\n",
        "#     n = x.size\n",
        "#     n1 = n - 1\n",
        "#     order += 1\n",
        "#     order_dbld = 2 * order\n",
        "\n",
        "#     # Define threshold\n",
        "#     r *= x.std()\n",
        "\n",
        "#     # initialize the lists\n",
        "#     run = [0] * n\n",
        "#     run1 = run[:]\n",
        "#     r1 = [0] * (n * order_dbld)\n",
        "#     a = [0] * order\n",
        "#     b = a[:]\n",
        "#     p = a[:]\n",
        "\n",
        "#     for i in range(n1):\n",
        "#         nj = n1 - i\n",
        "\n",
        "#         for jj in range(nj):\n",
        "#             j = jj + i + 1\n",
        "#             if abs(x[j] - x[i]) < r:\n",
        "#                 run[jj] = run1[jj] + 1\n",
        "#                 m1 = order if order < run[jj] else run[jj]\n",
        "#                 for m in range(m1):\n",
        "#                     a[m] += 1\n",
        "#                     if j < n1:\n",
        "#                         b[m] += 1\n",
        "#             else:\n",
        "#                 run[jj] = 0\n",
        "#         for j in range(order_dbld):\n",
        "#             run1[j] = run[j]\n",
        "#             r1[i + n * j] = run[j]\n",
        "#         if nj > order_dbld - 1:\n",
        "#             for j in range(order_dbld, nj):\n",
        "#                 run1[j] = run[j]\n",
        "\n",
        "#     m = order - 1\n",
        "\n",
        "#     while m > 0:\n",
        "#         b[m] = b[m - 1]\n",
        "#         m -= 1\n",
        "\n",
        "#     b[0] = n * n1 / 2\n",
        "#     a = np.array([float(aa) for aa in a])\n",
        "#     b = np.array([float(bb) for bb in b])\n",
        "#     p = np.true_divide(a, b)\n",
        "#     return -np.log(p[-1])\n",
        "\n",
        "\n"
      ],
      "execution_count": null,
      "outputs": []
    },
    {
      "cell_type": "code",
      "metadata": {
        "id": "UoSuJUC9IGMt"
      },
      "source": [
        "import numpy as np\n",
        "import pandas as pd\n",
        "from sklearn import datasets\n",
        "import matplotlib.pyplot as plt\n",
        "from pyhht.emd import EMD\n",
        "from pyhht.visualization import plot_imfs\n",
        "\n",
        "def get_imfs(x):\n",
        "  \n",
        "    # Загрузить данные временных рядов\n",
        "    #data = pd.read_csv('D:/passengervolume.csv',header=None)\n",
        "    #EMD Эмпирическая модальная декомпозиция\n",
        "    n = len(x)\n",
        "    decomposer = EMD(x, n_imfs = 4)               \n",
        "    imfs = decomposer.decompose()\n",
        "    #plot_imfs(x,  imfs, np.arange(n))\n",
        "    return imfs\n",
        "    \n"
      ],
      "execution_count": null,
      "outputs": []
    },
    {
      "cell_type": "code",
      "metadata": {
        "id": "-mx5RD0wCW9t"
      },
      "source": [
        "import os\n",
        "os.chdir(\"/content/drive/MyDrive/MADE/Project/deap\")"
      ],
      "execution_count": null,
      "outputs": []
    },
    {
      "cell_type": "code",
      "metadata": {
        "id": "PwPfZc8hEq9G"
      },
      "source": [
        "import glob\n",
        "import pickle\n",
        "data = []\n",
        "labels = []\n",
        "data_dir = './data_preprocessed_python'\n",
        "files = glob.glob(os.path.join(data_dir, \"*.dat\"))\n",
        "\n",
        "for file_data in files:\n",
        "    raw_data = pickle.load(open(file_data, 'rb'), encoding='latin1')\n",
        "    data.append(raw_data['data'])\n",
        "    labels.append(raw_data['labels'])"
      ],
      "execution_count": null,
      "outputs": []
    },
    {
      "cell_type": "code",
      "metadata": {
        "id": "XnIJICN6JM1V"
      },
      "source": [
        " result = get_imfs(data[0][0, 0, :])"
      ],
      "execution_count": null,
      "outputs": []
    },
    {
      "cell_type": "code",
      "metadata": {
        "colab": {
          "base_uri": "https://localhost:8080/",
          "height": 282
        },
        "id": "1kc6C5uwpfSj",
        "outputId": "c743e82f-948e-41fc-a6c5-dd0a78ec7daf"
      },
      "source": [
        "plt.plot(result[4, :])"
      ],
      "execution_count": null,
      "outputs": [
        {
          "output_type": "execute_result",
          "data": {
            "text/plain": [
              "[<matplotlib.lines.Line2D at 0x7f12f168eb50>]"
            ]
          },
          "metadata": {},
          "execution_count": 10
        },
        {
          "output_type": "display_data",
          "data": {
            "text/plain": [
              "<Figure size 432x288 with 1 Axes>"
            ],
            "image/png": "[encoded data removed]"
          },
          "metadata": {
            "needs_background": "light"
          }
        }
      ]
    },
    {
      "cell_type": "code",
      "metadata": {
        "id": "tMuwr0JTFa-H",
        "colab": {
          "base_uri": "https://localhost:8080/"
        },
        "outputId": "23d9780d-d1f7-4371-c534-82183539ab51"
      },
      "source": [
        "import antropy as ant\n",
        "m = 3\n",
        "r = 0.25\n",
        "interval = 128\n",
        "#def get_features(m, r, interval):\n",
        "n = int(1152/interval)\n",
        "features = np.zeros((32, 40, 4 * 2 * n))\n",
        "for sub in range(0, 32):\n",
        "    print(f\"sub = {sub}\")\n",
        "    for nvideo in range(40):\n",
        "        #print(nvideo)\n",
        "        ifms1 = get_imfs(data[sub][nvideo, 2,  33 * 128 : 42 * 128])\n",
        "        ifms2 = get_imfs(data[sub][nvideo, 24,  33 * 128 : 42 * 128])\n",
        "        k = 0\n",
        "        for i  in range(4):\n",
        "            for nsec in range(0, 1152, interval):\n",
        "                temp = ant.sample_entropy(ifms1[i][nsec: nsec + interval], 1)\n",
        "                #temp = SampEn(ifms1[i][nsec: nsec + interval], m, r)\n",
        "                #temp = sample_entropy(ifms1[i][nsec: nsec + interval], m, r)\n",
        "                #print(temp)\n",
        "                features[sub, nvideo, k] = temp\n",
        "                k += 1\n",
        "                temp = ant.sample_entropy(ifms2[i][nsec: nsec + interval], 1)\n",
        "                #temp = sample_entropy(ifms2[i][nsec: nsec + interval], m, r)\n",
        "                #temp = SampEn(ifms2[i][nsec: nsec + interval], m, r)\n",
        "                #print(temp)\n",
        "                features[sub, nvideo, k] = temp\n",
        "                k += 1\n",
        "   #return features             \n"
      ],
      "execution_count": null,
      "outputs": [
        {
          "output_type": "stream",
          "name": "stdout",
          "text": [
            "sub = 0\n",
            "sub = 1\n",
            "sub = 2\n",
            "sub = 3\n",
            "sub = 4\n",
            "sub = 5\n",
            "sub = 6\n",
            "sub = 7\n",
            "sub = 8\n",
            "sub = 9\n",
            "sub = 10\n",
            "sub = 11\n",
            "Mode 4, Iteration 600\n",
            "0 minima > 0; 40 maxima < 0.\n",
            "sub = 12\n",
            "sub = 13\n",
            "sub = 14\n",
            "sub = 15\n",
            "sub = 16\n",
            "sub = 17\n",
            "sub = 18\n",
            "sub = 19\n",
            "sub = 20\n",
            "sub = 21\n",
            "sub = 22\n",
            "sub = 23\n",
            "sub = 24\n",
            "sub = 25\n",
            "sub = 26\n",
            "sub = 27\n",
            "sub = 28\n",
            "sub = 29\n",
            "sub = 30\n",
            "sub = 31\n"
          ]
        }
      ]
    },
    {
      "cell_type": "code",
      "metadata": {
        "id": "YufthKKC6gHl"
      },
      "source": [
        "print(features)"
      ],
      "execution_count": null,
      "outputs": []
    },
    {
      "cell_type": "code",
      "metadata": {
        "id": "d4yLOQ3_Lzup"
      },
      "source": [
        "#features = get_features(1, 0.15, 128)"
      ],
      "execution_count": null,
      "outputs": []
    },
    {
      "cell_type": "code",
      "metadata": {
        "colab": {
          "base_uri": "https://localhost:8080/"
        },
        "id": "kP80IhYfWkb8",
        "outputId": "f1afde56-b2eb-4041-d44c-4b1460c81f0b"
      },
      "source": [
        "print(features.shape)"
      ],
      "execution_count": null,
      "outputs": [
        {
          "output_type": "stream",
          "name": "stdout",
          "text": [
            "(32, 40, 72)\n"
          ]
        }
      ]
    },
    {
      "cell_type": "code",
      "metadata": {
        "colab": {
          "base_uri": "https://localhost:8080/"
        },
        "id": "qUUiqvrVeGty",
        "outputId": "7e1ec6c2-4834-4d78-c871-5e678ec9bfea"
      },
      "source": [
        "print(features[1][0])"
      ],
      "execution_count": null,
      "outputs": [
        {
          "output_type": "stream",
          "name": "stdout",
          "text": [
            "[3.87639583 3.66612247 0.         0.         0.         3.49144426\n",
            " 0.         4.29045944 0.         4.14048572 3.59273559 3.2054528\n",
            " 3.59043938 3.53368656 3.25809654 4.54859983 0.         3.55248683\n",
            " 0.         2.71359038 3.4657359  3.61765194 3.54817957 3.78418963\n",
            " 4.34380542 3.95842938 0.         3.75731662 0.         3.263576\n",
            " 4.31748811 3.03735395 0.         3.04111528 3.61988658 3.06514172\n",
            " 0.         2.42774824 0.         2.37822251 0.         1.90251083\n",
            " 2.60268969 2.88417979 0.         4.13516656 0.         2.83321334\n",
            " 3.44998755 2.73336801 2.49869997 1.89519506 2.96183072 2.81264119\n",
            " 2.03552231 0.74524229 0.82472354 0.87071322 2.19722458 0.82728874\n",
            " 2.41591378 1.35533214 1.40876722 1.31836025 1.91416145 1.23604232\n",
            " 1.64470605 1.15492346 1.4045098  0.78671974 1.58240924 0.35963666]\n"
          ]
        }
      ]
    },
    {
      "cell_type": "code",
      "metadata": {
        "id": "48YbtbZF1b0z"
      },
      "source": [
        "# import pickle\n",
        "# with open(\"ifms_features_0.05_2\", \"wb\") as fp:\n",
        "#   pickle.dump(features, fp)"
      ],
      "execution_count": null,
      "outputs": []
    },
    {
      "cell_type": "code",
      "metadata": {
        "id": "Pt6Tt5nH2J4N"
      },
      "source": [
        "# import pickle\n",
        "# with open(\"ifms_features_good\", \"rb\") as fp:\n",
        "#    features = pickle.load(fp)"
      ],
      "execution_count": null,
      "outputs": []
    },
    {
      "cell_type": "code",
      "metadata": {
        "id": "x8ti2iPfMmeY"
      },
      "source": [
        "HAHV = 0\n",
        "LAHV = 1\n",
        "LALV = 2\n",
        "HALV = 3\n",
        "labels_bin = np.zeros((32, 40, 1))\n",
        "labels = np.array(labels)\n",
        "#for i in range(32):\n",
        "HV = labels[:, :, 0:1] >= 5\n",
        "HA = labels[:, :, 1:2] >= 5\n",
        "LV = labels[:, :, 0:1] < 5\n",
        "LA = labels[:, :, 1:2] < 5\n",
        "labels_bin[HA & HV] = HAHV\n",
        "labels_bin[LA & HV] = LAHV\n",
        "labels_bin[LA & LV] = LALV\n",
        "labels_bin[HA & LV] = HALV\n",
        "\n",
        "\n",
        "#labels_all_bin = np.vstack(labels_bin)  "
      ],
      "execution_count": null,
      "outputs": []
    },
    {
      "cell_type": "code",
      "metadata": {
        "id": "9wVC0QzJ_njP"
      },
      "source": [
        "X = features.reshape(-1, 72)\n",
        "y = labels_bin.reshape(-1, 1).ravel()"
      ],
      "execution_count": null,
      "outputs": []
    },
    {
      "cell_type": "code",
      "metadata": {
        "id": "Re6w5qwsR-Vu"
      },
      "source": [
        "#pip install -U libsvm-official\n",
        "#from libsvm.svmutil import *"
      ],
      "execution_count": null,
      "outputs": []
    },
    {
      "cell_type": "code",
      "metadata": {
        "id": "IfjNDfP9-690"
      },
      "source": [
        "# X = features.reshape(-1, 72)\n",
        "# y = labels_bin.reshape(-1, 1).ravel()\n"
      ],
      "execution_count": null,
      "outputs": []
    },
    {
      "cell_type": "code",
      "metadata": {
        "id": "WTiIHPjOOJL2"
      },
      "source": [
        "from sklearn.preprocessing import StandardScaler\n",
        "\n",
        "X_scales = StandardScaler().fit_transform(X)"
      ],
      "execution_count": null,
      "outputs": []
    },
    {
      "cell_type": "code",
      "metadata": {
        "id": "P5evEEPAS1sa"
      },
      "source": [
        "print(pow)"
      ],
      "execution_count": null,
      "outputs": []
    },
    {
      "cell_type": "code",
      "metadata": {
        "id": "xU6axhDHzMAB",
        "colab": {
          "base_uri": "https://localhost:8080/"
        },
        "outputId": "dcb83528-a120-4c80-f528-4569492827ff"
      },
      "source": [
        "from sklearn import svm, datasets\n",
        "from sklearn.model_selection import GridSearchCV\n",
        "\n",
        "\n",
        "pows2 = [2.0 ** n for n in np.arange(-10, 10, 1)]\n",
        "parameters = {'kernel':(['rbf']), 'C': pows2, 'gamma' : pows2, 'class_weight': (['balanced'])}\n",
        "svc = svm.SVC()\n",
        "clf = GridSearchCV(svc, parameters, scoring='accuracy', cv=5, n_jobs=-1)\n",
        "clf.fit(X, y)\n",
        "\n",
        "\n",
        "\n",
        "\n",
        "\n",
        "\n",
        "#from sklearn.svm import SVC\n",
        "#clf = make_pipeline(StandardScaler(), SVC(gamma='auto'))\n",
        "#clf.fit(X, y)\n",
        "##Pipeline(steps=[('standardscaler', StandardScaler()),\n",
        "  #              ('svc', SVC(gamma='auto'))])"
      ],
      "execution_count": null,
      "outputs": [
        {
          "output_type": "execute_result",
          "data": {
            "text/plain": [
              "GridSearchCV(cv=5, estimator=SVC(), n_jobs=-1,\n",
              "             param_grid={'C': [0.0009765625, 0.001953125, 0.00390625, 0.0078125,\n",
              "                               0.015625, 0.03125, 0.0625, 0.125, 0.25, 0.5, 1.0,\n",
              "                               2.0, 4.0, 8.0, 16.0, 32.0, 64.0, 128.0, 256.0,\n",
              "                               512.0],\n",
              "                         'class_weight': ['balanced'],\n",
              "                         'gamma': [0.0009765625, 0.001953125, 0.00390625,\n",
              "                                   0.0078125, 0.015625, 0.03125, 0.0625, 0.125,\n",
              "                                   0.25, 0.5, 1.0, 2.0, 4.0, 8.0, 16.0, 32.0,\n",
              "                                   64.0, 128.0, 256.0, 512.0],\n",
              "                         'kernel': ['rbf']},\n",
              "             scoring='accuracy')"
            ]
          },
          "metadata": {},
          "execution_count": 20
        }
      ]
    },
    {
      "cell_type": "code",
      "metadata": {
        "colab": {
          "base_uri": "https://localhost:8080/"
        },
        "id": "gUmAGHPpxfVP",
        "outputId": "4cf1b9e6-8f11-436d-c93d-d7bd8a0c0c44"
      },
      "source": [
        "print(clf.best_score_, clf.best_params_)"
      ],
      "execution_count": null,
      "outputs": [
        {
          "output_type": "stream",
          "name": "stdout",
          "text": [
            "0.3578125 {'C': 1.0, 'class_weight': 'balanced', 'gamma': 2.0, 'kernel': 'rbf'}\n"
          ]
        }
      ]
    },
    {
      "cell_type": "code",
      "metadata": {
        "id": "-oR9qg3vq-qZ"
      },
      "source": [
        "from sklearn.impute import SimpleImputer\n",
        "  \n",
        "# Using Imputer function to replace NaN\n",
        "# values with mean of that parameter value\n",
        "imputer = SimpleImputer(missing_values=np.nan, strategy='mean')\n",
        "\n",
        "X1 = imputer.fit_transform(X1)"
      ],
      "execution_count": null,
      "outputs": []
    },
    {
      "cell_type": "code",
      "metadata": {
        "id": "HygUiUTPpUcL"
      },
      "source": [
        "from sklearn.model_selection import train_test_split\n",
        "\n",
        "#X_train, X_test, y_train, y_test = train_test_split(X, y, test_size=0.1, random_state=42)\n",
        "X_train, X_test, y_train, y_test = train_test_split(X_scales, y, test_size=0.1, random_state=42)"
      ],
      "execution_count": null,
      "outputs": []
    },
    {
      "cell_type": "code",
      "metadata": {
        "id": "hP4qIe2RRYey",
        "colab": {
          "base_uri": "https://localhost:8080/",
          "height": 796
        },
        "outputId": "ca8d5e01-fef0-436c-f354-94377fea26c5"
      },
      "source": [
        "from sklearn.model_selection import train_test_split\n",
        "from sklearn.metrics import accuracy_score\n",
        "\n",
        "for i in range(1000):\n",
        "    X_train, X_test, y_train, y_test = train_test_split(X, y, test_size=0.1)\n",
        "    svc = svm.SVC(C=0.0009765625, class_weight = 'balanced', gamma = 2.0, kernel = 'rbf', decision_function_shape ='ovo')\n",
        "    svc.fit(X_train, y_train)\n",
        "    pred = svc.predict(X_test)\n",
        "    print(accuracy_score(pred, y_test))\n",
        "\n",
        "\n"
      ],
      "execution_count": null,
      "outputs": [
        {
          "output_type": "stream",
          "name": "stdout",
          "text": [
            "0.2578125\n",
            "0.2109375\n",
            "0.359375\n",
            "0.21875\n",
            "0.234375\n",
            "0.234375\n",
            "0.1953125\n",
            "0.4140625\n",
            "0.3671875\n",
            "0.234375\n",
            "0.2578125\n",
            "0.359375\n",
            "0.3203125\n",
            "0.2109375\n",
            "0.171875\n",
            "0.1640625\n",
            "0.3125\n",
            "0.296875\n",
            "0.2578125\n",
            "0.21875\n",
            "0.1875\n",
            "0.234375\n",
            "0.265625\n",
            "0.1875\n"
          ]
        },
        {
          "output_type": "error",
          "ename": "KeyboardInterrupt",
          "evalue": "ignored",
          "traceback": [
            "\u001b[0;31m---------------------------------------------------------------------------\u001b[0m",
            "\u001b[0;31mKeyboardInterrupt\u001b[0m                         Traceback (most recent call last)",
            "\u001b[0;32m<ipython-input-33-a5fbe8959786>\u001b[0m in \u001b[0;36m<module>\u001b[0;34m()\u001b[0m\n\u001b[1;32m      5\u001b[0m     \u001b[0mX_train\u001b[0m\u001b[0;34m,\u001b[0m \u001b[0mX_test\u001b[0m\u001b[0;34m,\u001b[0m \u001b[0my_train\u001b[0m\u001b[0;34m,\u001b[0m \u001b[0my_test\u001b[0m \u001b[0;34m=\u001b[0m \u001b[0mtrain_test_split\u001b[0m\u001b[0;34m(\u001b[0m\u001b[0mX\u001b[0m\u001b[0;34m,\u001b[0m \u001b[0my\u001b[0m\u001b[0;34m,\u001b[0m \u001b[0mtest_size\u001b[0m\u001b[0;34m=\u001b[0m\u001b[0;36m0.1\u001b[0m\u001b[0;34m)\u001b[0m\u001b[0;34m\u001b[0m\u001b[0;34m\u001b[0m\u001b[0m\n\u001b[1;32m      6\u001b[0m     \u001b[0msvc\u001b[0m \u001b[0;34m=\u001b[0m \u001b[0msvm\u001b[0m\u001b[0;34m.\u001b[0m\u001b[0mSVC\u001b[0m\u001b[0;34m(\u001b[0m\u001b[0mC\u001b[0m\u001b[0;34m=\u001b[0m\u001b[0;36m0.0009765625\u001b[0m\u001b[0;34m,\u001b[0m \u001b[0mclass_weight\u001b[0m \u001b[0;34m=\u001b[0m \u001b[0;34m'balanced'\u001b[0m\u001b[0;34m,\u001b[0m \u001b[0mgamma\u001b[0m \u001b[0;34m=\u001b[0m \u001b[0;36m2.0\u001b[0m\u001b[0;34m,\u001b[0m \u001b[0mkernel\u001b[0m \u001b[0;34m=\u001b[0m \u001b[0;34m'rbf'\u001b[0m\u001b[0;34m,\u001b[0m \u001b[0mdecision_function_shape\u001b[0m \u001b[0;34m=\u001b[0m\u001b[0;34m'ovo'\u001b[0m\u001b[0;34m)\u001b[0m\u001b[0;34m\u001b[0m\u001b[0;34m\u001b[0m\u001b[0m\n\u001b[0;32m----> 7\u001b[0;31m     \u001b[0msvc\u001b[0m\u001b[0;34m.\u001b[0m\u001b[0mfit\u001b[0m\u001b[0;34m(\u001b[0m\u001b[0mX_train\u001b[0m\u001b[0;34m,\u001b[0m \u001b[0my_train\u001b[0m\u001b[0;34m)\u001b[0m\u001b[0;34m\u001b[0m\u001b[0;34m\u001b[0m\u001b[0m\n\u001b[0m\u001b[1;32m      8\u001b[0m     \u001b[0mpred\u001b[0m \u001b[0;34m=\u001b[0m \u001b[0msvc\u001b[0m\u001b[0;34m.\u001b[0m\u001b[0mpredict\u001b[0m\u001b[0;34m(\u001b[0m\u001b[0mX_test\u001b[0m\u001b[0;34m)\u001b[0m\u001b[0;34m\u001b[0m\u001b[0;34m\u001b[0m\u001b[0m\n\u001b[1;32m      9\u001b[0m     \u001b[0mprint\u001b[0m\u001b[0;34m(\u001b[0m\u001b[0maccuracy_score\u001b[0m\u001b[0;34m(\u001b[0m\u001b[0mpred\u001b[0m\u001b[0;34m,\u001b[0m \u001b[0my_test\u001b[0m\u001b[0;34m)\u001b[0m\u001b[0;34m)\u001b[0m\u001b[0;34m\u001b[0m\u001b[0;34m\u001b[0m\u001b[0m\n",
            "\u001b[0;32m/usr/local/lib/python3.7/dist-packages/sklearn/svm/_base.py\u001b[0m in \u001b[0;36mfit\u001b[0;34m(self, X, y, sample_weight)\u001b[0m\n\u001b[1;32m    253\u001b[0m \u001b[0;34m\u001b[0m\u001b[0m\n\u001b[1;32m    254\u001b[0m         \u001b[0mseed\u001b[0m \u001b[0;34m=\u001b[0m \u001b[0mrnd\u001b[0m\u001b[0;34m.\u001b[0m\u001b[0mrandint\u001b[0m\u001b[0;34m(\u001b[0m\u001b[0mnp\u001b[0m\u001b[0;34m.\u001b[0m\u001b[0miinfo\u001b[0m\u001b[0;34m(\u001b[0m\u001b[0;34m\"i\"\u001b[0m\u001b[0;34m)\u001b[0m\u001b[0;34m.\u001b[0m\u001b[0mmax\u001b[0m\u001b[0;34m)\u001b[0m\u001b[0;34m\u001b[0m\u001b[0;34m\u001b[0m\u001b[0m\n\u001b[0;32m--> 255\u001b[0;31m         \u001b[0mfit\u001b[0m\u001b[0;34m(\u001b[0m\u001b[0mX\u001b[0m\u001b[0;34m,\u001b[0m \u001b[0my\u001b[0m\u001b[0;34m,\u001b[0m \u001b[0msample_weight\u001b[0m\u001b[0;34m,\u001b[0m \u001b[0msolver_type\u001b[0m\u001b[0;34m,\u001b[0m \u001b[0mkernel\u001b[0m\u001b[0;34m,\u001b[0m \u001b[0mrandom_seed\u001b[0m\u001b[0;34m=\u001b[0m\u001b[0mseed\u001b[0m\u001b[0;34m)\u001b[0m\u001b[0;34m\u001b[0m\u001b[0;34m\u001b[0m\u001b[0m\n\u001b[0m\u001b[1;32m    256\u001b[0m         \u001b[0;31m# see comment on the other call to np.iinfo in this file\u001b[0m\u001b[0;34m\u001b[0m\u001b[0;34m\u001b[0m\u001b[0;34m\u001b[0m\u001b[0m\n\u001b[1;32m    257\u001b[0m \u001b[0;34m\u001b[0m\u001b[0m\n",
            "\u001b[0;32m/usr/local/lib/python3.7/dist-packages/sklearn/svm/_base.py\u001b[0m in \u001b[0;36m_dense_fit\u001b[0;34m(self, X, y, sample_weight, solver_type, kernel, random_seed)\u001b[0m\n\u001b[1;32m    331\u001b[0m             \u001b[0mepsilon\u001b[0m\u001b[0;34m=\u001b[0m\u001b[0mself\u001b[0m\u001b[0;34m.\u001b[0m\u001b[0mepsilon\u001b[0m\u001b[0;34m,\u001b[0m\u001b[0;34m\u001b[0m\u001b[0;34m\u001b[0m\u001b[0m\n\u001b[1;32m    332\u001b[0m             \u001b[0mmax_iter\u001b[0m\u001b[0;34m=\u001b[0m\u001b[0mself\u001b[0m\u001b[0;34m.\u001b[0m\u001b[0mmax_iter\u001b[0m\u001b[0;34m,\u001b[0m\u001b[0;34m\u001b[0m\u001b[0;34m\u001b[0m\u001b[0m\n\u001b[0;32m--> 333\u001b[0;31m             \u001b[0mrandom_seed\u001b[0m\u001b[0;34m=\u001b[0m\u001b[0mrandom_seed\u001b[0m\u001b[0;34m,\u001b[0m\u001b[0;34m\u001b[0m\u001b[0;34m\u001b[0m\u001b[0m\n\u001b[0m\u001b[1;32m    334\u001b[0m         )\n\u001b[1;32m    335\u001b[0m \u001b[0;34m\u001b[0m\u001b[0m\n",
            "\u001b[0;31mKeyboardInterrupt\u001b[0m: "
          ]
        }
      ]
    },
    {
      "cell_type": "code",
      "metadata": {
        "colab": {
          "base_uri": "https://localhost:8080/"
        },
        "id": "JsqT885QqHgA",
        "outputId": "cb3de24a-ff31-4dbf-b6be-ed3546cd4588"
      },
      "source": [
        "from sklearn import svm, datasets\n",
        "#from sklearn.ensemble import RandomForestClassifier\n",
        "svc = svm.SVC(C=0.0009765625, class_weight = 'balanced', gamma = 2.0, kernel = 'rbf')\n",
        "#model = RandomForestClassifier(500)\n",
        "svc.fit(X_train, y_train)\n",
        "#model.fit(X_train, y_train)"
      ],
      "execution_count": null,
      "outputs": [
        {
          "output_type": "execute_result",
          "data": {
            "text/plain": [
              "SVC(C=0.0009765625, class_weight='balanced', gamma=2.0)"
            ]
          },
          "metadata": {},
          "execution_count": 316
        }
      ]
    },
    {
      "cell_type": "code",
      "metadata": {
        "colab": {
          "base_uri": "https://localhost:8080/"
        },
        "id": "fVhgbYo7vedr",
        "outputId": "c0651e8f-6247-4bf2-f77b-a425d49b8ebc"
      },
      "source": [
        "from sklearn.metrics import accuracy_score\n",
        "\n",
        "pred = svc.predict(X_test)\n",
        "#pred = model.predict(X_test)\n",
        "print(accuracy_score(pred, y_test))"
      ],
      "execution_count": null,
      "outputs": [
        {
          "output_type": "stream",
          "name": "stdout",
          "text": [
            "0.2\n"
          ]
        }
      ]
    }
  ]
}